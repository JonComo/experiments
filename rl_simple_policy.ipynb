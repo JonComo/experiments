{
 "cells": [
  {
   "cell_type": "code",
   "execution_count": 1,
   "metadata": {
    "collapsed": true
   },
   "outputs": [],
   "source": [
    "%matplotlib inline"
   ]
  },
  {
   "cell_type": "code",
   "execution_count": 2,
   "metadata": {
    "collapsed": true
   },
   "outputs": [],
   "source": [
    "from matplotlib import pyplot as plt\n",
    "import numpy as np\n",
    "import tensorflow as tf\n",
    "from ipywidgets import interact\n",
    "from IPython.display import clear_output"
   ]
  },
  {
   "cell_type": "code",
   "execution_count": 7,
   "metadata": {
    "collapsed": false
   },
   "outputs": [],
   "source": [
    "# Constants\n",
    "\n",
    "STATES = 10\n",
    "\n",
    "IN = 1\n",
    "HIDDEN = 100\n",
    "OUT = 3\n",
    "\n",
    "GAMMA = .9\n",
    "\n",
    "S = np.array([i for i in range(STATES)])\n",
    "S_U = S.mean()\n",
    "S_STD = S.std()\n",
    "\n",
    "def normalize(s):\n",
    "    return (s-S_U) / S_STD\n",
    "\n",
    "def vis_qs():\n",
    "    q_list = np.array([y.eval({x: [[normalize(s)]]}) for s in S])\n",
    "    plt.plot(q_list[:,0], c='r')\n",
    "    plt.plot(q_list[:,1], c='g')\n",
    "    plt.plot(q_list[:,2], c='b')\n",
    "    \n",
    "def policy(qs, eps):\n",
    "    dist = np.full((OUT), float(eps)/float(OUT))\n",
    "    dist[np.argmax(qs)] += (1.0 - eps)\n",
    "    return dist\n",
    "    \n",
    "def sample_action(policy):\n",
    "    return np.random.choice([i for i in range(OUT)], p=policy)\n",
    "\n",
    "def ds_action(a):\n",
    "    return [0, -1, 1][a]\n",
    "\n",
    "def bound(s):\n",
    "    if s > STATES-1:\n",
    "        return 0\n",
    "    elif s < 0:\n",
    "        return STATES-1\n",
    "    return s"
   ]
  },
  {
   "cell_type": "code",
   "execution_count": 8,
   "metadata": {
    "collapsed": false
   },
   "outputs": [],
   "source": [
    "# Define network\n",
    "\n",
    "x = tf.placeholder(tf.float32)\n",
    "t = tf.placeholder(tf.float32)\n",
    "\n",
    "W1 = tf.Variable(tf.random_normal((HIDDEN, IN)))\n",
    "b1 = tf.Variable(tf.random_normal((HIDDEN, 1)))\n",
    "\n",
    "W2 = tf.Variable(tf.random_normal((OUT, HIDDEN)))\n",
    "b2 = tf.Variable(tf.random_normal((OUT, 1)))\n",
    "\n",
    "h1 = tf.tanh(tf.matmul(W1, x) + b1)\n",
    "y = tf.matmul(W2, h1) + b2\n",
    "\n",
    "cost = tf.reduce_mean(tf.square(y - t))"
   ]
  },
  {
   "cell_type": "code",
   "execution_count": 9,
   "metadata": {
    "collapsed": true
   },
   "outputs": [],
   "source": [
    "if 'session' in globals():\n",
    "    session.close()\n",
    "    \n",
    "session = tf.InteractiveSession()\n",
    "session.run(tf.initialize_all_variables())"
   ]
  },
  {
   "cell_type": "code",
   "execution_count": 11,
   "metadata": {
    "collapsed": true
   },
   "outputs": [],
   "source": [
    "train = tf.train.GradientDescentOptimizer(0.01).minimize(cost)"
   ]
  },
  {
   "cell_type": "code",
   "execution_count": 12,
   "metadata": {
    "collapsed": false
   },
   "outputs": [
    {
     "data": {
      "image/png": "[encoded data removed]",
      "text/plain": [
       "<matplotlib.figure.Figure at 0x1127c3470>"
      ]
     },
     "metadata": {},
     "output_type": "display_data"
    },
    {
     "name": "stdout",
     "output_type": "stream",
     "text": [
      "cost 0.000583014\n"
     ]
    }
   ],
   "source": [
    "eps = 1.0\n",
    "\n",
    "for i in range(10000):\n",
    "    s1 = np.random.randint(STATES)\n",
    "    \n",
    "    q1 = y.eval({x: [[normalize(s1)]]})\n",
    "\n",
    "    # sample action from qs\n",
    "    a = sample_action(policy(q1, eps))\n",
    "\n",
    "    # apply action\n",
    "    s2 = bound(s1 + ds_action(a))\n",
    "\n",
    "    # get qs\n",
    "    q2 = y.eval({x: [[normalize(s2)]]})\n",
    "\n",
    "    reward = 0\n",
    "    if s2 == 5:\n",
    "        reward = 1\n",
    "\n",
    "    # construct target\n",
    "    target_q = q1\n",
    "    target_q[a] = reward + GAMMA * q2.T.dot(policy(q2, eps))\n",
    "\n",
    "    session.run(train, {x: [[normalize(s1)]], t: target_q})\n",
    "    \n",
    "    if i % 1000 == 0:\n",
    "        c = cost.eval({x: [[normalize(s1)]], t: target_q})\n",
    "        clear_output(wait=True)\n",
    "        vis_qs()\n",
    "        plt.show()\n",
    "        print('cost', c)"
   ]
  },
  {
   "cell_type": "code",
   "execution_count": 14,
   "metadata": {
    "collapsed": false
   },
   "outputs": [
    {
     "data": {
      "image/png": "[encoded data removed]",
      "text/plain": [
       "<matplotlib.figure.Figure at 0x11265eb38>"
      ]
     },
     "metadata": {},
     "output_type": "display_data"
    }
   ],
   "source": [
    "eps = 1.0\n",
    "\n",
    "def quality(e):\n",
    "    avg = 0.0\n",
    "    runs = 100\n",
    "    for run in range(runs):\n",
    "        s = np.random.randint(STATES)\n",
    "        c = 0\n",
    "        while not (s == 5):\n",
    "            q1 = y.eval({x: [[normalize(s)]]})\n",
    "\n",
    "            # sample action from qs\n",
    "            a = sample_action(policy(q1, e))\n",
    "            \n",
    "            # apply action\n",
    "            s = bound(s + ds_action(a))\n",
    "            c += 1\n",
    "            if c > 60:\n",
    "                break\n",
    "        avg += float(c) / float(runs)\n",
    "    return avg\n",
    "    \n",
    "q = [quality(e) for e in np.linspace(1.0, 0.0, 5)]\n",
    "\n",
    "fig = plt.plot(q)"
   ]
  },
  {
   "cell_type": "code",
   "execution_count": 16,
   "metadata": {
    "collapsed": false
   },
   "outputs": [
    {
     "data": {
      "text/plain": [
       "2.6899999999999986"
      ]
     },
     "execution_count": 16,
     "metadata": {},
     "output_type": "execute_result"
    }
   ],
   "source": [
    "quality(.1)"
   ]
  },
  {
   "cell_type": "code",
   "execution_count": null,
   "metadata": {
    "collapsed": true
   },
   "outputs": [],
   "source": []
  },
  {
   "cell_type": "code",
   "execution_count": null,
   "metadata": {
    "collapsed": true
   },
   "outputs": [],
   "source": []
  },
  {
   "cell_type": "code",
   "execution_count": null,
   "metadata": {
    "collapsed": true
   },
   "outputs": [],
   "source": []
  },
  {
   "cell_type": "code",
   "execution_count": null,
   "metadata": {
    "collapsed": true
   },
   "outputs": [],
   "source": []
  }
 ],
 "metadata": {
  "kernelspec": {
   "display_name": "Python 3",
   "language": "python",
   "name": "python3"
  },
  "language_info": {
   "codemirror_mode": {
    "name": "ipython",
    "version": 3
   },
   "file_extension": ".py",
   "mimetype": "text/x-python",
   "name": "python",
   "nbconvert_exporter": "python",
   "pygments_lexer": "ipython3",
   "version": "3.4.4"
  }
 },
 "nbformat": 4,
 "nbformat_minor": 0
}
