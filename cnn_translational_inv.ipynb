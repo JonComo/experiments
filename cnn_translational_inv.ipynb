{
 "cells": [
  {
   "cell_type": "code",
   "execution_count": 1,
   "metadata": {
    "collapsed": true
   },
   "outputs": [],
   "source": [
    "%matplotlib inline"
   ]
  },
  {
   "cell_type": "code",
   "execution_count": 2,
   "metadata": {
    "collapsed": true
   },
   "outputs": [],
   "source": [
    "from matplotlib import pyplot as plt\n",
    "import numpy as np\n",
    "import tensorflow as tf\n",
    "from IPython.display import clear_output\n",
    "from ipywidgets import interact\n",
    "from tensorflow.examples.tutorials.mnist import input_data"
   ]
  },
  {
   "cell_type": "code",
   "execution_count": 3,
   "metadata": {
    "collapsed": false
   },
   "outputs": [
    {
     "name": "stdout",
     "output_type": "stream",
     "text": [
      "Extracting ./../../data/images/mnist/train-images-idx3-ubyte.gz\n",
      "Extracting ./../../data/images/mnist/train-labels-idx1-ubyte.gz\n",
      "Extracting ./../../data/images/mnist/t10k-images-idx3-ubyte.gz\n",
      "Extracting ./../../data/images/mnist/t10k-labels-idx1-ubyte.gz\n"
     ]
    }
   ],
   "source": [
    "data = input_data.read_data_sets('./../../data/images/mnist/', one_hot=True)"
   ]
  },
  {
   "cell_type": "code",
   "execution_count": 4,
   "metadata": {
    "collapsed": false
   },
   "outputs": [],
   "source": [
    "TRAIN = 55000\n",
    "IMG = 64"
   ]
  },
  {
   "cell_type": "code",
   "execution_count": 20,
   "metadata": {
    "collapsed": false
   },
   "outputs": [
    {
     "name": "stdout",
     "output_type": "stream",
     "text": [
      "5: [ 0.  0.  0.  0.  0.  1.  0.  0.  0.  0.]\n"
     ]
    },
    {
     "data": {
      "image/png": "[encoded data removed]",
      "text/plain": [
       "<matplotlib.figure.Figure at 0x7fc76c8c39d0>"
      ]
     },
     "metadata": {},
     "output_type": "display_data"
    }
   ],
   "source": [
    "def random_pair():\n",
    "    idx = np.random.randint(TRAIN)\n",
    "    digit = data.train.images[idx].reshape((28,28))\n",
    "    label = data.train.labels[idx].astype(np.float32)\n",
    "    \n",
    "    # Place image in random position\n",
    "    img = np.zeros((IMG, IMG), dtype=np.float32)\n",
    "    i, j = np.random.randint(IMG-28), np.random.randint(IMG-28)\n",
    "    img[i:i+28,j:j+28] = digit\n",
    "    \n",
    "    return img, label\n",
    "\n",
    "def random_batch(batch):\n",
    "    batch_imgs = []\n",
    "    batch_labels = []\n",
    "    for i in range(batch):\n",
    "        img, label = random_pair()\n",
    "        img = img.reshape(IMG ** 2)\n",
    "        label = label.reshape(10)\n",
    "        batch_imgs.append(img)\n",
    "        batch_labels.append(label)\n",
    "    return np.array(batch_imgs), np.array(batch_labels)\n",
    "    \n",
    "img, label = random_pair()\n",
    "\n",
    "print('{}: {}'.format(np.argmax(label), label))\n",
    "f = plt.imshow(img, cmap='gray')"
   ]
  },
  {
   "cell_type": "code",
   "execution_count": 21,
   "metadata": {
    "collapsed": false
   },
   "outputs": [],
   "source": [
    "def weight_variable(shape):\n",
    "    initial = tf.truncated_normal(shape, stddev=0.1)\n",
    "    return tf.Variable(initial)\n",
    "\n",
    "def bias_variable(shape):\n",
    "    initial = tf.constant(0.1, shape=shape)\n",
    "    return tf.Variable(initial)\n",
    "\n",
    "def conv2d(x, W):\n",
    "    return tf.nn.conv2d(x, W, strides=[1, 1, 1, 1], padding='SAME')\n",
    "\n",
    "def max_pool_2x2(x):\n",
    "    return tf.nn.max_pool(x, ksize=[1, 2, 2, 1], strides=[1, 2, 2, 1], padding='SAME')\n",
    "\n",
    "x = tf.placeholder(tf.float32, (None, IMG ** 2))\n",
    "y_ = tf.placeholder(tf.float32, (None, 10))\n",
    "\n",
    "W_conv1 = weight_variable([5, 5, 1, 32])\n",
    "b_conv1 = bias_variable([32])\n",
    "\n",
    "x_image = tf.reshape(x, (-1, IMG, IMG, 1))\n",
    "\n",
    "h_conv1 = tf.nn.relu(conv2d(x_image, W_conv1) + b_conv1)\n",
    "h_pool1 = max_pool_2x2(h_conv1)\n",
    "\n",
    "W_conv2 = weight_variable([5, 5, 32, 64])\n",
    "b_conv2 = bias_variable([64])\n",
    "\n",
    "h_conv2 = tf.nn.relu(conv2d(h_conv1, W_conv2) + b_conv2)\n",
    "h_pool2 = max_pool_2x2(h_conv2)\n",
    "\n",
    "\n",
    "# Fully connected layer\n",
    "\n",
    "W_fc1 = weight_variable([32 * 32 * 64, 1024])\n",
    "b_fc1 = bias_variable([1024])\n",
    "\n",
    "h_pool2_flat = tf.reshape(h_pool2, [-1, 32 * 32 * 64])\n",
    "h_fc1 = tf.nn.relu(tf.matmul(h_pool2_flat, W_fc1) + b_fc1)\n",
    "\n",
    "keep_prob = tf.placeholder(tf.float32)\n",
    "h_fc1_drop = tf.nn.dropout(h_fc1, keep_prob)\n",
    "\n",
    "W_fc2 = weight_variable([1024, 10])\n",
    "b_fc2 = bias_variable([10])\n",
    "\n",
    "y_conv = tf.nn.softmax(tf.matmul(h_fc1_drop, W_fc2) + b_fc2)\n",
    "\n",
    "cross_entropy = tf.reduce_mean(-tf.reduce_sum(y_ * tf.log(y_conv), reduction_indices=[1]))\n",
    "\n",
    "train = tf.train.AdamOptimizer(1e-4).minimize(cross_entropy)\n",
    "correct_prediction = tf.equal(tf.argmax(y_conv,1), tf.argmax(y_,1))\n",
    "accuracy = tf.reduce_mean(tf.cast(correct_prediction, tf.float32))"
   ]
  },
  {
   "cell_type": "code",
   "execution_count": 22,
   "metadata": {
    "collapsed": false
   },
   "outputs": [],
   "source": [
    "if 'session' in globals():\n",
    "    session.close()\n",
    "    \n",
    "session = tf.InteractiveSession()\n",
    "session.run(tf.initialize_all_variables())"
   ]
  },
  {
   "cell_type": "code",
   "execution_count": null,
   "metadata": {
    "collapsed": false
   },
   "outputs": [
    {
     "name": "stdout",
     "output_type": "stream",
     "text": [
      "step 0, training accuracy 0.06\n",
      "step 100, training accuracy 0.1\n",
      "step 200, training accuracy 0.14\n",
      "step 300, training accuracy 0\n",
      "step 400, training accuracy 0.2\n",
      "step 500, training accuracy 0.1\n",
      "step 600, training accuracy 0.12\n",
      "step 700, training accuracy 0.1\n",
      "step 800, training accuracy 0.06\n",
      "step 900, training accuracy 0.08\n",
      "step 1000, training accuracy 0.04\n",
      "step 1100, training accuracy 0.04\n",
      "step 1200, training accuracy 0.06\n",
      "step 1300, training accuracy 0.1\n",
      "step 1400, training accuracy 0.06\n",
      "step 1500, training accuracy 0.1\n",
      "step 1600, training accuracy 0.06\n",
      "step 1700, training accuracy 0.12\n",
      "step 1800, training accuracy 0.12\n",
      "step 1900, training accuracy 0.1\n",
      "step 2000, training accuracy 0.22\n",
      "step 2100, training accuracy 0.1\n",
      "step 2200, training accuracy 0.12\n",
      "step 2300, training accuracy 0.14\n",
      "step 2400, training accuracy 0.02\n",
      "step 2500, training accuracy 0.14\n",
      "step 2600, training accuracy 0.08\n",
      "step 2700, training accuracy 0.12\n",
      "step 2800, training accuracy 0.12\n",
      "step 2900, training accuracy 0.14\n",
      "step 3000, training accuracy 0.12\n",
      "step 3100, training accuracy 0.12\n",
      "step 3200, training accuracy 0.16\n",
      "step 3300, training accuracy 0.12\n",
      "step 3400, training accuracy 0.14\n",
      "step 3500, training accuracy 0.08\n",
      "step 3600, training accuracy 0.1\n",
      "step 3700, training accuracy 0.08\n",
      "step 3800, training accuracy 0.12\n",
      "step 3900, training accuracy 0.2\n",
      "step 4000, training accuracy 0.08\n",
      "step 4100, training accuracy 0.12\n",
      "step 4200, training accuracy 0.1\n",
      "step 4300, training accuracy 0.04\n",
      "step 4400, training accuracy 0.08\n",
      "step 4500, training accuracy 0.12\n",
      "step 4600, training accuracy 0.12\n",
      "step 4700, training accuracy 0.12\n",
      "step 4800, training accuracy 0.18\n",
      "step 4900, training accuracy 0.1\n",
      "step 5000, training accuracy 0.04\n",
      "step 5100, training accuracy 0.04\n",
      "step 5200, training accuracy 0.1\n",
      "step 5300, training accuracy 0.1\n",
      "step 5400, training accuracy 0.12\n",
      "step 5500, training accuracy 0.06\n",
      "step 5600, training accuracy 0.06\n",
      "step 5700, training accuracy 0.1\n",
      "step 5800, training accuracy 0.12\n",
      "step 5900, training accuracy 0.1\n",
      "step 6000, training accuracy 0.14\n",
      "step 6100, training accuracy 0.12\n",
      "step 6200, training accuracy 0.06\n",
      "step 6300, training accuracy 0.06\n",
      "step 6400, training accuracy 0.14\n",
      "step 6500, training accuracy 0.1\n",
      "step 6600, training accuracy 0.08\n",
      "step 6700, training accuracy 0.08\n",
      "step 6800, training accuracy 0.14\n",
      "step 6900, training accuracy 0.1\n",
      "step 7000, training accuracy 0.12\n",
      "step 7100, training accuracy 0.14\n",
      "step 7200, training accuracy 0.08\n",
      "step 7300, training accuracy 0.06\n",
      "step 7400, training accuracy 0.12\n",
      "step 7500, training accuracy 0.08\n",
      "step 7600, training accuracy 0.04\n",
      "step 7700, training accuracy 0.08\n",
      "step 7800, training accuracy 0.16\n",
      "step 7900, training accuracy 0.12\n",
      "step 8000, training accuracy 0.06\n",
      "step 8100, training accuracy 0.1\n",
      "step 8200, training accuracy 0.14\n",
      "step 8300, training accuracy 0.08\n",
      "step 8400, training accuracy 0.06\n",
      "step 8500, training accuracy 0.06\n"
     ]
    }
   ],
   "source": [
    "for i in range(20000):\n",
    "    batch_i, batch_l = random_batch(50)\n",
    "    \n",
    "    if i%100 == 0:\n",
    "        train_accuracy = accuracy.eval(feed_dict={x: batch_i, y_: batch_l, keep_prob: 1.0})\n",
    "        print(\"step %d, training accuracy %g\"%(i, train_accuracy))\n",
    "        \n",
    "    train.run(feed_dict={x: batch_i, y_: batch_l, keep_prob: 0.5})\n",
    "\n",
    "print(\"test accuracy %g\"%accuracy.eval(feed_dict={x: mnist.test.images, y_: mnist.test.labels, keep_prob: 1.0}))"
   ]
  },
  {
   "cell_type": "code",
   "execution_count": null,
   "metadata": {
    "collapsed": true
   },
   "outputs": [],
   "source": [
    "saver = tf.train.Saver()\n",
    "saver.save(session, './cnn_translational_inv.ckpt')"
   ]
  },
  {
   "cell_type": "code",
   "execution_count": null,
   "metadata": {
    "collapsed": true
   },
   "outputs": [],
   "source": []
  }
 ],
 "metadata": {
  "kernelspec": {
   "display_name": "Python 2",
   "language": "python",
   "name": "python2"
  },
  "language_info": {
   "codemirror_mode": {
    "name": "ipython",
    "version": 2
   },
   "file_extension": ".py",
   "mimetype": "text/x-python",
   "name": "python",
   "nbconvert_exporter": "python",
   "pygments_lexer": "ipython2",
   "version": "2.7.11"
  }
 },
 "nbformat": 4,
 "nbformat_minor": 0
}
