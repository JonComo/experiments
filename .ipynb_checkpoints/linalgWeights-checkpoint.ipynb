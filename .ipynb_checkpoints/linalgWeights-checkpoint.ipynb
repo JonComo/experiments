{
 "cells": [
  {
   "cell_type": "code",
   "execution_count": 1,
   "metadata": {
    "collapsed": true
   },
   "outputs": [],
   "source": [
    "%matplotlib inline"
   ]
  },
  {
   "cell_type": "code",
   "execution_count": 2,
   "metadata": {
    "collapsed": true
   },
   "outputs": [],
   "source": [
    "from matplotlib import pyplot as plt\n",
    "import numpy as np"
   ]
  },
  {
   "cell_type": "code",
   "execution_count": 3,
   "metadata": {
    "collapsed": true
   },
   "outputs": [],
   "source": [
    "def H(X, W1):\n",
    "    return W1.dot(X)\n",
    "\n",
    "def Y(H, W2):\n",
    "    return W2.dot(H)\n",
    "\n",
    "def C(Y, T):\n",
    "    return 1/2 * (T-Y) ** 2"
   ]
  },
  {
   "cell_type": "code",
   "execution_count": 6,
   "metadata": {
    "collapsed": false
   },
   "outputs": [
    {
     "name": "stdout",
     "output_type": "stream",
     "text": [
      "W1 (3, 3)\n",
      "W2 (1, 3)\n"
     ]
    }
   ],
   "source": [
    "W1 = np.array([[1, 1, 1], [1, 1, 1], [1, 1, 1]])\n",
    "W2 = np.array([[1, 1, 1]])\n",
    "\n",
    "print(\"W1\", W1.shape)\n",
    "print(\"W2\", W2.shape)"
   ]
  },
  {
   "cell_type": "code",
   "execution_count": 10,
   "metadata": {
    "collapsed": false
   },
   "outputs": [
    {
     "name": "stdout",
     "output_type": "stream",
     "text": [
      "h [[3]\n",
      " [3]\n",
      " [3]]\n",
      "y [[9]]\n"
     ]
    }
   ],
   "source": [
    "X = np.array([[1], [1], [1]])\n",
    "h = H(X, W1)\n",
    "y = Y(h, W2)\n",
    "print(\"h\", h)\n",
    "print(\"y\", y)"
   ]
  },
  {
   "cell_type": "code",
   "execution_count": null,
   "metadata": {
    "collapsed": true
   },
   "outputs": [],
   "source": []
  }
 ],
 "metadata": {
  "kernelspec": {
   "display_name": "Python 3",
   "language": "python",
   "name": "python3"
  },
  "language_info": {
   "codemirror_mode": {
    "name": "ipython",
    "version": 3
   },
   "file_extension": ".py",
   "mimetype": "text/x-python",
   "name": "python",
   "nbconvert_exporter": "python",
   "pygments_lexer": "ipython3",
   "version": "3.4.4"
  }
 },
 "nbformat": 4,
 "nbformat_minor": 0
}
