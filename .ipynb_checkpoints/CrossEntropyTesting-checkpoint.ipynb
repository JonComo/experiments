{
 "cells": [
  {
   "cell_type": "code",
   "execution_count": 1,
   "metadata": {
    "collapsed": true
   },
   "outputs": [],
   "source": [
    "import numpy as np"
   ]
  },
  {
   "cell_type": "code",
   "execution_count": 2,
   "metadata": {
    "collapsed": true
   },
   "outputs": [],
   "source": [
    "%matplotlib inline"
   ]
  },
  {
   "cell_type": "code",
   "execution_count": 3,
   "metadata": {
    "collapsed": true
   },
   "outputs": [],
   "source": [
    "from matplotlib import pyplot as plt"
   ]
  },
  {
   "cell_type": "code",
   "execution_count": 86,
   "metadata": {
    "collapsed": true
   },
   "outputs": [],
   "source": [
    "# Cross entropy cost function defined as sum over i -targeti*log(outputi)\n",
    "# So dcdoutput is -target * 1/outputi\n",
    "\n",
    "def l(target, output):\n",
    "    return np.sum(-1 * target * np.log(output))\n",
    "\n",
    "def lp(target, output):\n",
    "    return -1 * target * 1./output"
   ]
  },
  {
   "cell_type": "code",
   "execution_count": 87,
   "metadata": {
    "collapsed": true
   },
   "outputs": [],
   "source": [
    "def fp(f, x):\n",
    "    return (f(x+.000001) - f(x)) / .000001"
   ]
  },
  {
   "cell_type": "code",
   "execution_count": 88,
   "metadata": {
    "collapsed": false
   },
   "outputs": [
    {
     "data": {
      "text/plain": [
       "-1.0986122886681098"
      ]
     },
     "execution_count": 88,
     "metadata": {},
     "output_type": "execute_result"
    }
   ],
   "source": [
    "l(1, 3)"
   ]
  },
  {
   "cell_type": "code",
   "execution_count": 89,
   "metadata": {
    "collapsed": false
   },
   "outputs": [
    {
     "data": {
      "text/plain": [
       "[<matplotlib.lines.Line2D at 0x114556250>]"
      ]
     },
     "execution_count": 89,
     "metadata": {},
     "output_type": "execute_result"
    },
    {
     "data": {
      "image/png": "[encoded data removed]",
      "text/plain": [
       "<matplotlib.figure.Figure at 0x1142068d0>"
      ]
     },
     "metadata": {},
     "output_type": "display_data"
    }
   ],
   "source": [
    "# Graph the base-10 logarithm function\n",
    "\n",
    "t = np.linspace(0.1, 1000, 200)\n",
    "plt.plot(t, np.log(t))"
   ]
  },
  {
   "cell_type": "code",
   "execution_count": 90,
   "metadata": {
    "collapsed": false
   },
   "outputs": [
    {
     "data": {
      "text/plain": [
       "[<matplotlib.lines.Line2D at 0x113bcb0d0>]"
      ]
     },
     "execution_count": 90,
     "metadata": {},
     "output_type": "execute_result"
    },
    {
     "data": {
      "image/png": "[encoded data removed]",
      "text/plain": [
       "<matplotlib.figure.Figure at 0x114551990>"
      ]
     },
     "metadata": {},
     "output_type": "display_data"
    }
   ],
   "source": [
    "plt.plot(t, -np.log(t))"
   ]
  },
  {
   "cell_type": "code",
   "execution_count": 91,
   "metadata": {
    "collapsed": false
   },
   "outputs": [
    {
     "data": {
      "text/plain": [
       "[<matplotlib.lines.Line2D at 0x1138c5d10>]"
      ]
     },
     "execution_count": 91,
     "metadata": {},
     "output_type": "execute_result"
    },
    {
     "data": {
      "image/png": "[encoded data removed]",
      "text/plain": [
       "<matplotlib.figure.Figure at 0x112e620d0>"
      ]
     },
     "metadata": {},
     "output_type": "display_data"
    }
   ],
   "source": [
    "# Graph the log and log' functions\n",
    "\n",
    "tt = np.linspace(.2, 20, 100)\n",
    "\n",
    "plt.plot(np.log(tt), 'b-')\n",
    "plt.plot(fp(np.log, tt), 'r-')"
   ]
  },
  {
   "cell_type": "code",
   "execution_count": 92,
   "metadata": {
    "collapsed": false
   },
   "outputs": [
    {
     "name": "stdout",
     "output_type": "stream",
     "text": [
      "dlog/dx .1 is approx 9.99995000006\n",
      "dlog/dx .01 is approx 99.9950003324\n",
      "dlog/dx .001 is approx 999.500333084\n"
     ]
    }
   ],
   "source": [
    "# The derivative of log is very high for small values\n",
    "\n",
    "print \"dlog/dx .1 is approx\", fp(np.log, .1)\n",
    "print \"dlog/dx .01 is approx\", fp(np.log, .01)\n",
    "print \"dlog/dx .001 is approx\", fp(np.log, .001)"
   ]
  },
  {
   "cell_type": "code",
   "execution_count": 93,
   "metadata": {
    "collapsed": false
   },
   "outputs": [
    {
     "data": {
      "text/plain": [
       "[<matplotlib.lines.Line2D at 0x1147a74d0>]"
      ]
     },
     "execution_count": 93,
     "metadata": {},
     "output_type": "execute_result"
    },
    {
     "data": {
      "image/png": "[encoded data removed]",
      "text/plain": [
       "<matplotlib.figure.Figure at 0x114650f10>"
      ]
     },
     "metadata": {},
     "output_type": "display_data"
    }
   ],
   "source": [
    "# Plot the derivative of cross entropy function and analytically derived derivative of cost function\n",
    "\n",
    "tt = np.linspace(.2, 20, 100)\n",
    "\n",
    "plt.plot(fp(lambda x:l(1.0, x), tt), 'r-')\n",
    "plt.plot(lp(1.0, tt), 'b-')"
   ]
  },
  {
   "cell_type": "code",
   "execution_count": 94,
   "metadata": {
    "collapsed": false
   },
   "outputs": [
    {
     "name": "stdout",
     "output_type": "stream",
     "text": [
      "Same target and output at 1.0 cost is 0.0\n",
      "Same target and output at 10.0 cost is -23.0258509299\n"
     ]
    }
   ],
   "source": [
    "# Try out different targets and outputs\n",
    "\n",
    "print \"Same target and output at 1.0 cost is\", l(1.0, 1.0)\n",
    "print \"Same target and output at 10.0 cost is\", l(10.0, 10.0)"
   ]
  },
  {
   "cell_type": "code",
   "execution_count": 95,
   "metadata": {
    "collapsed": false
   },
   "outputs": [
    {
     "name": "stdout",
     "output_type": "stream",
     "text": [
      "Large target and small output cost is 69.0775527898\n"
     ]
    }
   ],
   "source": [
    "# Huh.. that's interesting, when the target and output of the model are the same and large, the cost is large negative\n",
    "# What happens when the target is large and the output is small\n",
    "\n",
    "print \"Large target and small output cost is\", l(10.0, 0.001)"
   ]
  },
  {
   "cell_type": "code",
   "execution_count": 96,
   "metadata": {
    "collapsed": false
   },
   "outputs": [
    {
     "name": "stdout",
     "output_type": "stream",
     "text": [
      "Small target and large output cost is -0.00230258509299\n"
     ]
    }
   ],
   "source": [
    "# What about when the target is small and output is large\n",
    "\n",
    "print \"Small target and large output cost is\", l(0.001, 10.0)"
   ]
  },
  {
   "cell_type": "code",
   "execution_count": 103,
   "metadata": {
    "collapsed": false
   },
   "outputs": [
    {
     "name": "stdout",
     "output_type": "stream",
     "text": [
      "Derivative of cross entropy with a small target and large model output -0.0001\n"
     ]
    }
   ],
   "source": [
    "# Huh... the cost is... small... and negative? For such differing values.. What does this mean!!!\n",
    "\n",
    "# A small target and large output of the model is actually good? Why? It seems as if it'd be\n",
    "# the opposite. Perhaps it has to do with the derivative\n",
    "\n",
    "print \"Derivative of cross entropy with a small target and large model output\", lp(0.001, 10.0)"
   ]
  },
  {
   "cell_type": "code",
   "execution_count": 117,
   "metadata": {
    "collapsed": false
   },
   "outputs": [
    {
     "data": {
      "image/png": "[encoded data removed]",
      "text/plain": [
       "<matplotlib.figure.Figure at 0x1152d6150>"
      ]
     },
     "metadata": {},
     "output_type": "display_data"
    }
   ],
   "source": [
    "# Well that wasn't it.. The derivative is pretty small, most likely to do with the target multiplied directly to log'\n",
    "# However, you can differentiate the cross entropy cost w.r.t. the logits... And you get a cleaner outcome\n",
    "\n",
    "# That means we need to introduce the softmax function on logits\n",
    "\n",
    "def softmax(z):\n",
    "    return np.exp(z)/np.sum(np.exp(z))\n",
    "\n",
    "def softmaxp(z):\n",
    "    return 1.0 # Dunno!\n",
    "\n",
    "test_z = 0\n",
    "for test_z in np.linspace(0, 10, 10):\n",
    "    plt.scatter(test_z, softmax(test_z))"
   ]
  },
  {
   "cell_type": "code",
   "execution_count": 122,
   "metadata": {
    "collapsed": false
   },
   "outputs": [
    {
     "data": {
      "text/plain": [
       "[<matplotlib.lines.Line2D at 0x1158f05d0>]"
      ]
     },
     "execution_count": 122,
     "metadata": {},
     "output_type": "execute_result"
    },
    {
     "data": {
      "image/png": "[encoded data removed]",
      "text/plain": [
       "<matplotlib.figure.Figure at 0x115b932d0>"
      ]
     },
     "metadata": {},
     "output_type": "display_data"
    }
   ],
   "source": [
    "# Graph exp function\n",
    "\n",
    "t = np.linspace(0, 8, 100)\n",
    "plt.plot(t, np.exp(t))"
   ]
  },
  {
   "cell_type": "code",
   "execution_count": 123,
   "metadata": {
    "collapsed": false
   },
   "outputs": [
    {
     "data": {
      "text/plain": [
       "[<matplotlib.lines.Line2D at 0x115e48650>]"
      ]
     },
     "execution_count": 123,
     "metadata": {},
     "output_type": "execute_result"
    },
    {
     "data": {
      "image/png": "[encoded data removed]",
      "text/plain": [
       "<matplotlib.figure.Figure at 0x1159e1650>"
      ]
     },
     "metadata": {},
     "output_type": "display_data"
    }
   ],
   "source": [
    "# Graph exp' function, (which is just exp!!!)\n",
    "\n",
    "plt.plot(t, fp(np.exp, t), 'r-')"
   ]
  },
  {
   "cell_type": "code",
   "execution_count": 105,
   "metadata": {
    "collapsed": false
   },
   "outputs": [
    {
     "data": {
      "text/plain": [
       "<matplotlib.collections.PathCollection at 0x114368990>"
      ]
     },
     "execution_count": 105,
     "metadata": {},
     "output_type": "execute_result"
    },
    {
     "data": {
      "image/png": "[encoded data removed]",
      "text/plain": [
       "<matplotlib.figure.Figure at 0x113572a10>"
      ]
     },
     "metadata": {},
     "output_type": "display_data"
    }
   ],
   "source": [
    "z = np.random.random_sample((10))\n",
    "\n",
    "plt.scatter(np.arange(s.shape[0]), z, c='b')\n",
    "plt.scatter(np.arange(s.shape[0]), softmax(z), c='r')"
   ]
  },
  {
   "cell_type": "code",
   "execution_count": 106,
   "metadata": {
    "collapsed": false
   },
   "outputs": [
    {
     "name": "stdout",
     "output_type": "stream",
     "text": [
      "1.0\n"
     ]
    }
   ],
   "source": [
    "# Note that the softmax of a list of values adds up to one:\n",
    "print np.sum(softmax(z))"
   ]
  },
  {
   "cell_type": "code",
   "execution_count": 107,
   "metadata": {
    "collapsed": true
   },
   "outputs": [],
   "source": [
    "# In that way (and in that way only, to my knowledge) we can think of it as a probability distribution"
   ]
  },
  {
   "cell_type": "code",
   "execution_count": 108,
   "metadata": {
    "collapsed": false
   },
   "outputs": [
    {
     "data": {
      "image/png": "[encoded data removed]",
      "text/plain": [
       "<matplotlib.figure.Figure at 0x113e04910>"
      ]
     },
     "metadata": {},
     "output_type": "display_data"
    }
   ],
   "source": [
    "# What happens when a value is far larger than the others?\n",
    "from IPython.html.widgets import interact\n",
    "from IPython.display import clear_output\n",
    "\n",
    "z = np.random.random_sample((10))\n",
    "\n",
    "def one_z_to_rule_them_all(zi=.2):\n",
    "    z[4] = zi\n",
    "    plt.axis([-2, 10, 0, 1])\n",
    "    #plt.scatter(np.arange(s.shape[0]), z, c='b')\n",
    "    plt.scatter(np.arange(s.shape[0]), softmax(z), c='r')\n",
    "    \n",
    "interact(one_z_to_rule_them_all, zi=(0, 5, .1))"
   ]
  },
  {
   "cell_type": "code",
   "execution_count": 126,
   "metadata": {
    "collapsed": false
   },
   "outputs": [],
   "source": [
    "# Your target is most likely going to be all 0s and a single 1 in the location of the correct class...\n",
    "# So the matrix multiplication in the cross entropy can be simplified\n",
    "\n",
    "# You'll be left with dc/dyi = -1 * 1/yi\n",
    "# i being the location of the 1 in the target\n",
    "\n",
    "# target: [0, 0, 0, 0, 1,     0, 0, 0]\n",
    "# dc/dy:  [0, 0, 0, 0, -1/yi, 0, 0, 0]\n",
    "\n",
    "# The derivative of the softmax w.r.t. zi is.. definitely not what I wrote!\n",
    "def softmaxp(zi):\n",
    "    np.exp(zi)/np.exp(zi) # This looks like 1.. that's pretty wild\n",
    "\n",
    "# As you take this delta towards the derivative of the softmax w.r.t. its logits z you get:\n",
    "pass"
   ]
  },
  {
   "cell_type": "markdown",
   "metadata": {},
   "source": [
    "<a href=\"http://stats.stackexchange.com/questions/79454/softmax-layer-in-a-neural-network\">See this for help!</a>"
   ]
  },
  {
   "cell_type": "code",
   "execution_count": null,
   "metadata": {
    "collapsed": true
   },
   "outputs": [],
   "source": []
  }
 ],
 "metadata": {
  "kernelspec": {
   "display_name": "Python 2",
   "language": "python",
   "name": "python2"
  },
  "language_info": {
   "codemirror_mode": {
    "name": "ipython",
    "version": 2
   },
   "file_extension": ".py",
   "mimetype": "text/x-python",
   "name": "python",
   "nbconvert_exporter": "python",
   "pygments_lexer": "ipython2",
   "version": "2.7.10"
  }
 },
 "nbformat": 4,
 "nbformat_minor": 0
}
