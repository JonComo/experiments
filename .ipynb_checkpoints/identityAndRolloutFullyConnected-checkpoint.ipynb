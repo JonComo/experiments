{
 "cells": [
  {
   "cell_type": "code",
   "execution_count": 1,
   "metadata": {
    "collapsed": true
   },
   "outputs": [],
   "source": [
    "%matplotlib inline"
   ]
  },
  {
   "cell_type": "code",
   "execution_count": 2,
   "metadata": {
    "collapsed": true
   },
   "outputs": [],
   "source": [
    "from matplotlib import pyplot as plt\n",
    "import numpy as np\n",
    "import tensorflow as tf\n",
    "from matplotlib.gridspec import GridSpec as GS\n",
    "from IPython.display import display, clear_output\n",
    "import cv2"
   ]
  },
  {
   "cell_type": "code",
   "execution_count": 91,
   "metadata": {
    "collapsed": false
   },
   "outputs": [],
   "source": [
    "# Standard feed forward graph\n",
    "\n",
    "HIDDEN = 16\n",
    "IMG_ROWS = 28\n",
    "IMG_FLAT = IMG_ROWS**2\n",
    "OUT = IMG_FLAT\n",
    "\n",
    "x = tf.placeholder(tf.float32, shape=(IMG_ROWS, IMG_ROWS))\n",
    "target = tf.placeholder(tf.float32, shape=(IMG_ROWS, IMG_ROWS))\n",
    "\n",
    "def forward(x, in_shape, out_shape):\n",
    "    W = tf.Variable(tf.truncated_normal(shape=(in_shape, out_shape)) * .1)\n",
    "    b = tf.Variable(tf.truncated_normal(shape=(1, out_shape)) * .1)\n",
    "    h = tf.nn.tanh(tf.add(tf.matmul(x, W), b))\n",
    "    return h\n",
    "\n",
    "h1 = forward(tf.reshape(x, [1, -1]), IMG_FLAT, HIDDEN)\n",
    "h2 = forward(h1, HIDDEN, HIDDEN)\n",
    "h3 = forward(h2, HIDDEN, HIDDEN)\n",
    "h4 = tf.reshape(forward(h3, HIDDEN, OUT), [IMG_ROWS, IMG_ROWS])\n",
    "\n",
    "cost = tf.reduce_mean(tf.square(h4 - target))\n",
    "init = tf.initialize_all_variables()"
   ]
  },
  {
   "cell_type": "code",
   "execution_count": 92,
   "metadata": {
    "collapsed": true
   },
   "outputs": [],
   "source": [
    "train = tf.train.GradientDescentOptimizer(0.2).minimize(cost)"
   ]
  },
  {
   "cell_type": "code",
   "execution_count": 93,
   "metadata": {
    "collapsed": true
   },
   "outputs": [],
   "source": [
    "sess.close()"
   ]
  },
  {
   "cell_type": "code",
   "execution_count": 94,
   "metadata": {
    "collapsed": false
   },
   "outputs": [],
   "source": [
    "sess = tf.InteractiveSession()"
   ]
  },
  {
   "cell_type": "code",
   "execution_count": 95,
   "metadata": {
    "collapsed": true
   },
   "outputs": [],
   "source": [
    "sess.run(init)"
   ]
  },
  {
   "cell_type": "code",
   "execution_count": 96,
   "metadata": {
    "collapsed": false
   },
   "outputs": [
    {
     "data": {
      "image/png": "[encoded data removed]",
      "text/plain": [
       "<matplotlib.figure.Figure at 0x1105aa450>"
      ]
     },
     "metadata": {},
     "output_type": "display_data"
    }
   ],
   "source": [
    "ALPHABET = \"ABC\"\n",
    "ALPH_LEN = len(ALPHABET)\n",
    "def data_pair():\n",
    "    img1 = np.random.random_sample((IMG_ROWS, IMG_ROWS)) * .2\n",
    "    img2 = np.random.random_sample((IMG_ROWS, IMG_ROWS)) * .2\n",
    "    rand_index = np.random.randint(len(ALPHABET))\n",
    "    first_char = ALPHABET[rand_index]\n",
    "    rand_index += 1\n",
    "    if rand_index > ALPH_LEN-1:\n",
    "        rand_index = 0\n",
    "    second_char = ALPHABET[rand_index]\n",
    "    cv2.putText(img1, first_char, (4, 24), cv2.FONT_HERSHEY_SIMPLEX, 1.0, color=(1))\n",
    "    cv2.putText(img2, second_char, (4, 24), cv2.FONT_HERSHEY_SIMPLEX, 1.0, color=(1))\n",
    "    return (img1, img2)\n",
    "\n",
    "def vis_data_pair(pair):\n",
    "    g = GS(1, 3)\n",
    "    plt.figure(figsize=(8,8))\n",
    "    plt.subplot(g[0, 0])\n",
    "    plt.title('input')\n",
    "    plt.imshow(pair[0], interpolation='nearest', cmap=plt.cm.gray)\n",
    "    plt.subplot(g[0, 1])\n",
    "    plt.title('targ')\n",
    "    plt.imshow(pair[1], interpolation='nearest', cmap=plt.cm.gray)\n",
    "    \n",
    "vis_data_pair(data_pair())"
   ]
  },
  {
   "cell_type": "code",
   "execution_count": 97,
   "metadata": {
    "collapsed": false
   },
   "outputs": [
    {
     "data": {
      "image/png": "[encoded data removed]",
      "text/plain": [
       "<matplotlib.figure.Figure at 0x111984790>"
      ]
     },
     "metadata": {},
     "output_type": "display_data"
    }
   ],
   "source": [
    "def graph_model_out():\n",
    "    d_in, d_targ = data_pair()\n",
    "    model_out = h4.eval(feed_dict={x:d_in})\n",
    "\n",
    "    g = GS(1, 3)\n",
    "    plt.figure(figsize=(8,8))\n",
    "    plt.subplot(g[0, 0])\n",
    "    plt.title('input')\n",
    "    plt.imshow(d_in, interpolation='nearest', cmap=plt.cm.gray)\n",
    "    plt.subplot(g[0, 1])\n",
    "    plt.title('targ')\n",
    "    plt.imshow(d_targ, interpolation='nearest', cmap=plt.cm.gray)\n",
    "    plt.subplot(g[0, 2])\n",
    "    plt.title('model output')\n",
    "    plt.imshow(model_out.reshape(IMG_ROWS, IMG_ROWS), interpolation='nearest', cmap=plt.cm.gray)\n",
    "    plt.show()\n",
    "    \n",
    "graph_model_out()"
   ]
  },
  {
   "cell_type": "code",
   "execution_count": null,
   "metadata": {
    "collapsed": false
   },
   "outputs": [
    {
     "name": "stdout",
     "output_type": "stream",
     "text": [
      "0.026098\n"
     ]
    },
    {
     "data": {
      "image/png": "[encoded data removed]",
      "text/plain": [
       "<matplotlib.figure.Figure at 0x111b3f5d0>"
      ]
     },
     "metadata": {},
     "output_type": "display_data"
    }
   ],
   "source": [
    "for i in xrange(10000):\n",
    "    d_in, d_targ = data_pair()\n",
    "    feed_dict = {x:d_in, target: d_targ}\n",
    "    sess.run(train, feed_dict)\n",
    "    if i%1000==0:\n",
    "        clear_output(wait=True)\n",
    "        print cost.eval(feed_dict)\n",
    "        graph_model_out()"
   ]
  },
  {
   "cell_type": "code",
   "execution_count": null,
   "metadata": {
    "collapsed": false
   },
   "outputs": [],
   "source": [
    "graph_model_out()"
   ]
  },
  {
   "cell_type": "code",
   "execution_count": null,
   "metadata": {
    "collapsed": false
   },
   "outputs": [],
   "source": [
    "d_in, d_targ = data_pair()\n",
    "fd = {x:d_in}\n",
    "h1eval = h1.eval(fd).reshape(int(np.sqrt(HIDDEN)), int(np.sqrt(HIDDEN)))\n",
    "h2eval = h2.eval(fd).reshape(int(np.sqrt(HIDDEN)), int(np.sqrt(HIDDEN)))\n",
    "h3eval = h3.eval(fd).reshape(int(np.sqrt(HIDDEN)), int(np.sqrt(HIDDEN)))\n",
    "\n",
    "g = GS(1, 4)\n",
    "plt.figure(figsize=(8,8))\n",
    "plt.subplot(g[0, 0])\n",
    "plt.title('input')\n",
    "plt.imshow(d_in, interpolation='nearest', cmap=plt.cm.gray)\n",
    "\n",
    "plt.subplot(g[0, 1])\n",
    "plt.title('h1')\n",
    "plt.imshow(h1eval, interpolation='nearest', cmap=plt.cm.gray)\n",
    "\n",
    "plt.subplot(g[0, 2])\n",
    "plt.title('h2')\n",
    "plt.imshow(h2eval, interpolation='nearest', cmap=plt.cm.gray)\n",
    "\n",
    "plt.subplot(g[0, 3])\n",
    "plt.title('h3')\n",
    "plt.imshow(h3eval, interpolation='nearest', cmap=plt.cm.gray)"
   ]
  },
  {
   "cell_type": "code",
   "execution_count": null,
   "metadata": {
    "collapsed": false
   },
   "outputs": [],
   "source": [
    "print h3eval"
   ]
  },
  {
   "cell_type": "code",
   "execution_count": null,
   "metadata": {
    "collapsed": false
   },
   "outputs": [],
   "source": [
    "# Do a rollout!!! Feed in A, have it predict B, feed in its prediction, have it predict C, repeat\n",
    "d_in, d_targ = data_pair()\n",
    "data = d_in\n",
    "for i in xrange(100):\n",
    "    data = h4.eval({x: data})\n",
    "    clear_output(wait=True)\n",
    "    plt.imshow(data.reshape(IMG_ROWS, IMG_ROWS), interpolation='nearest', cmap=plt.cm.gray)\n",
    "    plt.show()"
   ]
  },
  {
   "cell_type": "code",
   "execution_count": null,
   "metadata": {
    "collapsed": true
   },
   "outputs": [],
   "source": []
  },
  {
   "cell_type": "code",
   "execution_count": null,
   "metadata": {
    "collapsed": true
   },
   "outputs": [],
   "source": []
  },
  {
   "cell_type": "code",
   "execution_count": null,
   "metadata": {
    "collapsed": true
   },
   "outputs": [],
   "source": []
  },
  {
   "cell_type": "code",
   "execution_count": null,
   "metadata": {
    "collapsed": true
   },
   "outputs": [],
   "source": []
  },
  {
   "cell_type": "code",
   "execution_count": null,
   "metadata": {
    "collapsed": true
   },
   "outputs": [],
   "source": []
  },
  {
   "cell_type": "code",
   "execution_count": null,
   "metadata": {
    "collapsed": true
   },
   "outputs": [],
   "source": []
  },
  {
   "cell_type": "code",
   "execution_count": null,
   "metadata": {
    "collapsed": true
   },
   "outputs": [],
   "source": []
  },
  {
   "cell_type": "code",
   "execution_count": null,
   "metadata": {
    "collapsed": true
   },
   "outputs": [],
   "source": []
  }
 ],
 "metadata": {
  "kernelspec": {
   "display_name": "Python 2",
   "language": "python",
   "name": "python2"
  },
  "language_info": {
   "codemirror_mode": {
    "name": "ipython",
    "version": 2
   },
   "file_extension": ".py",
   "mimetype": "text/x-python",
   "name": "python",
   "nbconvert_exporter": "python",
   "pygments_lexer": "ipython2",
   "version": "2.7.10"
  }
 },
 "nbformat": 4,
 "nbformat_minor": 0
}
