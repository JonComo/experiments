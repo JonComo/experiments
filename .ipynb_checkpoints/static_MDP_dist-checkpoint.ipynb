{
 "cells": [
  {
   "cell_type": "code",
   "execution_count": 1,
   "metadata": {
    "collapsed": true
   },
   "outputs": [],
   "source": [
    "%matplotlib inline"
   ]
  },
  {
   "cell_type": "code",
   "execution_count": 559,
   "metadata": {
    "collapsed": true
   },
   "outputs": [],
   "source": [
    "from matplotlib import pyplot as plt\n",
    "import numpy as np\n",
    "from IPython.display import clear_output"
   ]
  },
  {
   "cell_type": "code",
   "execution_count": 612,
   "metadata": {
    "collapsed": false
   },
   "outputs": [],
   "source": [
    "\"\"\"T = np.array([[0.0, 0.5, 0.5],\n",
    "              [0.5, 0.0, 0.5],\n",
    "              [0.0, 0.0, 1.0]])\"\"\"\n",
    "\n",
    "# Random\n",
    "sdim = 20\n",
    "T = np.random.random_sample((sdim, sdim))\n",
    "\n",
    "# Normalize rows\n",
    "row_sums = T.sum(axis=1, keepdims=True)\n",
    "T /= row_sums"
   ]
  },
  {
   "cell_type": "code",
   "execution_count": 613,
   "metadata": {
    "collapsed": false
   },
   "outputs": [
    {
     "name": "stdout",
     "output_type": "stream",
     "text": [
      "[ 0.05  0.05  0.05  0.05  0.05  0.05  0.05  0.05  0.05  0.05  0.05  0.05\n",
      "  0.05  0.05  0.05  0.05  0.05  0.05  0.05  0.05]\n"
     ]
    }
   ],
   "source": [
    "p = np.full((sdim), 1.0/sdim, dtype=np.float64)\n",
    "p[:] = 1.0/sdim\n",
    "print(p)"
   ]
  },
  {
   "cell_type": "code",
   "execution_count": 614,
   "metadata": {
    "collapsed": false
   },
   "outputs": [
    {
     "name": "stdout",
     "output_type": "stream",
     "text": [
      "[ 0.053  0.04   0.048  0.047  0.046  0.05   0.037  0.04   0.054  0.053\n",
      "  0.053  0.053  0.055  0.059  0.065  0.045  0.043  0.048  0.053  0.054]\n",
      "1.0\n"
     ]
    }
   ],
   "source": [
    "p = p.dot(T)\n",
    "print(np.round(p, 3))\n",
    "print(np.sum(p))"
   ]
  },
  {
   "cell_type": "code",
   "execution_count": 615,
   "metadata": {
    "collapsed": false
   },
   "outputs": [
    {
     "name": "stdout",
     "output_type": "stream",
     "text": [
      "[ 0.0508  0.0453  0.0422  0.0479  0.0512  0.0495  0.0391  0.0434  0.0536\n",
      "  0.0525  0.0479  0.0548  0.0575  0.0575  0.0658  0.0438  0.0436  0.0469\n",
      "  0.0546  0.0521]\n"
     ]
    }
   ],
   "source": [
    "# Sample counts\n",
    "c = np.zeros((sdim))\n",
    "s = 0\n",
    "for i in range(10000):\n",
    "    s = np.random.choice(range(sdim), p=T[s,:])\n",
    "    c[s] += 1\n",
    "    \n",
    "print(c/np.sum(c))"
   ]
  },
  {
   "cell_type": "code",
   "execution_count": 616,
   "metadata": {
    "collapsed": true
   },
   "outputs": [],
   "source": [
    "ss = np.zeros((sdim))\n",
    "ss[5] = 100"
   ]
  },
  {
   "cell_type": "code",
   "execution_count": 617,
   "metadata": {
    "collapsed": false
   },
   "outputs": [
    {
     "data": {
      "image/png": "[encoded data removed]",
      "text/plain": [
       "<matplotlib.figure.Figure at 0x111b2e048>"
      ]
     },
     "metadata": {},
     "output_type": "display_data"
    }
   ],
   "source": [
    "from time import sleep\n",
    "\n",
    "for i in range(10):\n",
    "    plt.axis([0, sdim, 0, 100])\n",
    "    plt.xticks([])\n",
    "    plt.yticks([])\n",
    "    \n",
    "    clear_output(wait=True)\n",
    "    plt.bar(range(sdim), ss)\n",
    "    plt.show()\n",
    "    sleep(.2)\n",
    "    \n",
    "    ss = ss.dot(T)"
   ]
  },
  {
   "cell_type": "code",
   "execution_count": null,
   "metadata": {
    "collapsed": true
   },
   "outputs": [],
   "source": []
  },
  {
   "cell_type": "code",
   "execution_count": null,
   "metadata": {
    "collapsed": true
   },
   "outputs": [],
   "source": []
  },
  {
   "cell_type": "code",
   "execution_count": null,
   "metadata": {
    "collapsed": true
   },
   "outputs": [],
   "source": []
  },
  {
   "cell_type": "code",
   "execution_count": null,
   "metadata": {
    "collapsed": true
   },
   "outputs": [],
   "source": []
  },
  {
   "cell_type": "code",
   "execution_count": null,
   "metadata": {
    "collapsed": true
   },
   "outputs": [],
   "source": []
  },
  {
   "cell_type": "code",
   "execution_count": null,
   "metadata": {
    "collapsed": true
   },
   "outputs": [],
   "source": []
  },
  {
   "cell_type": "code",
   "execution_count": null,
   "metadata": {
    "collapsed": true
   },
   "outputs": [],
   "source": []
  },
  {
   "cell_type": "code",
   "execution_count": null,
   "metadata": {
    "collapsed": true
   },
   "outputs": [],
   "source": []
  }
 ],
 "metadata": {
  "kernelspec": {
   "display_name": "Python 3",
   "language": "python",
   "name": "python3"
  },
  "language_info": {
   "codemirror_mode": {
    "name": "ipython",
    "version": 3
   },
   "file_extension": ".py",
   "mimetype": "text/x-python",
   "name": "python",
   "nbconvert_exporter": "python",
   "pygments_lexer": "ipython3",
   "version": "3.4.4"
  }
 },
 "nbformat": 4,
 "nbformat_minor": 0
}
