{
 "cells": [
  {
   "cell_type": "code",
   "execution_count": 1,
   "metadata": {
    "collapsed": true
   },
   "outputs": [],
   "source": [
    "%matplotlib inline"
   ]
  },
  {
   "cell_type": "code",
   "execution_count": 6,
   "metadata": {
    "collapsed": false
   },
   "outputs": [],
   "source": [
    "import numpy as np\n",
    "from matplotlib import pyplot as plt\n",
    "from scipy.special import expit"
   ]
  },
  {
   "cell_type": "code",
   "execution_count": 9,
   "metadata": {
    "collapsed": false
   },
   "outputs": [
    {
     "data": {
      "image/png": "[encoded data removed]",
      "text/plain": [
       "<matplotlib.figure.Figure at 0x7f5599993490>"
      ]
     },
     "metadata": {},
     "output_type": "display_data"
    }
   ],
   "source": [
    "T = np.linspace(-6, 6, 100)\n",
    "f = plt.plot(T, expit(T), T, expit(T)*(1-expit(T)))"
   ]
  },
  {
   "cell_type": "code",
   "execution_count": 563,
   "metadata": {
    "collapsed": false
   },
   "outputs": [],
   "source": [
    "def forward(x, t, W):\n",
    "    z = x.dot(W)\n",
    "    h = expit(z)\n",
    "    c = 1.0/2.0 * np.linalg.norm(h-t) ** 2\n",
    "    \n",
    "    return (z, h, c)\n",
    "\n",
    "def backward(x, z, h, t, W):\n",
    "    dcdh = h - t\n",
    "    dhdz = h * (1.0 - h)\n",
    "    dzdW = x\n",
    "    \n",
    "    dcdz = dcdh * dhdz\n",
    "    \n",
    "    gW = np.multiply(dzdW.T, dcdz)\n",
    "    \n",
    "    return gW"
   ]
  },
  {
   "cell_type": "code",
   "execution_count": 606,
   "metadata": {
    "collapsed": false
   },
   "outputs": [
    {
     "name": "stdout",
     "output_type": "stream",
     "text": [
      "z: [-1.] h: [ 0.26894142] c: 0.267223322694\n",
      "[ 0.14373484 -0.14373484]\n"
     ]
    }
   ],
   "source": [
    "W = np.array([[2.0], [1.0]])\n",
    "x = np.array([-1, 1])\n",
    "t = np.array([1])\n",
    "\n",
    "for i in range(1):\n",
    "    z, h, c = forward(x, t, W)\n",
    "    print('z: {} h: {} c: {}'.format(z, h, c))\n",
    "    \n",
    "    gW = backward(x, z, h, t, W)\n",
    "    print(gW)\n",
    "    #W -= .5 * gW.reshape(2, 1)"
   ]
  },
  {
   "cell_type": "code",
   "execution_count": 560,
   "metadata": {
    "collapsed": false
   },
   "outputs": [
    {
     "data": {
      "text/plain": [
       "array([-1])"
      ]
     },
     "execution_count": 560,
     "metadata": {},
     "output_type": "execute_result"
    }
   ],
   "source": [
    "x.dot(W)"
   ]
  },
  {
   "cell_type": "code",
   "execution_count": 492,
   "metadata": {
    "collapsed": false
   },
   "outputs": [
    {
     "data": {
      "text/plain": [
       "array([[ 0,  0,  0],\n",
       "       [ 2,  4,  6],\n",
       "       [ 4,  8, 12]])"
      ]
     },
     "execution_count": 492,
     "metadata": {},
     "output_type": "execute_result"
    }
   ],
   "source": [
    "np.multiply(np.array([[0], [1], [2]]), np.array([2, 4, 6]))"
   ]
  },
  {
   "cell_type": "code",
   "execution_count": null,
   "metadata": {
    "collapsed": true
   },
   "outputs": [],
   "source": []
  }
 ],
 "metadata": {
  "kernelspec": {
   "display_name": "Python 2",
   "language": "python",
   "name": "python2"
  },
  "language_info": {
   "codemirror_mode": {
    "name": "ipython",
    "version": 2
   },
   "file_extension": ".py",
   "mimetype": "text/x-python",
   "name": "python",
   "nbconvert_exporter": "python",
   "pygments_lexer": "ipython2",
   "version": "2.7.11"
  }
 },
 "nbformat": 4,
 "nbformat_minor": 0
}
