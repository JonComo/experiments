{
 "cells": [
  {
   "cell_type": "code",
   "execution_count": 1,
   "metadata": {
    "collapsed": true
   },
   "outputs": [],
   "source": [
    "%matplotlib inline"
   ]
  },
  {
   "cell_type": "code",
   "execution_count": 2,
   "metadata": {
    "collapsed": true
   },
   "outputs": [],
   "source": [
    "from matplotlib import pyplot as plt\n",
    "import numpy as np\n",
    "import tensorflow as tf\n",
    "from matplotlib.gridspec import GridSpec as GS\n",
    "from IPython.display import display, clear_output\n",
    "import cv2\n",
    "from time import sleep"
   ]
  },
  {
   "cell_type": "code",
   "execution_count": 50,
   "metadata": {
    "collapsed": false
   },
   "outputs": [],
   "source": [
    "# Conv net graph\n",
    "K_DIM = 9\n",
    "IMG_DIM = 28\n",
    "STRIDE = 3\n",
    "BATCH_DIM = 1\n",
    "HIDDEN = 20\n",
    "OUT = IMG_DIM ** 2\n",
    "\n",
    "kernels = []\n",
    "\n",
    "# Shape [batch, in_height, in_width, in_channels]\n",
    "x = tf.placeholder(tf.float32, shape=(None, IMG_DIM, IMG_DIM, 1))\n",
    "t = tf.placeholder(tf.float32, shape=(None, IMG_DIM, IMG_DIM, 1))\n",
    "\n",
    "def conv(data, in_channels, out_channels, stride):\n",
    "    with tf.name_scope(\"conv\"):\n",
    "        # Shape [filter_height, filter_width, in_channels, out_channels]\n",
    "        K = tf.Variable(tf.truncated_normal(shape=(K_DIM, K_DIM, in_channels, out_channels)) * .2 - .1)\n",
    "        kernels.append(K)\n",
    "        h = tf.nn.tanh(tf.nn.conv2d(data, K, [1, stride, stride, 1], padding='SAME'))\n",
    "        return h\n",
    "\n",
    "def ff(data, in_dim, out_dim, act_fn=None):\n",
    "    with tf.name_scope(\"ff\"):\n",
    "        W = tf.Variable(tf.truncated_normal(shape=[in_dim, out_dim]) * .2 - .1)\n",
    "        b = tf.Variable(tf.truncated_normal(shape=[1, out_dim]) * .2 - .1)\n",
    "        h = tf.add(tf.matmul(data, W), b)\n",
    "        if act_fn:\n",
    "            h = act_fn(h)\n",
    "        return h\n",
    "    \n",
    "final_conv = conv(x, 1, 8, STRIDE)\n",
    "\n",
    "final_conv_flat = tf.reshape(final_conv, [BATCH_DIM, -1])\n",
    "\n",
    "ff1 = ff(final_conv_flat, 800, OUT)\n",
    "out = tf.reshape(ff1, (IMG_DIM, IMG_DIM))\n",
    "\n",
    "init = tf.initialize_all_variables()"
   ]
  },
  {
   "cell_type": "code",
   "execution_count": 51,
   "metadata": {
    "collapsed": false
   },
   "outputs": [],
   "source": [
    "cost = tf.reduce_mean(tf.square(t - out))\n",
    "train = tf.train.GradientDescentOptimizer(0.1).minimize(cost)"
   ]
  },
  {
   "cell_type": "code",
   "execution_count": 52,
   "metadata": {
    "collapsed": false
   },
   "outputs": [],
   "source": [
    "if 'sess' in globals():\n",
    "    sess.close()\n",
    "sess = tf.InteractiveSession()"
   ]
  },
  {
   "cell_type": "code",
   "execution_count": 53,
   "metadata": {
    "collapsed": false
   },
   "outputs": [],
   "source": [
    "sess.run(init)"
   ]
  },
  {
   "cell_type": "code",
   "execution_count": 54,
   "metadata": {
    "collapsed": false
   },
   "outputs": [
    {
     "data": {
      "image/png": "[encoded data removed]",
      "text/plain": [
       "<matplotlib.figure.Figure at 0x1020a2f90>"
      ]
     },
     "metadata": {},
     "output_type": "display_data"
    }
   ],
   "source": [
    "# Data pairs\n",
    "ALPHABET = \"ABC\"\n",
    "ALPH_LEN = len(ALPHABET)\n",
    "def data_pair():\n",
    "    img1 = np.random.random_sample((IMG_DIM, IMG_DIM, 1)) * .2\n",
    "    img2 = np.random.random_sample((IMG_DIM, IMG_DIM, 1)) * .2\n",
    "    rand_index = np.random.randint(len(ALPHABET))\n",
    "    first_char = ALPHABET[rand_index]\n",
    "    rand_index += 1\n",
    "    if rand_index > ALPH_LEN-1:\n",
    "        rand_index = 0\n",
    "    second_char = ALPHABET[rand_index]\n",
    "    cv2.putText(img1, first_char, (4, 24), cv2.FONT_HERSHEY_SIMPLEX, 1.0, color=(1))\n",
    "    cv2.putText(img2, second_char, (4, 24), cv2.FONT_HERSHEY_SIMPLEX, 1.0, color=(1))\n",
    "    return (img1, img2)\n",
    "\n",
    "def vis_data_pair(pair):\n",
    "    g = GS(1, 3)\n",
    "    plt.figure(figsize=(8,8))\n",
    "    plt.subplot(g[0, 0])\n",
    "    plt.title('input')\n",
    "    plt.imshow(pair[0].reshape((IMG_DIM, IMG_DIM)), interpolation='nearest', cmap=plt.cm.gray)\n",
    "    plt.subplot(g[0, 1])\n",
    "    plt.title('targ')\n",
    "    plt.imshow(pair[1].reshape((IMG_DIM, IMG_DIM)), interpolation='nearest', cmap=plt.cm.gray)\n",
    "    \n",
    "vis_data_pair(data_pair())"
   ]
  },
  {
   "cell_type": "code",
   "execution_count": 71,
   "metadata": {
    "collapsed": false
   },
   "outputs": [
    {
     "data": {
      "image/png": "[encoded data removed]",
      "text/plain": [
       "<matplotlib.figure.Figure at 0x10aca30d0>"
      ]
     },
     "metadata": {},
     "output_type": "display_data"
    }
   ],
   "source": [
    "def viz_random_pair():\n",
    "    in_data, out_data = data_pair()\n",
    "    model_out = out.eval({x: [in_data]})\n",
    "    g = GS(1, 2)\n",
    "    plt.subplot(g[0, 0])\n",
    "    plt.title('targ')\n",
    "    plt.imshow(out_data.reshape((IMG_DIM, IMG_DIM)), interpolation='nearest', cmap=plt.cm.gray)\n",
    "    plt.subplot(g[0, 1])\n",
    "    plt.title('model output')\n",
    "    plt.imshow(model_out, interpolation='nearest', cmap=plt.cm.gray)\n",
    "    \n",
    "viz_random_pair()"
   ]
  },
  {
   "cell_type": "code",
   "execution_count": 59,
   "metadata": {
    "collapsed": false
   },
   "outputs": [
    {
     "name": "stdout",
     "output_type": "stream",
     "text": [
      "cost 0.043026\n"
     ]
    },
    {
     "data": {
      "image/png": "[encoded data removed]",
      "text/plain": [
       "<matplotlib.figure.Figure at 0x10acad4d0>"
      ]
     },
     "metadata": {},
     "output_type": "display_data"
    }
   ],
   "source": [
    "for i in xrange(1000):\n",
    "    in_data, out_data = data_pair()\n",
    "    feed = {x: [in_data], t: [out_data]}\n",
    "    sess.run(train, feed)\n",
    "    if i%200==0:\n",
    "        clear_output(wait=True)\n",
    "        print 'cost', cost.eval(feed)\n",
    "        viz_random_pair()\n",
    "        #viz weights\n",
    "        #plt.imshow(kernels[0].eval()[:, :, 0, 0], interpolation='nearest', cmap=plt.cm.gray)\n",
    "        plt.show()"
   ]
  },
  {
   "cell_type": "code",
   "execution_count": 60,
   "metadata": {
    "collapsed": false
   },
   "outputs": [
    {
     "data": {
      "image/png": "[encoded data removed]",
      "text/plain": [
       "<matplotlib.figure.Figure at 0x102fa3210>"
      ]
     },
     "metadata": {},
     "output_type": "display_data"
    }
   ],
   "source": [
    "k = kernels[0].eval()\n",
    "\n",
    "for i in xrange(k.shape[3]):\n",
    "    clear_output(wait=True)\n",
    "    plt.imshow(k[:,:,0,i], interpolation='nearest', cmap=plt.cm.gray)\n",
    "    plt.show()\n",
    "    sleep(.2)"
   ]
  },
  {
   "cell_type": "code",
   "execution_count": null,
   "metadata": {
    "collapsed": true
   },
   "outputs": [],
   "source": []
  },
  {
   "cell_type": "code",
   "execution_count": null,
   "metadata": {
    "collapsed": true
   },
   "outputs": [],
   "source": []
  },
  {
   "cell_type": "code",
   "execution_count": null,
   "metadata": {
    "collapsed": true
   },
   "outputs": [],
   "source": []
  },
  {
   "cell_type": "code",
   "execution_count": null,
   "metadata": {
    "collapsed": true
   },
   "outputs": [],
   "source": []
  },
  {
   "cell_type": "code",
   "execution_count": null,
   "metadata": {
    "collapsed": true
   },
   "outputs": [],
   "source": []
  },
  {
   "cell_type": "code",
   "execution_count": null,
   "metadata": {
    "collapsed": true
   },
   "outputs": [],
   "source": []
  },
  {
   "cell_type": "code",
   "execution_count": null,
   "metadata": {
    "collapsed": true
   },
   "outputs": [],
   "source": []
  },
  {
   "cell_type": "code",
   "execution_count": null,
   "metadata": {
    "collapsed": true
   },
   "outputs": [],
   "source": []
  },
  {
   "cell_type": "code",
   "execution_count": null,
   "metadata": {
    "collapsed": true
   },
   "outputs": [],
   "source": []
  },
  {
   "cell_type": "code",
   "execution_count": null,
   "metadata": {
    "collapsed": true
   },
   "outputs": [],
   "source": []
  },
  {
   "cell_type": "code",
   "execution_count": null,
   "metadata": {
    "collapsed": true
   },
   "outputs": [],
   "source": []
  },
  {
   "cell_type": "code",
   "execution_count": null,
   "metadata": {
    "collapsed": true
   },
   "outputs": [],
   "source": []
  }
 ],
 "metadata": {
  "kernelspec": {
   "display_name": "Python 2",
   "language": "python",
   "name": "python2"
  },
  "language_info": {
   "codemirror_mode": {
    "name": "ipython",
    "version": 2
   },
   "file_extension": ".py",
   "mimetype": "text/x-python",
   "name": "python",
   "nbconvert_exporter": "python",
   "pygments_lexer": "ipython2",
   "version": "2.7.10"
  }
 },
 "nbformat": 4,
 "nbformat_minor": 0
}
