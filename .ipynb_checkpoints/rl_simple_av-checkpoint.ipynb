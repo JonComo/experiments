{
 "cells": [
  {
   "cell_type": "code",
   "execution_count": 1,
   "metadata": {
    "collapsed": true
   },
   "outputs": [],
   "source": [
    "%matplotlib inline"
   ]
  },
  {
   "cell_type": "code",
   "execution_count": 2,
   "metadata": {
    "collapsed": true
   },
   "outputs": [],
   "source": [
    "from matplotlib import pyplot as plt\n",
    "import numpy as np\n",
    "import cv2\n",
    "import tensorflow as tf\n",
    "from IPython.display import clear_output\n",
    "from ipywidgets import interact\n",
    "\n",
    "plt.ion()"
   ]
  },
  {
   "cell_type": "code",
   "execution_count": 3,
   "metadata": {
    "collapsed": true
   },
   "outputs": [],
   "source": [
    "# Constants\n",
    "\n",
    "GAMMA = 0.9\n",
    "IN = 1\n",
    "HIDDEN = 20\n",
    "STATES = 20\n",
    "OUT = 3"
   ]
  },
  {
   "cell_type": "code",
   "execution_count": 4,
   "metadata": {
    "collapsed": true
   },
   "outputs": [],
   "source": [
    "# Normalize integer input\n",
    "\n",
    "all_states = np.array([i for i in range(STATES)])\n",
    "mean = all_states.mean()\n",
    "std = all_states.std()\n",
    "\n",
    "def normalize(s):\n",
    "    return (s-mean)/std"
   ]
  },
  {
   "cell_type": "code",
   "execution_count": 5,
   "metadata": {
    "collapsed": false
   },
   "outputs": [],
   "source": [
    "def vis_q():\n",
    "    qlist = np.array([y.eval({x: [[normalize(s)]]}) for s in range(STATES)])\n",
    "    plt.plot(qlist[:,0], c='r')\n",
    "    plt.plot(qlist[:,1], c='g')\n",
    "    plt.plot(qlist[:,2], c='b')\n",
    "    \n",
    "def ds_with_action(action_id):\n",
    "    if action_id == 0:\n",
    "        return 0\n",
    "    elif action_id == 1:\n",
    "        return -1\n",
    "    elif action_id == 2:\n",
    "        return 1"
   ]
  },
  {
   "cell_type": "code",
   "execution_count": 6,
   "metadata": {
    "collapsed": true
   },
   "outputs": [],
   "source": [
    "# Define network to approximate q values\n",
    "\n",
    "x = tf.placeholder(tf.float32)\n",
    "t = tf.placeholder(tf.float32)\n",
    "\n",
    "W1 = tf.Variable(tf.random_normal((HIDDEN, IN)))\n",
    "b1 = tf.Variable(tf.random_normal((HIDDEN, 1)))\n",
    "\n",
    "W2 = tf.Variable(tf.random_normal((OUT, HIDDEN)))\n",
    "b2 = tf.Variable(tf.random_normal((OUT, 1)))\n",
    "\n",
    "h1 = tf.tanh(tf.matmul(W1, x) + b1)\n",
    "y = tf.matmul(W2, h1) + b2\n",
    "\n",
    "cost = tf.reduce_mean(tf.square(y - t))"
   ]
  },
  {
   "cell_type": "code",
   "execution_count": 13,
   "metadata": {
    "collapsed": false
   },
   "outputs": [],
   "source": [
    "if 'session' in globals():\n",
    "    session.close()\n",
    "    \n",
    "session = tf.InteractiveSession()\n",
    "session.run(tf.initialize_all_variables())"
   ]
  },
  {
   "cell_type": "code",
   "execution_count": 19,
   "metadata": {
    "collapsed": true
   },
   "outputs": [],
   "source": [
    "train = tf.train.GradientDescentOptimizer(0.001).minimize(cost)"
   ]
  },
  {
   "cell_type": "code",
   "execution_count": 20,
   "metadata": {
    "collapsed": false
   },
   "outputs": [
    {
     "data": {
      "image/png": "[encoded data removed]",
      "text/plain": [
       "<matplotlib.figure.Figure at 0x7efec47376d0>"
      ]
     },
     "metadata": {},
     "output_type": "display_data"
    },
    {
     "name": "stdout",
     "output_type": "stream",
     "text": [
      "0.11218\n"
     ]
    }
   ],
   "source": [
    "target_state = STATES/2\n",
    "\n",
    "for i in range(1000):\n",
    "    # Pick a random state\n",
    "    s1 = np.random.randint(STATES)\n",
    "    dist1 = abs(s1 - target_state)\n",
    "    \n",
    "    # Get q values for that state\n",
    "    q1 = y.eval(feed_dict={x: [[normalize(s1)]]})\n",
    "    \n",
    "    # Choose a random action\n",
    "    rand_action = np.random.randint(OUT)\n",
    "    \n",
    "    # Apply random action\n",
    "    s2 = s1 + ds_with_action(rand_action)\n",
    "    \n",
    "    # Constrain s2\n",
    "    if s2 < 0:\n",
    "        s2 = 0\n",
    "    elif s2 > STATES - 1:\n",
    "        s2 = STATES - 1\n",
    "        \n",
    "    dist2 = abs(s2 - target_state)\n",
    "    \n",
    "    # Get new q values\n",
    "    q2 = y.eval(feed_dict={x: [[normalize(s2)]]})\n",
    "    \n",
    "    # Get reward\n",
    "    reward = dist1 - dist2\n",
    "        \n",
    "    # Get a target for the q values\n",
    "    target_q = q2 * GAMMA\n",
    "    target_q[rand_action] += reward\n",
    "    \n",
    "    # Train to predict the target q next time\n",
    "    session.run(train, feed_dict={x: [[normalize(s1)]], t: target_q})\n",
    "    \n",
    "    if i % 100 == 0:\n",
    "        c = cost.eval(feed_dict={x: [[normalize(s1)]], t: target_q})\n",
    "        clear_output(wait=True)\n",
    "        vis_q()\n",
    "        plt.show()\n",
    "        print(c)"
   ]
  },
  {
   "cell_type": "code",
   "execution_count": 21,
   "metadata": {
    "collapsed": false
   },
   "outputs": [
    {
     "data": {
      "image/png": "[encoded data removed]",
      "text/plain": [
       "<matplotlib.figure.Figure at 0x7efec49b9d10>"
      ]
     },
     "metadata": {},
     "output_type": "display_data"
    }
   ],
   "source": [
    "# Rollout of agent's behavior\n",
    "\n",
    "for run in range(10):\n",
    "    s = np.random.randint(STATES)\n",
    "    for i in range(10):\n",
    "        qs = y.eval({x: [[normalize(s)]]})\n",
    "        best_action = np.argmax(qs)\n",
    "        \n",
    "        s += ds_with_action(best_action)\n",
    "        \n",
    "        # plot s\n",
    "        clear_output(wait=True)\n",
    "        plt.axis([0, STATES-1, -6, 6])\n",
    "        vis_q()\n",
    "        plt.scatter([s], [0])\n",
    "        plt.show()"
   ]
  },
  {
   "cell_type": "code",
   "execution_count": null,
   "metadata": {
    "collapsed": true
   },
   "outputs": [],
   "source": []
  }
 ],
 "metadata": {
  "kernelspec": {
   "display_name": "Python 2",
   "language": "python",
   "name": "python2"
  },
  "language_info": {
   "codemirror_mode": {
    "name": "ipython",
    "version": 2
   },
   "file_extension": ".py",
   "mimetype": "text/x-python",
   "name": "python",
   "nbconvert_exporter": "python",
   "pygments_lexer": "ipython2",
   "version": "2.7.11"
  }
 },
 "nbformat": 4,
 "nbformat_minor": 0
}
