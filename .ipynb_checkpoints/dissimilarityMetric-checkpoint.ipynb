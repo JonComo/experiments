{
 "cells": [
  {
   "cell_type": "code",
   "execution_count": 1,
   "metadata": {
    "collapsed": true
   },
   "outputs": [],
   "source": [
    "# hypernym (person - woman, man, child, boy, girl, judge, etc.)\n",
    "# http://arxiv.org/pdf/1511.06361v5.pdf\n",
    "# https://www.evernote.com/shard/s189/sh/ce6b4b86-ed5a-42ae-9501-e2156a9bc4b6/56b6681999e1dda5e79c0941c1f92216"
   ]
  },
  {
   "cell_type": "code",
   "execution_count": 2,
   "metadata": {
    "collapsed": true
   },
   "outputs": [],
   "source": [
    "%matplotlib inline"
   ]
  },
  {
   "cell_type": "code",
   "execution_count": 3,
   "metadata": {
    "collapsed": true
   },
   "outputs": [],
   "source": [
    "from matplotlib import pyplot as plt\n",
    "import numpy as np"
   ]
  },
  {
   "cell_type": "code",
   "execution_count": 86,
   "metadata": {
    "collapsed": false
   },
   "outputs": [
    {
     "name": "stdout",
     "output_type": "stream",
     "text": [
      "y [0 1 0 1]\n",
      "x [0 0 1 0]\n",
      "y-x [ 0  1 -1  1]\n",
      "max [0 1 0 1]\n",
      "dissimilarity: 2.0\n"
     ]
    }
   ],
   "source": [
    "def dissimilarity(x, y):\n",
    "    return np.linalg.norm(np.maximum(0, y-x)) ** 2\n",
    "\n",
    "x = np.random.randint(2, size=(4))\n",
    "y = np.random.randint(2, size=(4))\n",
    "\n",
    "print 'y', y\n",
    "print 'x', x\n",
    "print 'y-x', y-x\n",
    "print 'max', np.maximum(0, y-x)\n",
    "print 'dissimilarity:', dissimilarity(x, y)"
   ]
  },
  {
   "cell_type": "code",
   "execution_count": 143,
   "metadata": {
    "collapsed": false
   },
   "outputs": [
    {
     "name": "stdout",
     "output_type": "stream",
     "text": [
      "set(['like', 'i', 'without', 'peppers', 'with', 'pizza'])\n",
      "order1 1.0 order2 0.0\n",
      "I like peppers pizza  - more general than -  I like pizza with peppers\n"
     ]
    }
   ],
   "source": [
    "s = \"I like pizza without with peppers\"\n",
    "vocab = set(s.lower().split(\" \"))\n",
    "\n",
    "print vocab\n",
    "\n",
    "def encode(s):\n",
    "    words = set(s.lower().split())\n",
    "    e = np.zeros(len(vocab))\n",
    "    for i, v in enumerate(vocab):\n",
    "        e[i] = v in words\n",
    "    return e\n",
    "\n",
    "A = \"I like peppers pizza\"\n",
    "B = \"I like pizza with peppers\"\n",
    "\n",
    "a = encode(A)\n",
    "b = encode(B)\n",
    "\n",
    "order1 = dissimilarity(a, b)\n",
    "order2 = dissimilarity(b, a)\n",
    "\n",
    "print \"order1\", order1, \"order2\", order2\n",
    "\n",
    "if order1 > order2:\n",
    "    print A, \" - more general than - \", B\n",
    "elif order1 < order2:\n",
    "    print B, \" - more general than - \", A\n",
    "else:\n",
    "    print A, \" - no order - \", B"
   ]
  },
  {
   "cell_type": "code",
   "execution_count": null,
   "metadata": {
    "collapsed": true
   },
   "outputs": [],
   "source": []
  }
 ],
 "metadata": {
  "kernelspec": {
   "display_name": "Python 2",
   "language": "python",
   "name": "python2"
  },
  "language_info": {
   "codemirror_mode": {
    "name": "ipython",
    "version": 2
   },
   "file_extension": ".py",
   "mimetype": "text/x-python",
   "name": "python",
   "nbconvert_exporter": "python",
   "pygments_lexer": "ipython2",
   "version": "2.7.10"
  }
 },
 "nbformat": 4,
 "nbformat_minor": 0
}
