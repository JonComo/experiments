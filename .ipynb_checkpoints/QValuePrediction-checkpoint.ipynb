{
 "cells": [
  {
   "cell_type": "code",
   "execution_count": 1,
   "metadata": {
    "collapsed": true
   },
   "outputs": [],
   "source": [
    "%matplotlib inline"
   ]
  },
  {
   "cell_type": "code",
   "execution_count": 2,
   "metadata": {
    "collapsed": true
   },
   "outputs": [],
   "source": [
    "import numpy as np\n",
    "from matplotlib import pyplot as plt\n",
    "import cv2\n",
    "from IPython.display import clear_output\n",
    "import tensorflow as tf\n",
    "from time import sleep"
   ]
  },
  {
   "cell_type": "code",
   "execution_count": 3,
   "metadata": {
    "collapsed": false
   },
   "outputs": [],
   "source": [
    "IMG_DIM = 10\n",
    "ACTIONS = [[0, -1], [0, 1], [-1, 0], [1, 0]]\n",
    "\n",
    "position = [0, 0]\n",
    "target = [4, 4]\n",
    "\n",
    "def randomAction():\n",
    "    return ACTIONS[np.random.randint(len(ACTIONS))]\n",
    "\n",
    "def encodeAction(a):\n",
    "    zeros = np.zeros((1, len(ACTIONS)))\n",
    "    zeros[0, ACTIONS.index(a)] = 1.0\n",
    "    return zeros\n",
    "\n",
    "def performAction(a, pos):\n",
    "    newPos = np.add(pos, a)\n",
    "    newPos[0] = min(max(newPos[0], 0), IMG_DIM-1)\n",
    "    newPos[1] = min(max(newPos[1], 0), IMG_DIM-1)\n",
    "    return newPos\n",
    "\n",
    "def state(pos, targ):\n",
    "    img = np.zeros((IMG_DIM, IMG_DIM))\n",
    "    img[pos[0], pos[1]] = 1.0\n",
    "    #img[targ[0], targ[1]] = 0.0\n",
    "    return img\n",
    "\n",
    "def imshow(mat, normalize=False):\n",
    "    if normalize:\n",
    "        plt.imshow(mat, interpolation='nearest', cmap=plt.cm.gray)\n",
    "    else:\n",
    "        plt.imshow(mat, interpolation='nearest', cmap=plt.cm.gray, vmin=0.0, vmax=1.0)\n",
    "    \n",
    "def dist(p1, p2):\n",
    "    return np.sqrt(np.square(p1[0] - p2[0]) + np.square(p1[1] - p2[1]))"
   ]
  },
  {
   "cell_type": "code",
   "execution_count": 4,
   "metadata": {
    "collapsed": false
   },
   "outputs": [
    {
     "name": "stdout",
     "output_type": "stream",
     "text": [
      "[0, 0]\n",
      "[-1, 0]\n",
      "[[ 0.  0.  1.  0.]]\n",
      "[0 0]\n",
      "5.65685424949\n"
     ]
    },
    {
     "data": {
      "image/png": "[encoded data removed]",
      "text/plain": [
       "<matplotlib.figure.Figure at 0x10dde0390>"
      ]
     },
     "metadata": {},
     "output_type": "display_data"
    }
   ],
   "source": [
    "print position\n",
    "a = randomAction()\n",
    "enc = encodeAction(a)\n",
    "print a\n",
    "print enc\n",
    "position = performAction(a, position)\n",
    "print position\n",
    "print dist(position, target)\n",
    "imshow(state(position, target))"
   ]
  },
  {
   "cell_type": "code",
   "execution_count": 5,
   "metadata": {
    "collapsed": true
   },
   "outputs": [],
   "source": [
    "# Define a network that takes as input state and action and outputs a predicted value (Q value)\n",
    "INPUT = IMG_DIM**2+len(ACTIONS)\n",
    "HIDDEN = 16\n",
    "OUT = 1\n",
    "\n",
    "data_in = tf.placeholder(tf.float32, shape=(1, INPUT))\n",
    "actual_value = tf.placeholder(tf.float32, shape=(1, 1))\n",
    "\n",
    "W1 = tf.Variable(tf.truncated_normal((INPUT, HIDDEN), stddev=.1))\n",
    "b1 = tf.Variable(tf.truncated_normal((1, HIDDEN), stddev=.1))\n",
    "h1 = tf.tanh(tf.add(tf.matmul(data_in, W1), b1))\n",
    "\n",
    "W2 = tf.Variable(tf.truncated_normal((HIDDEN, HIDDEN), stddev=.1))\n",
    "b2 = tf.Variable(tf.truncated_normal((1, HIDDEN), stddev=.1))\n",
    "h2 = tf.tanh(tf.add(tf.matmul(h1, W2), b2))\n",
    "\n",
    "W3 = tf.Variable(tf.truncated_normal((HIDDEN, OUT), stddev=.1))\n",
    "b3 = tf.Variable(tf.truncated_normal((1, OUT)))\n",
    "predicted_value = tf.add(tf.matmul(h2, W3), b3)\n",
    "\n",
    "cost = tf.reduce_mean(tf.square(actual_value - predicted_value))"
   ]
  },
  {
   "cell_type": "code",
   "execution_count": 6,
   "metadata": {
    "collapsed": true
   },
   "outputs": [],
   "source": [
    "if 'sess' in globals():\n",
    "    sess.close()\n",
    "    \n",
    "sess = tf.InteractiveSession()"
   ]
  },
  {
   "cell_type": "code",
   "execution_count": 7,
   "metadata": {
    "collapsed": true
   },
   "outputs": [],
   "source": [
    "sess.run(tf.initialize_all_variables())"
   ]
  },
  {
   "cell_type": "code",
   "execution_count": 8,
   "metadata": {
    "collapsed": true
   },
   "outputs": [],
   "source": [
    "train = tf.train.GradientDescentOptimizer(0.01).minimize(cost)"
   ]
  },
  {
   "cell_type": "code",
   "execution_count": 9,
   "metadata": {
    "collapsed": false
   },
   "outputs": [
    {
     "data": {
      "image/png": "[encoded data removed]",
      "text/plain": [
       "<matplotlib.figure.Figure at 0x112177490>"
      ]
     },
     "metadata": {},
     "output_type": "display_data"
    }
   ],
   "source": [
    "# Visualize the predicted reward for each action in each position\n",
    "def viz_reward():\n",
    "    position = [0, 0]\n",
    "    target = [5, 5]\n",
    "    img = np.zeros((IMG_DIM, IMG_DIM))\n",
    "\n",
    "    for i in xrange(IMG_DIM):\n",
    "        for j in xrange(IMG_DIM):\n",
    "            position = [i, j]\n",
    "\n",
    "            data = np.array(state(position, target))\n",
    "            data = data.reshape((1, IMG_DIM**2))\n",
    "\n",
    "            for action in ACTIONS:\n",
    "                action_enc = encodeAction(action)\n",
    "                test_data = np.concatenate((data, action_enc), axis=1)\n",
    "                test_pred = predicted_value.eval({data_in: test_data})\n",
    "                action_dir = performAction(action, position)\n",
    "                img[action_dir[0], action_dir[1]] += test_pred\n",
    "\n",
    "    imshow(img, normalize=True)\n",
    "    \n",
    "viz_reward()"
   ]
  },
  {
   "cell_type": "code",
   "execution_count": 10,
   "metadata": {
    "collapsed": false
   },
   "outputs": [
    {
     "data": {
      "image/png": "[encoded data removed]",
      "text/plain": [
       "<matplotlib.figure.Figure at 0x112d6b490>"
      ]
     },
     "metadata": {},
     "output_type": "display_data"
    }
   ],
   "source": [
    "# Run a train session, picking actions at random\n",
    "target = [5, 5]\n",
    "reward = 0.0\n",
    "\n",
    "for i in xrange(10000):\n",
    "    position = [np.random.randint(IMG_DIM), np.random.randint(IMG_DIM)]\n",
    "\n",
    "    data = np.asarray(state(position, target)).reshape((1, IMG_DIM**2))\n",
    "    action = randomAction()\n",
    "    action_enc = encodeAction(action)\n",
    "    data = np.concatenate((data, action_enc), axis=1)\n",
    "    \n",
    "    old_dist = dist(position, target)\n",
    "    position = performAction(action, position)\n",
    "    diff = old_dist - dist(position, target)\n",
    "    \n",
    "    reward = -1\n",
    "    if diff > 0.:\n",
    "        reward = 1.\n",
    "    \n",
    "    fd = {data_in: data, actual_value: [[reward]]}\n",
    "    sess.run(train, fd)\n",
    "    if i%1000==0:\n",
    "        print 'cost', cost.eval(fd)\n",
    "        clear_output(wait=True)\n",
    "        viz_reward()\n",
    "        plt.show()"
   ]
  },
  {
   "cell_type": "code",
   "execution_count": 45,
   "metadata": {
    "collapsed": false
   },
   "outputs": [
    {
     "name": "stdout",
     "output_type": "stream",
     "text": [
      "[[-0.01434392]]\n"
     ]
    },
    {
     "data": {
      "image/png": "[encoded data removed]",
      "text/plain": [
       "<matplotlib.figure.Figure at 0x112453a50>"
      ]
     },
     "metadata": {},
     "output_type": "display_data"
    }
   ],
   "source": [
    "# Do a rollout using the max valued action\n",
    "position = [2, 2]\n",
    "position = [np.random.randint(IMG_DIM), np.random.randint(IMG_DIM)]\n",
    "\n",
    "\n",
    "for i in xrange(4):\n",
    "    data = np.asarray(state(position, target)).reshape((1, IMG_DIM**2))\n",
    "    max_pred = float('-inf')\n",
    "    best_action = None\n",
    "    \n",
    "    for action in ACTIONS:\n",
    "        action_enc = encodeAction(action)\n",
    "        test_data = np.concatenate((data, action_enc), axis=1)\n",
    "        test_pred = predicted_value.eval({data_in: test_data})\n",
    "        if test_pred > max_pred:\n",
    "            best_action = action\n",
    "            max_pred = test_pred\n",
    "            \n",
    "    if best_action is None:\n",
    "        break\n",
    "    \n",
    "    position = performAction(best_action, position)\n",
    "    \n",
    "    clear_output(wait=True)\n",
    "    print max_pred\n",
    "    imshow(state(position, target))\n",
    "    plt.show()"
   ]
  },
  {
   "cell_type": "code",
   "execution_count": 63,
   "metadata": {
    "collapsed": false
   },
   "outputs": [
    {
     "data": {
      "image/png": "[encoded data removed]",
      "text/plain": [
       "<matplotlib.figure.Figure at 0x1124ab750>"
      ]
     },
     "metadata": {},
     "output_type": "display_data"
    }
   ],
   "source": [
    "# Do a rollout by actually trying each action\n",
    "position = [0, 9]\n",
    "position = [np.random.randint(IMG_DIM), np.random.randint(IMG_DIM)]\n",
    "\n",
    "for i in xrange(100):\n",
    "    data = np.asarray(state(position, target)).reshape((1, IMG_DIM**2))\n",
    "    max_pred = float('-inf')\n",
    "    best_action = None\n",
    "    \n",
    "    d = dist(position, target)\n",
    "    for action in ACTIONS:\n",
    "        newp = performAction(action, position)\n",
    "        if dist(newp, target) < d:\n",
    "            best_action = action\n",
    "    \n",
    "    if best_action is None:\n",
    "        break\n",
    "        \n",
    "    position = performAction(best_action, position)\n",
    "    \n",
    "    clear_output(wait=True)\n",
    "    imshow(state(position, target))\n",
    "    plt.show()"
   ]
  },
  {
   "cell_type": "code",
   "execution_count": null,
   "metadata": {
    "collapsed": true
   },
   "outputs": [],
   "source": []
  },
  {
   "cell_type": "code",
   "execution_count": null,
   "metadata": {
    "collapsed": true
   },
   "outputs": [],
   "source": []
  },
  {
   "cell_type": "code",
   "execution_count": null,
   "metadata": {
    "collapsed": true
   },
   "outputs": [],
   "source": []
  },
  {
   "cell_type": "code",
   "execution_count": null,
   "metadata": {
    "collapsed": true
   },
   "outputs": [],
   "source": []
  },
  {
   "cell_type": "code",
   "execution_count": null,
   "metadata": {
    "collapsed": true
   },
   "outputs": [],
   "source": []
  }
 ],
 "metadata": {
  "kernelspec": {
   "display_name": "Python 2",
   "language": "python",
   "name": "python2"
  },
  "language_info": {
   "codemirror_mode": {
    "name": "ipython",
    "version": 2
   },
   "file_extension": ".py",
   "mimetype": "text/x-python",
   "name": "python",
   "nbconvert_exporter": "python",
   "pygments_lexer": "ipython2",
   "version": "2.7.10"
  }
 },
 "nbformat": 4,
 "nbformat_minor": 0
}
