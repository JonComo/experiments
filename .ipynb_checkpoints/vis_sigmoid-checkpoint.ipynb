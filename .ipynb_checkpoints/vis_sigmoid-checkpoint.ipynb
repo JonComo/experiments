{
 "cells": [
  {
   "cell_type": "code",
   "execution_count": 1,
   "metadata": {
    "collapsed": true
   },
   "outputs": [],
   "source": [
    "%matplotlib inline"
   ]
  },
  {
   "cell_type": "code",
   "execution_count": 2,
   "metadata": {
    "collapsed": true
   },
   "outputs": [],
   "source": [
    "from matplotlib import pyplot as plt\n",
    "import numpy as np\n",
    "from IPython.display import clear_output\n",
    "from ipywidgets import interact"
   ]
  },
  {
   "cell_type": "code",
   "execution_count": 3,
   "metadata": {
    "collapsed": true
   },
   "outputs": [],
   "source": [
    "import tensorflow as tf"
   ]
  },
  {
   "cell_type": "code",
   "execution_count": 20,
   "metadata": {
    "collapsed": false
   },
   "outputs": [
    {
     "data": {
      "image/png": "[encoded data removed]",
      "text/plain": [
       "<matplotlib.figure.Figure at 0x11314e128>"
      ]
     },
     "metadata": {},
     "output_type": "display_data"
    }
   ],
   "source": [
    "X_MIN = -2.0 * np.pi\n",
    "X_MAX = 2.0 * np.pi\n",
    "\n",
    "T = np.linspace(X_MIN, X_MAX, 100)\n",
    "\n",
    "def f(x):\n",
    "    return np.sin(x)\n",
    "\n",
    "def vis():\n",
    "    model_out = [y.eval({x: [[t]]})[0] for t in T]\n",
    "    \n",
    "    plt.gca().set_aspect('equal')\n",
    "    plt.yticks([-1, 0, 1])\n",
    "    \n",
    "    fig = plt.plot(T, f(T), 'b', T, model_out, 'r')\n",
    "    plt.plot()\n",
    "    \n",
    "vis()"
   ]
  },
  {
   "cell_type": "code",
   "execution_count": 49,
   "metadata": {
    "collapsed": true
   },
   "outputs": [],
   "source": [
    "# define neural net to take in 1 val, have a number of hidden, and one output\n",
    "\n",
    "H = 20\n",
    "\n",
    "x = tf.placeholder(tf.float32, [1, 1])\n",
    "t = tf.placeholder(tf.float32, [1, 1])\n",
    "\n",
    "W1 = tf.Variable(tf.random_normal([1, H]))\n",
    "b1 = tf.Variable(tf.constant(0.1, shape=[H]))\n",
    "\n",
    "h = tf.tanh(tf.matmul(x, W1) + b1)\n",
    "\n",
    "W2 = tf.Variable(tf.random_normal([H, 1]))\n",
    "b2 = tf.Variable(tf.constant(0.1, shape=[1]))\n",
    "\n",
    "y = tf.matmul(h, W2) + b2\n",
    "\n",
    "cost = tf.square(y - t)"
   ]
  },
  {
   "cell_type": "code",
   "execution_count": 50,
   "metadata": {
    "collapsed": false
   },
   "outputs": [],
   "source": [
    "if 'session' in globals():\n",
    "    session.close()\n",
    "    \n",
    "session = tf.InteractiveSession()\n",
    "session.run(tf.initialize_all_variables())"
   ]
  },
  {
   "cell_type": "code",
   "execution_count": 59,
   "metadata": {
    "collapsed": true
   },
   "outputs": [],
   "source": [
    "train = tf.train.GradientDescentOptimizer(0.001).minimize(cost)"
   ]
  },
  {
   "cell_type": "code",
   "execution_count": 60,
   "metadata": {
    "collapsed": false
   },
   "outputs": [
    {
     "data": {
      "image/png": "[encoded data removed]",
      "text/plain": [
       "<matplotlib.figure.Figure at 0x112511e48>"
      ]
     },
     "metadata": {},
     "output_type": "display_data"
    }
   ],
   "source": [
    "for i in range(20000):\n",
    "    rand_x = np.random.uniform(X_MIN, X_MAX)\n",
    "    session.run(train, {x: [[rand_x]], t: [[f(rand_x)]]})\n",
    "    \n",
    "    if i%2000==0:\n",
    "        clear_output(wait=True)\n",
    "        vis()\n",
    "        plt.show()"
   ]
  },
  {
   "cell_type": "code",
   "execution_count": null,
   "metadata": {
    "collapsed": true
   },
   "outputs": [],
   "source": []
  }
 ],
 "metadata": {
  "kernelspec": {
   "display_name": "Python 3",
   "language": "python",
   "name": "python3"
  },
  "language_info": {
   "codemirror_mode": {
    "name": "ipython",
    "version": 3
   },
   "file_extension": ".py",
   "mimetype": "text/x-python",
   "name": "python",
   "nbconvert_exporter": "python",
   "pygments_lexer": "ipython3",
   "version": "3.4.4"
  }
 },
 "nbformat": 4,
 "nbformat_minor": 0
}
