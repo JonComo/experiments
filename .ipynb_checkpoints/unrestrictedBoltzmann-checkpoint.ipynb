{
 "cells": [
  {
   "cell_type": "code",
   "execution_count": 157,
   "metadata": {
    "collapsed": true
   },
   "outputs": [],
   "source": [
    "%matplotlib inline"
   ]
  },
  {
   "cell_type": "code",
   "execution_count": 158,
   "metadata": {
    "collapsed": true
   },
   "outputs": [],
   "source": [
    "import numpy as np\n",
    "from matplotlib import pyplot as plt\n",
    "from IPython.display import clear_output"
   ]
  },
  {
   "cell_type": "code",
   "execution_count": 186,
   "metadata": {
    "collapsed": false
   },
   "outputs": [],
   "source": [
    "alphabet = 'ABCDEFGHIJKLMNOPQRSTUVWXYZ'\n",
    "\n",
    "itoc = {i: c for i, c in enumerate(alphabet)}\n",
    "ctoi = {c: i for i, c in enumerate(alphabet)}"
   ]
  },
  {
   "cell_type": "code",
   "execution_count": 204,
   "metadata": {
    "collapsed": false
   },
   "outputs": [],
   "source": [
    "N = 6\n",
    "\n",
    "n = np.zeros((N ** 2, 1))\n",
    "W = np.zeros((N ** 2, N ** 2))\n",
    "\n",
    "def act(x):\n",
    "    return 1 * (x > .3)"
   ]
  },
  {
   "cell_type": "code",
   "execution_count": 243,
   "metadata": {
    "collapsed": false
   },
   "outputs": [
    {
     "data": {
      "text/plain": [
       "<matplotlib.image.AxesImage at 0x7f2340320150>"
      ]
     },
     "execution_count": 243,
     "metadata": {},
     "output_type": "execute_result"
    },
    {
     "data": {
      "image/png": "[encoded data removed]",
      "text/plain": [
       "<matplotlib.figure.Figure at 0x7f2340979150>"
      ]
     },
     "metadata": {},
     "output_type": "display_data"
    }
   ],
   "source": [
    "data = [ctoi[c] for c in \"HELLO\"]\n",
    "\n",
    "for i in range(4):\n",
    "    n[:] = 0\n",
    "    gWp = np.zeros_like(W)\n",
    "    gWm = np.zeros_like(W)\n",
    "    \n",
    "    for i, d in enumerate(data):\n",
    "        next_i = i + 1\n",
    "        if next_i > len(data)-1:\n",
    "            next_i = 0\n",
    "            \n",
    "        t = data[next_i]\n",
    "        \n",
    "        # print(itoc[d], itoc[t])\n",
    "        \n",
    "        #n_rand = np.random.random_sample(n.shape)\n",
    "        #n_rand_out = act(W.dot(n_rand))\n",
    "        #gWm += np.multiply(n_rand_out, n_rand.T)\n",
    "        \n",
    "        n_input = n.copy()\n",
    "        n_targ = n.copy()\n",
    "        \n",
    "        n_input[d] = 1\n",
    "        n_targ[t] = 1\n",
    "        \n",
    "        gWp += np.multiply(n_targ, n_input.T)\n",
    "                \n",
    "        #clear_output(wait=True)\n",
    "        #plt.imshow(n.reshape(N, N), cmap=plt.cm.gray, interpolation='nearest')\n",
    "        #plt.show()\n",
    "        \n",
    "    W *= 0.9\n",
    "    W += gWp\n",
    "        \n",
    "plt.imshow(W, interpolation='nearest', cmap=plt.cm.gray)"
   ]
  },
  {
   "cell_type": "code",
   "execution_count": 257,
   "metadata": {
    "collapsed": false
   },
   "outputs": [
    {
     "name": "stdout",
     "output_type": "stream",
     "text": [
      "E\n",
      "L\n",
      "L\n",
      "L\n",
      "L\n",
      "L\n",
      "L\n",
      "L\n",
      "L\n",
      "L\n",
      "L\n",
      "L\n",
      "L\n",
      "L\n",
      "L\n",
      "L\n",
      "L\n",
      "L\n",
      "L\n",
      "L\n"
     ]
    }
   ],
   "source": [
    "n[:] = 0\n",
    "\n",
    "# Rollout\n",
    "idx = ctoi['H']\n",
    "for i in range(20):\n",
    "    n[:] = 0\n",
    "    n[idx] = 1\n",
    "    n = W.dot(n)\n",
    "    idx = n.argmax()\n",
    "    print(itoc[idx])"
   ]
  },
  {
   "cell_type": "code",
   "execution_count": null,
   "metadata": {
    "collapsed": true
   },
   "outputs": [],
   "source": []
  }
 ],
 "metadata": {
  "kernelspec": {
   "display_name": "Python 2",
   "language": "python",
   "name": "python2"
  },
  "language_info": {
   "codemirror_mode": {
    "name": "ipython",
    "version": 2
   },
   "file_extension": ".py",
   "mimetype": "text/x-python",
   "name": "python",
   "nbconvert_exporter": "python",
   "pygments_lexer": "ipython2",
   "version": "2.7.11"
  }
 },
 "nbformat": 4,
 "nbformat_minor": 0
}
