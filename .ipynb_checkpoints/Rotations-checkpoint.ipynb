{
 "cells": [
  {
   "cell_type": "code",
   "execution_count": 1,
   "metadata": {
    "collapsed": true
   },
   "outputs": [],
   "source": [
    "%matplotlib inline"
   ]
  },
  {
   "cell_type": "code",
   "execution_count": 3,
   "metadata": {
    "collapsed": false
   },
   "outputs": [],
   "source": [
    "import numpy as np\n",
    "from numpy import sin, cos\n",
    "import matplotlib.pyplot as plt\n",
    "from mpl_toolkits.mplot3d import Axes3D\n",
    "from IPython.html.widgets import interact, fixed"
   ]
  },
  {
   "cell_type": "code",
   "execution_count": 4,
   "metadata": {
    "collapsed": false
   },
   "outputs": [],
   "source": [
    "def rotate(axis='y', points=None, r=0.0):\n",
    "    if axis is 'x':\n",
    "        matrix = np.matrix([[cos(r), 0, -sin(r)],[0, 1, 0], [sin(r), 0, cos(r)]])\n",
    "    if axis is 'y':\n",
    "        matrix = np.matrix([[1, 0, 0],[0, cos(r), sin(r)], [0, -sin(r), cos(r)]])\n",
    "    if axis is 'z':\n",
    "        matrix = np.matrix([[cos(r), sin(r), 0],[-sin(r), cos(r), 0], [0, 0, 1]])\n",
    "    return np.array(np.dot(points, matrix))"
   ]
  },
  {
   "cell_type": "code",
   "execution_count": 5,
   "metadata": {
    "collapsed": false
   },
   "outputs": [],
   "source": [
    "points = np.random.random((3,3))-(.5,.5,.5)"
   ]
  },
  {
   "cell_type": "code",
   "execution_count": 6,
   "metadata": {
    "collapsed": false
   },
   "outputs": [
    {
     "data": {
      "image/png": "[encoded data removed]",
      "text/plain": [
       "<matplotlib.figure.Figure at 0x112895590>"
      ]
     },
     "metadata": {},
     "output_type": "display_data"
    }
   ],
   "source": [
    "def plot(rX=0.0, rY=0.0, rZ=0.0, e=20.0, a=-120.0):\n",
    "    pointsY = rotate('y', points, rY)\n",
    "    pointsX = rotate('x', pointsY, rX)\n",
    "    pointsZ = rotate('z', pointsX, rZ)\n",
    "    fig = plt.figure()\n",
    "    ax = fig.add_subplot(111, projection='3d')\n",
    "    ax.view_init(elev=e, azim=a)\n",
    "    ax.scatter(points[:,0], points[:,1], points[:,2], c='b')\n",
    "    ax.scatter(pointsZ[:,0], pointsZ[:,1], pointsZ[:,2], c='r')\n",
    "    ax.set_xlabel('x')\n",
    "    ax.set_ylabel('y')\n",
    "    ax.set_zlabel('z')\n",
    "    lim = (-1,1)\n",
    "    ax.set_xlim(lim)\n",
    "    ax.set_ylim(lim)\n",
    "    ax.set_zlim(lim)\n",
    "    \n",
    "rng = (-2*np.pi,2*np.pi,np.pi/20)\n",
    "interact(plot, rX=rng, rY=rng, rZ=rng, e=(0,180,10), a=(-180,0,10))"
   ]
  },
  {
   "cell_type": "code",
   "execution_count": 165,
   "metadata": {
    "collapsed": false
   },
   "outputs": [
    {
     "name": "stdout",
     "output_type": "stream",
     "text": [
      "[ 1.  0.]\n"
     ]
    }
   ],
   "source": [
    "print point"
   ]
  },
  {
   "cell_type": "code",
   "execution_count": null,
   "metadata": {
    "collapsed": true
   },
   "outputs": [],
   "source": []
  },
  {
   "cell_type": "code",
   "execution_count": null,
   "metadata": {
    "collapsed": true
   },
   "outputs": [],
   "source": []
  },
  {
   "cell_type": "code",
   "execution_count": null,
   "metadata": {
    "collapsed": true
   },
   "outputs": [],
   "source": []
  },
  {
   "cell_type": "code",
   "execution_count": null,
   "metadata": {
    "collapsed": true
   },
   "outputs": [],
   "source": []
  },
  {
   "cell_type": "code",
   "execution_count": null,
   "metadata": {
    "collapsed": true
   },
   "outputs": [],
   "source": []
  }
 ],
 "metadata": {
  "kernelspec": {
   "display_name": "Python 2",
   "language": "python",
   "name": "python2"
  },
  "language_info": {
   "codemirror_mode": {
    "name": "ipython",
    "version": 2
   },
   "file_extension": ".py",
   "mimetype": "text/x-python",
   "name": "python",
   "nbconvert_exporter": "python",
   "pygments_lexer": "ipython2",
   "version": "2.7.11"
  }
 },
 "nbformat": 4,
 "nbformat_minor": 0
}
