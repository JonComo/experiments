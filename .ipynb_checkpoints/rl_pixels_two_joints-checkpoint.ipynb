{
 "cells": [
  {
   "cell_type": "code",
   "execution_count": 1,
   "metadata": {
    "collapsed": true
   },
   "outputs": [],
   "source": [
    "%matplotlib inline"
   ]
  },
  {
   "cell_type": "code",
   "execution_count": 2,
   "metadata": {
    "collapsed": true
   },
   "outputs": [],
   "source": [
    "from matplotlib import pyplot as plt\n",
    "import tensorflow as tf\n",
    "import numpy as np\n",
    "from IPython.display import clear_output\n",
    "from ipywidgets import interact\n",
    "import cv2\n",
    "plt.ion()"
   ]
  },
  {
   "cell_type": "code",
   "execution_count": 50,
   "metadata": {
    "collapsed": true
   },
   "outputs": [],
   "source": [
    "# Constants\n",
    "\n",
    "DIM = 32\n",
    "IN = DIM ** 2\n",
    "HIDDEN = 50\n",
    "OUT = 4\n",
    "GAMMA = 0.7\n",
    "A = [i for i in range(OUT)]"
   ]
  },
  {
   "cell_type": "code",
   "execution_count": 51,
   "metadata": {
    "collapsed": false
   },
   "outputs": [],
   "source": [
    "def arm(t1=0, t2=0, target_point=(0, 0)):\n",
    "    img = np.zeros((DIM, DIM))\n",
    "    #img = np.random.random_sample((DIM, DIM)) * .4 - .2\n",
    "    l1, l2 = DIM/4.0, DIM/4.0\n",
    "    x, y = int(DIM/2.0), int(DIM/2.0)\n",
    "    x1, y1 = int(x + np.cos(t1) * l1), int(y + np.sin(t1) * l1)\n",
    "    x2, y2 = int(x1 + np.cos(t2) * l2), int(y1 + np.sin(t2) * l2)\n",
    "    cv2.line(img, (x, y), (x1, y1), (1))\n",
    "    cv2.line(img, (x1, y1), (x2, y2), (1))\n",
    "    \n",
    "    dist = np.sqrt(np.square(x2 - target_point[0]) + np.square(y2 - target_point[1]))\n",
    "    \n",
    "    return img, dist"
   ]
  },
  {
   "cell_type": "code",
   "execution_count": 52,
   "metadata": {
    "collapsed": false
   },
   "outputs": [
    {
     "data": {
      "image/png": "[encoded data removed]",
      "text/plain": [
       "<matplotlib.figure.Figure at 0x7f65036efdd0>"
      ]
     },
     "metadata": {},
     "output_type": "display_data"
    }
   ],
   "source": [
    "def move(t1=0, t2=0):\n",
    "    img, dist = arm(t1, t2, (0, 0))\n",
    "    plt.imshow(img, interpolation='nearest', cmap=plt.cm.gray)\n",
    "    #print(dist)\n",
    "    \n",
    "interact(move, t1=(0, np.pi * 2.0, np.pi/4.0), t2=(0, np.pi * 2.0, np.pi/4.0))"
   ]
  },
  {
   "cell_type": "code",
   "execution_count": 53,
   "metadata": {
    "collapsed": false
   },
   "outputs": [
    {
     "name": "stdout",
     "output_type": "stream",
     "text": [
      "(0.0, 0.39269908169872414)\n"
     ]
    }
   ],
   "source": [
    "def theta_update_from_action(action_index):\n",
    "    dt = np.pi/8.0\n",
    "    if action_index == 0:\n",
    "        return (-dt, 0.0)\n",
    "    elif action_index == 1:\n",
    "        return (dt, 0.0)\n",
    "    elif action_index == 2:\n",
    "        return (0.0, -dt)\n",
    "    elif action_index == 3:\n",
    "        return (0.0, dt)\n",
    "    \n",
    "print(theta_update_from_action(3))"
   ]
  },
  {
   "cell_type": "code",
   "execution_count": 54,
   "metadata": {
    "collapsed": false
   },
   "outputs": [
    {
     "data": {
      "text/plain": [
       "<function __main__.vis_policy>"
      ]
     },
     "execution_count": 54,
     "metadata": {},
     "output_type": "execute_result"
    },
    {
     "data": {
      "image/png": "[encoded data removed]",
      "text/plain": [
       "<matplotlib.figure.Figure at 0x7f6503910ad0>"
      ]
     },
     "metadata": {},
     "output_type": "display_data"
    }
   ],
   "source": [
    "def policy(qs, eps):\n",
    "    dist = np.full((OUT), float(eps)/float(OUT))\n",
    "    dist[np.argmax(qs)] += (1.0 - eps)\n",
    "    return dist\n",
    "\n",
    "def sample_action(policy):\n",
    "    return np.random.choice(A, p=policy)\n",
    "    \n",
    "def vis_policy(eps):\n",
    "    plt.axis([0,3,0,1])\n",
    "    p = policy([[.2],[.2],[.5]], eps)\n",
    "    fig = plt.plot(p)\n",
    "    \n",
    "interact(vis_policy, eps=(0, 1.0, .1))"
   ]
  },
  {
   "cell_type": "code",
   "execution_count": 55,
   "metadata": {
    "collapsed": false
   },
   "outputs": [],
   "source": [
    "# Visualize the value of each action over thetas\n",
    "def vis_avs():\n",
    "    T = np.linspace(0.0, np.pi * 2.0, 20)\n",
    "    \n",
    "    t1s = []\n",
    "    for t1 in T:\n",
    "        data1, dist1 = arm(t1, 0.0, target_point)\n",
    "        avs = y.eval(feed_dict={x: data1.reshape((IN, 1)), keep_prob: 1.0})\n",
    "        t1s.append(avs)\n",
    "    t1s = np.array(t1s)\n",
    "    \n",
    "    t2s = []\n",
    "    for t2 in T:\n",
    "        data1, dist1 = arm(0.0, t2, target_point)\n",
    "        avs = y.eval(feed_dict={x: data1.reshape((IN, 1)), keep_prob: 1.0})\n",
    "        t2s.append(avs)\n",
    "    t2s = np.array(t2s)\n",
    "    \n",
    "    plt.figure(1)\n",
    "    \n",
    "    plt.subplot(211)\n",
    "    plt.plot(t1s[:,0], c='r')\n",
    "    plt.plot(t1s[:,1], c='g')\n",
    "    plt.plot(t1s[:,2], c='b')\n",
    "    plt.plot(t1s[:,3], c='y')\n",
    "    \n",
    "    plt.subplot(212)\n",
    "    plt.plot(t2s[:,0], c='r')\n",
    "    plt.plot(t2s[:,1], c='g')\n",
    "    plt.plot(t2s[:,2], c='b')\n",
    "    plt.plot(t2s[:,3], c='y')\n",
    "    \n",
    "# vis_avs()"
   ]
  },
  {
   "cell_type": "code",
   "execution_count": 56,
   "metadata": {
    "collapsed": true
   },
   "outputs": [],
   "source": [
    "# Define neural net\n",
    "x = tf.placeholder(tf.float32, (IN, 1))\n",
    "t = tf.placeholder(tf.float32, (OUT, 1))\n",
    "\n",
    "keep_prob = tf.placeholder(\"float\")\n",
    "\n",
    "W1 = tf.Variable(tf.random_normal((HIDDEN, IN)))\n",
    "b1 = tf.Variable(tf.random_normal((HIDDEN, 1)))\n",
    "\n",
    "W2 = tf.Variable(tf.random_normal((HIDDEN, HIDDEN)))\n",
    "b2 = tf.Variable(tf.random_normal((HIDDEN, 1)))\n",
    "\n",
    "W3 = tf.Variable(tf.random_normal((OUT, HIDDEN)))\n",
    "b3 = tf.Variable(tf.random_normal((OUT, 1)))\n",
    "\n",
    "h1 = tf.tanh(tf.matmul(W1, x) + b1)\n",
    "h1_drop = tf.nn.dropout(h1, keep_prob)\n",
    "\n",
    "h2 = tf.tanh(tf.matmul(W2, h1_drop) + b2)\n",
    "h2_drop = tf.nn.dropout(h2, keep_prob)\n",
    "\n",
    "y = tf.matmul(W3, h2_drop) + b3\n",
    "\n",
    "cost = tf.reduce_sum(tf.square(y - t))"
   ]
  },
  {
   "cell_type": "code",
   "execution_count": 57,
   "metadata": {
    "collapsed": false
   },
   "outputs": [],
   "source": [
    "if 'session' in globals():\n",
    "    session.close()\n",
    "    \n",
    "session = tf.InteractiveSession()\n",
    "session.run(tf.initialize_all_variables())"
   ]
  },
  {
   "cell_type": "code",
   "execution_count": 76,
   "metadata": {
    "collapsed": false
   },
   "outputs": [],
   "source": [
    "train = tf.train.GradientDescentOptimizer(0.001).minimize(cost)\n",
    "# session.run(tf.initialize_all_variables())"
   ]
  },
  {
   "cell_type": "code",
   "execution_count": 77,
   "metadata": {
    "collapsed": false
   },
   "outputs": [
    {
     "data": {
      "image/png": "[encoded data removed]",
      "text/plain": [
       "<matplotlib.figure.Figure at 0x7f650397f4d0>"
      ]
     },
     "metadata": {},
     "output_type": "display_data"
    },
    {
     "name": "stdout",
     "output_type": "stream",
     "text": [
      "(9000, 0.00062191312)\n"
     ]
    }
   ],
   "source": [
    "target_point = (DIM/2, DIM)\n",
    "\n",
    "eps = .8\n",
    "\n",
    "for i in range(10000):\n",
    "    t1, t2 = np.random.random_sample() * 2.0 * np.pi, np.random.random_sample() * 2.0 * np.pi\n",
    "    \n",
    "    # Get current state\n",
    "    data1, dist1 = arm(t1, t2, target_point)\n",
    "    \n",
    "    # Get action values\n",
    "    avs1 = y.eval(feed_dict={x: data1.reshape((IN, 1)), keep_prob: 1.0})\n",
    "    \n",
    "    # Perform random action\n",
    "    #rand_action = np.random.randint(0, OUT)\n",
    "    a = sample_action(policy(avs1, eps))\n",
    "    \n",
    "    dt1, dt2 = theta_update_from_action(a)\n",
    "    t1, t2 = t1 + dt1, t2 + dt2\n",
    "    \n",
    "    # Get new state\n",
    "    data2, dist2 = arm(t1, t2, target_point)\n",
    "    \n",
    "    # Get reward for that action\n",
    "    reward = (dist1 - dist2) / float(DIM)\n",
    "    \n",
    "    # Get action values\n",
    "    avs2 = y.eval(feed_dict={x: data2.reshape((IN, 1)), keep_prob: 1.0})\n",
    "    \n",
    "    # Create target action values for first state\n",
    "    target_avs = avs1\n",
    "    target_avs[a] = reward + avs2.T.dot(policy(avs2, eps)) * GAMMA\n",
    "    \n",
    "    session.run(train, feed_dict={x: data1.reshape((IN, 1)), t: target_avs, keep_prob: 0.9})\n",
    "    \n",
    "    if i%1000 == 0:\n",
    "        c = cost.eval(feed_dict={x: data1.reshape((IN, 1)), t: target_avs, keep_prob: 1.0})\n",
    "        clear_output(wait=True)\n",
    "        vis_avs()\n",
    "        plt.show()\n",
    "        print(i, c)"
   ]
  },
  {
   "cell_type": "code",
   "execution_count": 80,
   "metadata": {
    "collapsed": false
   },
   "outputs": [
    {
     "data": {
      "image/png": "[encoded data removed]",
      "text/plain": [
       "<matplotlib.figure.Figure at 0x7f6503058150>"
      ]
     },
     "metadata": {},
     "output_type": "display_data"
    }
   ],
   "source": [
    "# Do a rollout of agent's behavior\n",
    "\n",
    "eps = 0.2\n",
    "\n",
    "def rollout(runs=1, iters=500):\n",
    "    t1, t2 = np.random.random_sample() * 2.0 * np.pi, np.random.random_sample() * 2.0 * np.pi\n",
    "    \n",
    "    for i in range(runs):\n",
    "        t1, t2 = np.random.random_sample() * 2.0 * np.pi, np.random.random_sample() * 2.0 * np.pi\n",
    "        for i in range(iters):\n",
    "            data1, dist1 = arm(t1, t2, target_point)\n",
    "\n",
    "            avs = y.eval(feed_dict={x: data1.reshape((IN, 1)), keep_prob: 1.0})\n",
    "\n",
    "            a = sample_action(policy(avs, eps))\n",
    "\n",
    "            dt1, dt2 = theta_update_from_action(a)\n",
    "            t1, t2 = t1 + dt1, t2 + dt2\n",
    "\n",
    "            data2, dist2 = arm(t1, t2, target_point)\n",
    "\n",
    "            clear_output(wait=True)\n",
    "            plt.imshow(data2, interpolation='nearest', cmap=plt.cm.gray)\n",
    "            plt.show()\n",
    "        \n",
    "rollout()"
   ]
  },
  {
   "cell_type": "code",
   "execution_count": null,
   "metadata": {
    "collapsed": true
   },
   "outputs": [],
   "source": []
  },
  {
   "cell_type": "code",
   "execution_count": null,
   "metadata": {
    "collapsed": true
   },
   "outputs": [],
   "source": []
  },
  {
   "cell_type": "code",
   "execution_count": null,
   "metadata": {
    "collapsed": true
   },
   "outputs": [],
   "source": []
  },
  {
   "cell_type": "code",
   "execution_count": null,
   "metadata": {
    "collapsed": true
   },
   "outputs": [],
   "source": []
  },
  {
   "cell_type": "code",
   "execution_count": null,
   "metadata": {
    "collapsed": true
   },
   "outputs": [],
   "source": []
  },
  {
   "cell_type": "code",
   "execution_count": null,
   "metadata": {
    "collapsed": true
   },
   "outputs": [],
   "source": []
  },
  {
   "cell_type": "code",
   "execution_count": null,
   "metadata": {
    "collapsed": true
   },
   "outputs": [],
   "source": []
  },
  {
   "cell_type": "code",
   "execution_count": null,
   "metadata": {
    "collapsed": true
   },
   "outputs": [],
   "source": []
  },
  {
   "cell_type": "code",
   "execution_count": null,
   "metadata": {
    "collapsed": true
   },
   "outputs": [],
   "source": []
  },
  {
   "cell_type": "code",
   "execution_count": null,
   "metadata": {
    "collapsed": true
   },
   "outputs": [],
   "source": []
  },
  {
   "cell_type": "code",
   "execution_count": null,
   "metadata": {
    "collapsed": true
   },
   "outputs": [],
   "source": []
  },
  {
   "cell_type": "code",
   "execution_count": null,
   "metadata": {
    "collapsed": true
   },
   "outputs": [],
   "source": []
  },
  {
   "cell_type": "code",
   "execution_count": null,
   "metadata": {
    "collapsed": true
   },
   "outputs": [],
   "source": []
  },
  {
   "cell_type": "code",
   "execution_count": null,
   "metadata": {
    "collapsed": true
   },
   "outputs": [],
   "source": [
    "\n"
   ]
  }
 ],
 "metadata": {
  "kernelspec": {
   "display_name": "Python 2",
   "language": "python",
   "name": "python2"
  },
  "language_info": {
   "codemirror_mode": {
    "name": "ipython",
    "version": 2
   },
   "file_extension": ".py",
   "mimetype": "text/x-python",
   "name": "python",
   "nbconvert_exporter": "python",
   "pygments_lexer": "ipython2",
   "version": "2.7.11"
  }
 },
 "nbformat": 4,
 "nbformat_minor": 0
}
