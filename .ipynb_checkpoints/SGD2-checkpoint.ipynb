{
 "cells": [
  {
   "cell_type": "code",
   "execution_count": 1,
   "metadata": {
    "collapsed": true
   },
   "outputs": [],
   "source": [
    "%matplotlib inline"
   ]
  },
  {
   "cell_type": "code",
   "execution_count": 3,
   "metadata": {
    "collapsed": false
   },
   "outputs": [],
   "source": [
    "import numpy as np\n",
    "import random\n",
    "from matplotlib import pyplot as plt\n",
    "\n",
    "#interact\n",
    "from IPython.html.widgets import interact"
   ]
  },
  {
   "cell_type": "code",
   "execution_count": 6,
   "metadata": {
    "collapsed": false
   },
   "outputs": [
    {
     "data": {
      "text/plain": [
       "<function __main__.learn_that>"
      ]
     },
     "execution_count": 6,
     "metadata": {},
     "output_type": "execute_result"
    },
    {
     "data": {
      "image/png": "[encoded data removed]",
      "text/plain": [
       "<matplotlib.figure.Figure at 0x1116de490>"
      ]
     },
     "metadata": {},
     "output_type": "display_data"
    }
   ],
   "source": [
    "class Unit():\n",
    "    #parameters to learn\n",
    "    params = [random.random()*2. - 1. for x in xrange(4)]\n",
    "    #working data point\n",
    "    data_point = [0.0]\n",
    "    #numerical gradient\n",
    "    h = 0.00001\n",
    "    #learning rate\n",
    "    gamma = 0.1\n",
    "    \n",
    "    def hypothesis(self, params, data_point):\n",
    "        out = params[0]\n",
    "        for param in params:\n",
    "            idx = params.index(param)\n",
    "            out += param*data_point[0]**(idx)\n",
    "        return out\n",
    "    \n",
    "    def cost(self, real, predicted):\n",
    "        c = (real - predicted) ** 2\n",
    "        return c\n",
    "    \n",
    "    #Find best parameters to fit hypothesis\n",
    "    def fit(self,data,interations=10):\n",
    "        for learning_index in xrange(interations):\n",
    "            self.data_point = random.choice(data)\n",
    "            #Calculate gradient\n",
    "            grad = self.gradient()\n",
    "            #Apply gradient\n",
    "            self.params = [self.params[i] - grad[i]*self.gamma for i in range(len(self.params))]\n",
    "        pass\n",
    "    \n",
    "    \"\"\" Calculate the numerical gradient of the cost for each paramter \"\"\"\n",
    "    def gradient(self):\n",
    "        grad = []\n",
    "        for param in self.params:\n",
    "            idx = self.params.index(param)\n",
    "            mod_params = list(self.params)\n",
    "            mod_params[idx] += self.h\n",
    "            real = self.data_point[1]\n",
    "            cost_original = self.cost(real, self.hypothesis(self.params, self.data_point))\n",
    "            cost_mod = self.cost(real, self.hypothesis(mod_params, self.data_point))\n",
    "            grad.append((cost_mod-cost_original)/self.h)\n",
    "        return grad\n",
    "    pass\n",
    "\n",
    "\n",
    "data = [[x/100.,x**2/10.] for x in xrange(0,100)]\n",
    "\n",
    "def learn_that(iterations):\n",
    "    x,y = zip(*data)\n",
    "    plt.plot(x,y, 'g')\n",
    "    \n",
    "    unit = Unit()\n",
    "    \n",
    "    #plot unlearned function\n",
    "    x_plt = []\n",
    "    y_plt = []\n",
    "    for data_point in data:\n",
    "        x_plt.append(data_point[0])\n",
    "        y_plt.append(unit.hypothesis(unit.params, data_point))\n",
    "\n",
    "    plt.plot(x_plt, y_plt, 'r')\n",
    "\n",
    "    #fit the hypothesis\n",
    "    unit.fit(data,iterations)\n",
    "\n",
    "    #plot the learned function\n",
    "    x_plt = []\n",
    "    y_plt = []\n",
    "    for data_point in data:\n",
    "        x_plt.append(data_point[0])\n",
    "        y_plt.append(unit.hypothesis(unit.params, data_point))\n",
    "\n",
    "    plt.plot(x_plt, y_plt, 'b')\n",
    "    \n",
    "interact(learn_that, iterations=300)"
   ]
  },
  {
   "cell_type": "code",
   "execution_count": null,
   "metadata": {
    "collapsed": false
   },
   "outputs": [],
   "source": []
  }
 ],
 "metadata": {
  "kernelspec": {
   "display_name": "Python 2",
   "language": "python",
   "name": "python2"
  },
  "language_info": {
   "codemirror_mode": {
    "name": "ipython",
    "version": 2
   },
   "file_extension": ".py",
   "mimetype": "text/x-python",
   "name": "python",
   "nbconvert_exporter": "python",
   "pygments_lexer": "ipython2",
   "version": "2.7.11"
  }
 },
 "nbformat": 4,
 "nbformat_minor": 0
}
