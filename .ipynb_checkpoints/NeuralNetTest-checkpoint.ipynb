{
 "cells": [
  {
   "cell_type": "code",
   "execution_count": 4,
   "metadata": {
    "collapsed": false
   },
   "outputs": [],
   "source": [
    "import numpy as np\n",
    "import matplotlib.pyplot as plt\n",
    "%matplotlib inline"
   ]
  },
  {
   "cell_type": "markdown",
   "metadata": {},
   "source": [
    "<h1>Classes</h1>"
   ]
  },
  {
   "cell_type": "code",
   "execution_count": 18,
   "metadata": {
    "collapsed": false
   },
   "outputs": [],
   "source": [
    "class Net:\n",
    "    neurons = None\n",
    "    topology = None\n",
    "    \n",
    "    def __init__(self, topology=[3,2,1], biasNeuron=True):\n",
    "        self.topology = topology\n",
    "        #Setup layers\n",
    "        self.layers = [[] for __ in topology]\n",
    "        for idx in xrange(len(self.layers)):\n",
    "            layer = self.layers[idx]\n",
    "            neuronCount = topology[idx]\n",
    "            if biasNeuron:\n",
    "                neuronCount += 1\n",
    "            for neuronIndex in xrange(neuronCount):\n",
    "                layer.append(Neuron(neuronIndex))\n",
    "        #Setup connections\n",
    "        for layer in self.layers:\n",
    "            idx = self.layers.index(layer)\n",
    "            if idx==0:\n",
    "                #first layer, set children\n",
    "                for neuron in layer:\n",
    "                    neuron.childNeurons = self.layers[idx+1]\n",
    "    \n",
    "    def activationFunction(x):\n",
    "        return np.sigmoid(x)\n",
    "    \n",
    "    def activationFunctionPrime(x):\n",
    "        return np.sigmoid(x)*(1-np.sigmoid(x))\n",
    "    \n",
    "    def feedForward(self, data):\n",
    "        for layer in self.layers:\n",
    "            idx=self.layers.index(layer)\n",
    "            if idx == 0:\n",
    "                #first layer, just set values\n",
    "                for neuron in layer:\n",
    "                    neuron_idx = layer.index(neuron)\n",
    "                    neuron.value_transfer = data[idx]\n",
    "            else:\n",
    "                #subsequent layer, calculate values based on previous layer\n",
    "                for neuron in layer:\n",
    "                    neuron.feedForward()\n",
    "                    \n",
    "    def output(self):\n",
    "        lastLayer = self.layers[len(self.layers)]\n",
    "        return lastLayer\n",
    "\n",
    "class Neuron:\n",
    "    index = 0\n",
    "    value_in = 0 #sum of feedforward weights*previous layer value_transfer\n",
    "    value_delta = 0 #partial derivative of loss with respect to value_in\n",
    "    value_transfer = 0 #sigmoid(value_in)\n",
    "    \n",
    "    #Connections\n",
    "    parentNeurons = None\n",
    "    childNeurons = None\n",
    "    def __init__(self, index=0):\n",
    "        self.index = index\n",
    "        print(\"testy %d\" % index)\n",
    "        \n",
    "    def feedForward(self):\n",
    "        for child in self.childNeurons:\n",
    "            child.value_in += self.value_transfer"
   ]
  },
  {
   "cell_type": "markdown",
   "metadata": {},
   "source": [
    "<h1>Testing</h1>"
   ]
  },
  {
   "cell_type": "code",
   "execution_count": 19,
   "metadata": {
    "collapsed": false
   },
   "outputs": [
    {
     "name": "stdout",
     "output_type": "stream",
     "text": [
      "testy 0\n",
      "testy 1\n",
      "testy 2\n",
      "testy 3\n",
      "testy 0\n",
      "testy 1\n",
      "testy 2\n",
      "testy 0\n",
      "testy 1\n"
     ]
    },
    {
     "ename": "TypeError",
     "evalue": "'NoneType' object is not iterable",
     "output_type": "error",
     "traceback": [
      "\u001b[0;31m---------------------------------------------------------------------------\u001b[0m\n\u001b[0;31mTypeError\u001b[0m                                 Traceback (most recent call last)",
      "\u001b[0;32m<ipython-input-19-ea877b285775>\u001b[0m in \u001b[0;36m<module>\u001b[0;34m()\u001b[0m\n\u001b[1;32m      1\u001b[0m \u001b[0mmyNet\u001b[0m \u001b[0;34m=\u001b[0m \u001b[0mNet\u001b[0m\u001b[0;34m(\u001b[0m\u001b[0mtopology\u001b[0m\u001b[0;34m=\u001b[0m\u001b[0;34m[\u001b[0m\u001b[0;36m3\u001b[0m\u001b[0;34m,\u001b[0m\u001b[0;36m2\u001b[0m\u001b[0;34m,\u001b[0m\u001b[0;36m1\u001b[0m\u001b[0;34m]\u001b[0m\u001b[0;34m,\u001b[0m \u001b[0mbiasNeuron\u001b[0m\u001b[0;34m=\u001b[0m\u001b[0mTrue\u001b[0m\u001b[0;34m)\u001b[0m\u001b[0;34m\u001b[0m\u001b[0m\n\u001b[0;32m----> 2\u001b[0;31m \u001b[0mmyNet\u001b[0m\u001b[0;34m.\u001b[0m\u001b[0mfeedForward\u001b[0m\u001b[0;34m(\u001b[0m\u001b[0mdata\u001b[0m\u001b[0;34m=\u001b[0m\u001b[0;34m[\u001b[0m\u001b[0;36m1\u001b[0m\u001b[0;34m,\u001b[0m\u001b[0;36m0\u001b[0m\u001b[0;34m,\u001b[0m\u001b[0;36m1\u001b[0m\u001b[0;34m]\u001b[0m\u001b[0;34m)\u001b[0m\u001b[0;34m\u001b[0m\u001b[0m\n\u001b[0m\u001b[1;32m      3\u001b[0m \u001b[0;32mprint\u001b[0m\u001b[0;34m(\u001b[0m\u001b[0mmyNet\u001b[0m\u001b[0;34m.\u001b[0m\u001b[0moutput\u001b[0m\u001b[0;34m(\u001b[0m\u001b[0;34m)\u001b[0m\u001b[0;34m)\u001b[0m\u001b[0;34m\u001b[0m\u001b[0m\n",
      "\u001b[0;32m<ipython-input-18-10eed1b59d4e>\u001b[0m in \u001b[0;36mfeedForward\u001b[0;34m(self, data)\u001b[0m\n\u001b[1;32m     39\u001b[0m                 \u001b[0;31m#subsequent layer, calculate values based on previous layer\u001b[0m\u001b[0;34m\u001b[0m\u001b[0;34m\u001b[0m\u001b[0m\n\u001b[1;32m     40\u001b[0m                 \u001b[0;32mfor\u001b[0m \u001b[0mneuron\u001b[0m \u001b[0;32min\u001b[0m \u001b[0mlayer\u001b[0m\u001b[0;34m:\u001b[0m\u001b[0;34m\u001b[0m\u001b[0m\n\u001b[0;32m---> 41\u001b[0;31m                     \u001b[0mneuron\u001b[0m\u001b[0;34m.\u001b[0m\u001b[0mfeedForward\u001b[0m\u001b[0;34m(\u001b[0m\u001b[0;34m)\u001b[0m\u001b[0;34m\u001b[0m\u001b[0m\n\u001b[0m\u001b[1;32m     42\u001b[0m \u001b[0;34m\u001b[0m\u001b[0m\n\u001b[1;32m     43\u001b[0m     \u001b[0;32mdef\u001b[0m \u001b[0moutput\u001b[0m\u001b[0;34m(\u001b[0m\u001b[0mself\u001b[0m\u001b[0;34m)\u001b[0m\u001b[0;34m:\u001b[0m\u001b[0;34m\u001b[0m\u001b[0m\n",
      "\u001b[0;32m<ipython-input-18-10eed1b59d4e>\u001b[0m in \u001b[0;36mfeedForward\u001b[0;34m(self)\u001b[0m\n\u001b[1;32m     59\u001b[0m \u001b[0;34m\u001b[0m\u001b[0m\n\u001b[1;32m     60\u001b[0m     \u001b[0;32mdef\u001b[0m \u001b[0mfeedForward\u001b[0m\u001b[0;34m(\u001b[0m\u001b[0mself\u001b[0m\u001b[0;34m)\u001b[0m\u001b[0;34m:\u001b[0m\u001b[0;34m\u001b[0m\u001b[0m\n\u001b[0;32m---> 61\u001b[0;31m         \u001b[0;32mfor\u001b[0m \u001b[0mchild\u001b[0m \u001b[0;32min\u001b[0m \u001b[0mself\u001b[0m\u001b[0;34m.\u001b[0m\u001b[0mchildNeurons\u001b[0m\u001b[0;34m:\u001b[0m\u001b[0;34m\u001b[0m\u001b[0m\n\u001b[0m\u001b[1;32m     62\u001b[0m             \u001b[0mchild\u001b[0m\u001b[0;34m.\u001b[0m\u001b[0mvalue_in\u001b[0m \u001b[0;34m+=\u001b[0m \u001b[0mself\u001b[0m\u001b[0;34m.\u001b[0m\u001b[0mvalue_transfer\u001b[0m\u001b[0;34m\u001b[0m\u001b[0m\n",
      "\u001b[0;31mTypeError\u001b[0m: 'NoneType' object is not iterable"
     ]
    }
   ],
   "source": [
    "myNet = Net(topology=[3,2,1], biasNeuron=True)\n",
    "myNet.feedForward(data=[1,0,1])\n",
    "print(myNet.output())"
   ]
  },
  {
   "cell_type": "code",
   "execution_count": null,
   "metadata": {
    "collapsed": false
   },
   "outputs": [],
   "source": []
  }
 ],
 "metadata": {
  "kernelspec": {
   "display_name": "Python 2",
   "language": "python",
   "name": "python2"
  },
  "language_info": {
   "codemirror_mode": {
    "name": "ipython",
    "version": 2
   },
   "file_extension": ".py",
   "mimetype": "text/x-python",
   "name": "python",
   "nbconvert_exporter": "python",
   "pygments_lexer": "ipython2",
   "version": "2.7.11"
  }
 },
 "nbformat": 4,
 "nbformat_minor": 0
}
