{
 "cells": [
  {
   "cell_type": "code",
   "execution_count": 1,
   "metadata": {
    "collapsed": false
   },
   "outputs": [],
   "source": [
    "%matplotlib inline"
   ]
  },
  {
   "cell_type": "code",
   "execution_count": 3,
   "metadata": {
    "collapsed": false
   },
   "outputs": [
    {
     "data": {
      "image/png": "[encoded data removed]",
      "text/plain": [
       "<matplotlib.figure.Figure at 0x10e626490>"
      ]
     },
     "metadata": {},
     "output_type": "display_data"
    }
   ],
   "source": [
    "import numpy as np\n",
    "from scipy.special import expit #fast sigmoid\n",
    "from matplotlib import pyplot as plt\n",
    "\n",
    "#Generate random points\n",
    "data_all = []\n",
    "for i in xrange(0, 100):\n",
    "    rand_x = np.random.random()*2. - 1.\n",
    "    rand_y = np.random.random()*2. - 1.\n",
    "    label = 1. if rand_x > 0 else -1.\n",
    "    data_all.append((rand_x, rand_y, label))\n",
    "\n",
    "#define hypothesis function\n",
    "def hypothesis(data, theta):\n",
    "    #print 'Running hypothesis on:', data, 'theta:', theta\n",
    "    out = 0.0\n",
    "    return expit(theta[0] + np.sum(np.array(data[:-1]) * theta[1:])) #sigmoid( ti + datai * ti + ... + datan * tn )\n",
    "\n",
    "#define cost function\n",
    "def cost(data, theta):\n",
    "    c = 0.\n",
    "    for d in data:\n",
    "        #print 'Testing cost of data point:', d\n",
    "        c += hypothesis(d, theta) - d[2]\n",
    "    return c / len(data)\n",
    "\n",
    "#plot\n",
    "fig, axes = plt.subplots()\n",
    "\n",
    "axes.set_xlabel('x')\n",
    "axes.set_ylabel('y')\n",
    "axes.set_title('data');\n",
    "\n",
    "for d in data_all:\n",
    "    #plot\n",
    "    axes.plot(d[0], d[1], 'rs' if d[2] > 0 else 'bs')\n",
    "\n",
    "#Try some random parameters to find optimal solution for simple linear regression\n",
    "bestTheta = [0,0,0]\n",
    "lowestCost = 100000.\n",
    "for test in xrange(100):\n",
    "        theta_test = [np.random.random()*2.-1., np.random.random()*2.-1., np.random.random()*2.-1.]\n",
    "        c = cost(data_all, theta_test)\n",
    "        if (c < lowestCost):\n",
    "            lowestCost = c\n",
    "            bestTheta = theta_test\n",
    "            "
   ]
  },
  {
   "cell_type": "code",
   "execution_count": null,
   "metadata": {
    "collapsed": false
   },
   "outputs": [],
   "source": []
  }
 ],
 "metadata": {
  "kernelspec": {
   "display_name": "Python 2",
   "language": "python",
   "name": "python2"
  },
  "language_info": {
   "codemirror_mode": {
    "name": "ipython",
    "version": 2
   },
   "file_extension": ".py",
   "mimetype": "text/x-python",
   "name": "python",
   "nbconvert_exporter": "python",
   "pygments_lexer": "ipython2",
   "version": "2.7.10"
  }
 },
 "nbformat": 4,
 "nbformat_minor": 0
}
