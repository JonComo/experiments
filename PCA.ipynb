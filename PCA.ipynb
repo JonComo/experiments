{
 "cells": [
  {
   "cell_type": "code",
   "execution_count": 1,
   "metadata": {
    "collapsed": true
   },
   "outputs": [],
   "source": [
    "# Principal components analysis\n",
    "\n",
    "# Find eigen values and vectors for the covariance matrix of features in dataset X"
   ]
  },
  {
   "cell_type": "code",
   "execution_count": 2,
   "metadata": {
    "collapsed": true
   },
   "outputs": [],
   "source": [
    "%matplotlib inline"
   ]
  },
  {
   "cell_type": "code",
   "execution_count": 3,
   "metadata": {
    "collapsed": true
   },
   "outputs": [],
   "source": [
    "import numpy as np\n",
    "from matplotlib import pyplot as plt"
   ]
  },
  {
   "cell_type": "code",
   "execution_count": 4,
   "metadata": {
    "collapsed": false
   },
   "outputs": [
    {
     "name": "stdout",
     "output_type": "stream",
     "text": [
      "[ 1.  2.  3.]\n",
      "[[ 1.  0.  0.]\n",
      " [ 0.  1.  0.]\n",
      " [ 0.  0.  1.]]\n"
     ]
    }
   ],
   "source": [
    "# Testing numpy eig\n",
    "\n",
    "A = np.diag([1, 2, 3])\n",
    "W, V = np.linalg.eig(A)\n",
    "print(W)\n",
    "print(V)"
   ]
  },
  {
   "cell_type": "code",
   "execution_count": 5,
   "metadata": {
    "collapsed": false
   },
   "outputs": [
    {
     "name": "stdout",
     "output_type": "stream",
     "text": [
      "X:\n"
     ]
    },
    {
     "data": {
      "image/png": "[encoded data removed]",
      "text/plain": [
       "<matplotlib.figure.Figure at 0x10c0a67b8>"
      ]
     },
     "metadata": {},
     "output_type": "display_data"
    }
   ],
   "source": [
    "# Make a dataset X of n rows of observations, m columns of features per observation\n",
    "\n",
    "X = np.random.random_sample((20,4))\n",
    "\n",
    "# Add some correlations\n",
    "\n",
    "X[:,3] = -1.0 * X[:,0]\n",
    "X[:,2] = .5 * X[:,1]\n",
    "\n",
    "# Normalize the matrix X\n",
    "\n",
    "for j in range(X.shape[1]):\n",
    "    # for each column, subtract the mean and divide the std\n",
    "    X[:,j] -= np.mean(X[:,j])\n",
    "    X[:,j] /= np.std(X[:,j])\n",
    "\n",
    "print(\"X:\")\n",
    "plt.axis('off')\n",
    "fig = plt.imshow(X, interpolation='nearest', cmap=plt.cm.gray, vmin=-1, vmax=1)"
   ]
  },
  {
   "cell_type": "code",
   "execution_count": 6,
   "metadata": {
    "collapsed": false
   },
   "outputs": [
    {
     "name": "stdout",
     "output_type": "stream",
     "text": [
      "Rank of C 2\n",
      "[[ 1.05263158  0.08032675  0.08032675 -1.05263158]\n",
      " [ 0.08032675  1.05263158  1.05263158 -0.08032675]\n",
      " [ 0.08032675  1.05263158  1.05263158 -0.08032675]\n",
      " [-1.05263158 -0.08032675 -0.08032675  1.05263158]]\n",
      "\n",
      "Covariance of feature 3 with feature 0 -1.05263157895\n"
     ]
    },
    {
     "data": {
      "image/png": "[encoded data removed]",
      "text/plain": [
       "<matplotlib.figure.Figure at 0x10c0929e8>"
      ]
     },
     "metadata": {},
     "output_type": "display_data"
    }
   ],
   "source": [
    "# Find the covariance matrix of X\n",
    "\n",
    "C = np.cov(X, rowvar=False)\n",
    "\n",
    "print(\"Rank of C\", C.ndim)\n",
    "\n",
    "plt.axis('off')\n",
    "fig = plt.imshow(C, interpolation='nearest', cmap=plt.cm.gray, vmin=-1, vmax=1, extent=[0,3,3,0])\n",
    "\n",
    "print(C)\n",
    "print()\n",
    "print(\"Covariance of feature 3 with feature 0\", C[3,0])"
   ]
  },
  {
   "cell_type": "code",
   "execution_count": 7,
   "metadata": {
    "collapsed": false
   },
   "outputs": [
    {
     "data": {
      "text/plain": [
       "True"
      ]
     },
     "execution_count": 7,
     "metadata": {},
     "output_type": "execute_result"
    }
   ],
   "source": [
    "# The covariance matrix is symmetric, it should equal its transpose\n",
    "\n",
    "np.allclose(C, C.T)"
   ]
  },
  {
   "cell_type": "code",
   "execution_count": 8,
   "metadata": {
    "collapsed": false
   },
   "outputs": [
    {
     "name": "stdout",
     "output_type": "stream",
     "text": [
      "W: (4,) V: (4, 4)\n"
     ]
    }
   ],
   "source": [
    "# Find eigenvalues(W[i]) and eigenvectors(V[:,i]) of the covariance matrix\n",
    "\n",
    "W, V = np.linalg.eig(C)\n",
    "\n",
    "print(\"W:\", W.shape, \"V:\", V.shape)"
   ]
  },
  {
   "cell_type": "code",
   "execution_count": 9,
   "metadata": {
    "collapsed": false
   },
   "outputs": [
    {
     "name": "stdout",
     "output_type": "stream",
     "text": [
      "[ 2.27  1.94 -0.   -0.  ]\n"
     ]
    }
   ],
   "source": [
    "# Print the eigenvalues, some may be zero\n",
    "\n",
    "print(np.round(W, 2))"
   ]
  },
  {
   "cell_type": "code",
   "execution_count": 10,
   "metadata": {
    "collapsed": false
   },
   "outputs": [
    {
     "name": "stdout",
     "output_type": "stream",
     "text": [
      "First eigenvector and its corresponding eigenvalue:\n",
      " [-0.5 -0.5 -0.5  0.5] \n",
      " 2.26591666771\n"
     ]
    }
   ],
   "source": [
    "print(\"First eigenvector and its corresponding eigenvalue:\\n\", V[:,0], '\\n', W[0])"
   ]
  },
  {
   "cell_type": "code",
   "execution_count": 11,
   "metadata": {
    "collapsed": false
   },
   "outputs": [
    {
     "data": {
      "text/plain": [
       "True"
      ]
     },
     "execution_count": 11,
     "metadata": {},
     "output_type": "execute_result"
    }
   ],
   "source": [
    "# A*v == l*v   transform v by A is equivalent to just scaling by eigenvalue l\n",
    "\n",
    "np.allclose(C.dot(V[:,2]), W[2]*V[:,2])"
   ]
  },
  {
   "cell_type": "code",
   "execution_count": 12,
   "metadata": {
    "collapsed": false
   },
   "outputs": [
    {
     "name": "stdout",
     "output_type": "stream",
     "text": [
      "V0 (w=2.27) \tdot\t V0 (w=2.27) = 1.0\n",
      "V0 (w=2.27) \tdot\t V1 (w=1.94) = 0.0\n",
      "V0 (w=2.27) \tdot\t V2 (w=-0.0) = 0.0\n",
      "V0 (w=2.27) \tdot\t V3 (w=-0.0) = 0.0\n",
      "V1 (w=1.94) \tdot\t V1 (w=1.94) = 1.0\n",
      "V1 (w=1.94) \tdot\t V2 (w=-0.0) = -0.0\n",
      "V1 (w=1.94) \tdot\t V3 (w=-0.0) = 0.0\n",
      "V2 (w=-0.0) \tdot\t V2 (w=-0.0) = 1.0\n",
      "V2 (w=-0.0) \tdot\t V3 (w=-0.0) = 0.1292\n",
      "V3 (w=-0.0) \tdot\t V3 (w=-0.0) = 1.0\n"
     ]
    }
   ],
   "source": [
    "# Eigenvectors should all be orthogonal, their dot product, inner product should = 0\n",
    "# Eigenvectors are normalized, v1.dot(v1) should equal 1.0\n",
    "\n",
    "# Dot all pairs of eigenvectors\n",
    "\n",
    "for i in range(V.shape[1]):\n",
    "    for j in range(i,V.shape[1]):\n",
    "        print(\"V{} (w={}) \\tdot\\t V{} (w={}) = {}\".format(i, round(W[i], 2), j,\\\n",
    "                                                      round(W[j],2), round(np.dot(V[:,i], V[:,j]), 4)))"
   ]
  },
  {
   "cell_type": "code",
   "execution_count": 13,
   "metadata": {
    "collapsed": false
   },
   "outputs": [
    {
     "name": "stdout",
     "output_type": "stream",
     "text": [
      "[0 1 3 2] [  2.26591667e+00   1.94460965e+00  -7.68428064e-18  -2.55463532e-16]\n"
     ]
    }
   ],
   "source": [
    "# Pick highest eigenvalues\n",
    "\n",
    "top_N = np.argpartition(-W, 2)\n",
    "print(top_N, W[top_N])"
   ]
  },
  {
   "cell_type": "code",
   "execution_count": 14,
   "metadata": {
    "collapsed": false
   },
   "outputs": [
    {
     "data": {
      "image/png": "[encoded data removed]",
      "text/plain": [
       "<matplotlib.figure.Figure at 0x10eae8a90>"
      ]
     },
     "metadata": {},
     "output_type": "display_data"
    }
   ],
   "source": [
    "PC1 = X.dot(V[:, top_N[0]])\n",
    "PC2 = X.dot(V[:, top_N[1]])\n",
    "\n",
    "fig = plt.scatter(PC1, PC2)"
   ]
  },
  {
   "cell_type": "code",
   "execution_count": 15,
   "metadata": {
    "collapsed": false
   },
   "outputs": [
    {
     "data": {
      "image/png": "[encoded data removed]",
      "text/plain": [
       "<matplotlib.figure.Figure at 0x10ec3ce10>"
      ]
     },
     "metadata": {},
     "output_type": "display_data"
    }
   ],
   "source": [
    "# Randomly plot two features\n",
    "fig = plt.scatter(X[:,0], X[:,3])"
   ]
  },
  {
   "cell_type": "code",
   "execution_count": 20,
   "metadata": {
    "collapsed": false
   },
   "outputs": [
    {
     "data": {
      "image/png": "[encoded data removed]",
      "text/plain": [
       "<matplotlib.figure.Figure at 0x1118e4eb8>"
      ]
     },
     "metadata": {},
     "output_type": "display_data"
    }
   ],
   "source": [
    "# Wrap it all up into one!\n",
    "\n",
    "from ipywidgets import interact\n",
    "from sklearn.decomposition import PCA\n",
    "import numpy as np\n",
    "from matplotlib import gridspec\n",
    "\n",
    "def findPCA(corr=0.0):\n",
    "    s = 100\n",
    "    X = np.random.normal(size=(s))\n",
    "    Y = np.random.normal(size=(s))\n",
    "\n",
    "    Y += X * corr\n",
    "    \n",
    "    # Normalize each column\n",
    "    X -= np.mean(X)\n",
    "    X /= np.std(X)\n",
    "\n",
    "    Y -= np.mean(Y)\n",
    "    Y /= np.std(Y)\n",
    "\n",
    "    Data = np.column_stack((X, Y))\n",
    "\n",
    "    C = np.cov(Data, rowvar=0)\n",
    "\n",
    "    W, V = np.linalg.eig(C)\n",
    "    \n",
    "    gs = gridspec.GridSpec(1,2)\n",
    "    plt.subplot(gs[0])\n",
    "    \n",
    "    plt.gca().set_aspect('equal')\n",
    "    plt.axis([-3, 3, -3, 3])\n",
    "    fig = plt.scatter(Data[:,0], Data[:,1])\n",
    "    plt.plot(V[:,0] * W[0], 'r')\n",
    "    plt.plot(V[:,1] * W[1], 'g')\n",
    "    \n",
    "    plt.subplot(gs[1])\n",
    "    plt.imshow(C, interpolation='nearest', cmap=plt.cm.gray, vmin=-1, vmax=1)\n",
    "    \n",
    "    \n",
    "\"\"\"    pca = PCA(n_components=2)\n",
    "    pca.fit(Data)\n",
    "    print(pca.explained_variance_ratio_)\n",
    "    transformed = pca.fit_transform(Data)\n",
    "    plt.scatter(transformed[:,0], transformed[:,1], c='r')\"\"\"\n",
    "    \n",
    "interact(findPCA, corr=(-1.0, 1.0, .1))"
   ]
  },
  {
   "cell_type": "code",
   "execution_count": null,
   "metadata": {
    "collapsed": true
   },
   "outputs": [],
   "source": []
  }
 ],
 "metadata": {
  "kernelspec": {
   "display_name": "Python 3",
   "language": "python",
   "name": "python3"
  },
  "language_info": {
   "codemirror_mode": {
    "name": "ipython",
    "version": 3
   },
   "file_extension": ".py",
   "mimetype": "text/x-python",
   "name": "python",
   "nbconvert_exporter": "python",
   "pygments_lexer": "ipython3",
   "version": "3.4.4"
  }
 },
 "nbformat": 4,
 "nbformat_minor": 0
}
