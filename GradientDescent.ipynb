{
 "cells": [
  {
   "cell_type": "code",
   "execution_count": 6,
   "metadata": {
    "collapsed": false
   },
   "outputs": [],
   "source": [
    "%matplotlib inline"
   ]
  },
  {
   "cell_type": "code",
   "execution_count": 7,
   "metadata": {
    "collapsed": false
   },
   "outputs": [],
   "source": [
    "from IPython.html.widgets import interact, interactive, fixed\n",
    "from IPython.html import widgets\n",
    "\n",
    "import numpy as np\n",
    "from matplotlib import pyplot as plt"
   ]
  },
  {
   "cell_type": "code",
   "execution_count": 8,
   "metadata": {
    "collapsed": false
   },
   "outputs": [
    {
     "data": {
      "image/png": "[encoded data removed]",
      "text/plain": [
       "<matplotlib.figure.Figure at 0x112ba0450>"
      ]
     },
     "metadata": {},
     "output_type": "display_data"
    }
   ],
   "source": [
    "def f(x=10,y=1.0):\n",
    "    xr = np.linspace(0,x,100)\n",
    "    plt.plot(xr,np.cosh(xr))\n",
    "    \n",
    "interact(f, x=10.0, y=2);"
   ]
  },
  {
   "cell_type": "code",
   "execution_count": 9,
   "metadata": {
    "collapsed": false
   },
   "outputs": [
    {
     "name": "stdout",
     "output_type": "stream",
     "text": [
      "('new params', [1.2040968813506019, 1.5762798934963564, -0.40496828284886943])\n"
     ]
    },
    {
     "data": {
      "image/png": "[encoded data removed]",
      "text/plain": [
       "<matplotlib.figure.Figure at 0x113955d10>"
      ]
     },
     "metadata": {},
     "output_type": "display_data"
    }
   ],
   "source": [
    "import random\n",
    "\n",
    "#data\n",
    "data_count = 100\n",
    "full_data = [[np.random.uniform(), np.random.uniform()] for x in xrange(data_count)]\n",
    "for point in full_data:\n",
    "    x,y = point\n",
    "    point.append(1 if x+y>0.7 else -1)\n",
    "    \n",
    "d = full_data[-data_count/2:]\n",
    "test_data = full_data[:data_count/2]\n",
    "\n",
    "#parameters\n",
    "p = [np.random.ranf()*2. for x in xrange(3)]\n",
    "dt = 0.1\n",
    "h = 0.00001\n",
    "\n",
    "def hypothesis(params,data):\n",
    "    return params[0]*data[0] + params[1]*data[1] + params[2]\n",
    "\n",
    "def numerical_gradient(params, data_point):\n",
    "    gradient = []\n",
    "    for param in params:\n",
    "        idx = params.index(param)\n",
    "        modified_params = list(params)\n",
    "        modified_params[idx] += h\n",
    "        g = (hypothesis(modified_params,data_point)-hypothesis(params,data_point))/h\n",
    "        gradient.append(g)\n",
    "    return gradient\n",
    "\n",
    "def apply_gradient(grad,params):\n",
    "    params+=grad\n",
    "    \n",
    "def train(params,train_count=10):\n",
    "    train_params = list(params)\n",
    "    for train_idx in xrange(train_count):\n",
    "        data_point = random.choice(d)\n",
    "        label = data_point[2]\n",
    "        hyp = hypothesis(train_params, data_point)\n",
    "        grad = numerical_gradient(params,data_point)\n",
    "        if hyp<label:\n",
    "            train_params = [train_params[i] + dt*grad[i] for i in range(len(train_params))]\n",
    "        else:\n",
    "            train_params = [train_params[i] - dt*grad[i] for i in range(len(train_params))]\n",
    "            \n",
    "    return train_params\n",
    "\n",
    "def visualize(train_count=100):\n",
    "    #plot data points\n",
    "    for point in d:\n",
    "        x,y,l = point\n",
    "        plt.scatter(x,y,c='r' if l==1 else 'b',s=100)\n",
    "\n",
    "    #learn new parameters\n",
    "    train_p = list(p)\n",
    "    new_params = train(train_p,train_count)\n",
    "    print(\"new params\", new_params)\n",
    "    \n",
    "    #plot after learning\n",
    "    grid_count = 10.0\n",
    "    grid_points = [[x/grid_count,y/grid_count] for x in xrange(int(grid_count+1)) for y in xrange(int(grid_count+1))]\n",
    "    for grid_point in grid_points:\n",
    "        x,y=grid_point\n",
    "        h = hypothesis(new_params,grid_point)\n",
    "        color = (1.0 if h > 0 else 0.0, 0.0, 0.0)\n",
    "        plt.scatter(x,y,c=color)\n",
    "        \n",
    "    for point in test_data:\n",
    "        x,y,l=point\n",
    "        h = hypothesis(new_params,point)\n",
    "        correct = False\n",
    "        if l==-1 and h<0:\n",
    "            correct = True\n",
    "        elif l==1 and h>0:\n",
    "            correct = True\n",
    "            \n",
    "        plt.scatter(x,y,c='g' if correct else 'y',s=100)\n",
    "    \n",
    "interact(visualize,train_count=(0,300))"
   ]
  },
  {
   "cell_type": "code",
   "execution_count": null,
   "metadata": {
    "collapsed": false
   },
   "outputs": [],
   "source": []
  }
 ],
 "metadata": {
  "kernelspec": {
   "display_name": "Python 2",
   "language": "python",
   "name": "python2"
  },
  "language_info": {
   "codemirror_mode": {
    "name": "ipython",
    "version": 2
   },
   "file_extension": ".py",
   "mimetype": "text/x-python",
   "name": "python",
   "nbconvert_exporter": "python",
   "pygments_lexer": "ipython2",
   "version": "2.7.10"
  }
 },
 "nbformat": 4,
 "nbformat_minor": 0
}
