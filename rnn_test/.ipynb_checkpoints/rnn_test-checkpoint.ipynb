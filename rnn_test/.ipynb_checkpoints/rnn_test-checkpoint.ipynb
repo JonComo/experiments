{
 "cells": [
  {
   "cell_type": "code",
   "execution_count": 1,
   "metadata": {
    "collapsed": true
   },
   "outputs": [],
   "source": [
    "%matplotlib inline"
   ]
  },
  {
   "cell_type": "code",
   "execution_count": 2,
   "metadata": {
    "collapsed": true
   },
   "outputs": [],
   "source": [
    "from matplotlib import pyplot as plt\n",
    "import numpy as np\n",
    "import tensorflow as tf\n",
    "from ipywidgets import interact\n",
    "from IPython.display import clear_output"
   ]
  },
  {
   "cell_type": "code",
   "execution_count": 3,
   "metadata": {
    "collapsed": false
   },
   "outputs": [
    {
     "name": "stdout",
     "output_type": "stream",
     "text": [
      "[1 1 0 0 0 0]\n",
      "[0 0 0 1 1 1]\n",
      "[1 1 0 1 1 1]\n"
     ]
    }
   ],
   "source": [
    "def adder(d1, d2, c):\n",
    "    s = d1 + d2 + c\n",
    "    # returns print, carry\n",
    "    return [[0, 0], [1, 0], [0, 1], [1, 1]][s]\n",
    "\n",
    "def data(s=6):\n",
    "    a = np.random.randint(2, size=s)\n",
    "    b = np.random.randint(2, size=s)\n",
    "    \n",
    "    p = np.zeros(s, dtype=np.int32)\n",
    "    c = 0\n",
    "    for i in reversed(range(s)):\n",
    "        d1 = a[i]\n",
    "        d2 = b[i]\n",
    "        pr, c = adder(a[i], b[i], c)\n",
    "        p[i] = pr\n",
    "    \n",
    "    return a, b, p\n",
    "    \n",
    "a, b, p = data()\n",
    "\n",
    "print(a)\n",
    "print(b)\n",
    "print(p)"
   ]
  },
  {
   "cell_type": "code",
   "execution_count": 4,
   "metadata": {
    "collapsed": false
   },
   "outputs": [],
   "source": [
    "# define network\n",
    "\n",
    "TIME_STEPS = 5\n",
    "\n",
    "IN = 2\n",
    "H = 7\n",
    "OUT = 1\n",
    "\n",
    "def weight_variable(size):\n",
    "    initial = tf.random_normal(size)\n",
    "    return tf.Variable(initial)\n",
    "\n",
    "def bias_variable(size):\n",
    "    initial = tf.constant(.1, shape=size)\n",
    "    return tf.Variable(initial)\n",
    "\n",
    "# Initial state of h\n",
    "h_p = tf.placeholder(tf.float32, shape=[1, H])\n",
    "\n",
    "# Input placeholders for 3 pairs of digits\n",
    "xs = [tf.placeholder(tf.float32, shape=[1, IN]) for i in range(TIME_STEPS)]\n",
    "    \n",
    "#x1 = tf.placeholder(tf.float32, shape=[1, IN])\n",
    "#x2 = tf.placeholder(tf.float32, shape=[1, IN])\n",
    "#x3 = tf.placeholder(tf.float32, shape=[1, IN])\n",
    "\n",
    "# Targets for the 3 outputs\n",
    "ts = [tf.placeholder(tf.float32, shape=[1, OUT]) for i in range(TIME_STEPS)]\n",
    "#t1 = tf.placeholder(tf.float32, shape=[1, OUT])\n",
    "#t2 = tf.placeholder(tf.float32, shape=[1, OUT])\n",
    "#t3 = tf.placeholder(tf.float32, shape=[1, OUT])\n",
    "\n",
    "# Three weight matrices\n",
    "Win = weight_variable([IN, H])\n",
    "Wstate = weight_variable([H, H])\n",
    "Wout = weight_variable([H, OUT])\n",
    "\n",
    "bias_state = bias_variable([1, H])\n",
    "bias_out = bias_variable([1, OUT])\n",
    "\n",
    "# Three hidden activations, t=1,2,3\n",
    "hs = []\n",
    "prev_h = h_p\n",
    "for i in range(TIME_STEPS):\n",
    "    h = tf.tanh( tf.matmul(xs[i], Win) + tf.matmul(prev_h, Wstate) + bias_state)\n",
    "    hs.append(h)\n",
    "    prev_h = h\n",
    "    \n",
    "#h1 = tf.tanh( tf.matmul(x1, Win) + tf.matmul(h_p, Wstate) + bias_state)\n",
    "#h2 = tf.tanh( tf.matmul(x2, Win) + tf.matmul(h1,  Wstate) + bias_state)\n",
    "#h3 = tf.tanh( tf.matmul(x3, Win) + tf.matmul(h2,  Wstate) + bias_state)\n",
    "\n",
    "# Three model outputs for each timestep\n",
    "ys = [tf.sigmoid( tf.matmul(hs[i], Wout) + bias_out ) for i in range(TIME_STEPS)]\n",
    "\n",
    "#y1 = tf.sigmoid( tf.matmul(h1, Wout) + bias_out )\n",
    "#y2 = tf.sigmoid( tf.matmul(h2, Wout) + bias_out )\n",
    "#y3 = tf.sigmoid( tf.matmul(h3, Wout) + bias_out )\n",
    "\n",
    "cost = tf.reduce_sum( tf.add_n([tf.square(ys[i] - ts[i]) for i in range(TIME_STEPS)]) )"
   ]
  },
  {
   "cell_type": "code",
   "execution_count": 5,
   "metadata": {
    "collapsed": true
   },
   "outputs": [],
   "source": [
    "train = tf.train.GradientDescentOptimizer(0.001).minimize(cost)"
   ]
  },
  {
   "cell_type": "code",
   "execution_count": 6,
   "metadata": {
    "collapsed": true
   },
   "outputs": [],
   "source": [
    "if 'session' in globals():\n",
    "    session.close()\n",
    "    \n",
    "session = tf.InteractiveSession()\n",
    "session.run(tf.initialize_all_variables())"
   ]
  },
  {
   "cell_type": "code",
   "execution_count": 11,
   "metadata": {
    "collapsed": true
   },
   "outputs": [],
   "source": [
    "initial_h = np.zeros([1, H])\n",
    "\n",
    "def pair(i, a, b):\n",
    "    return np.array([[a[i], b[i]]])"
   ]
  },
  {
   "cell_type": "code",
   "execution_count": 285,
   "metadata": {
    "collapsed": false
   },
   "outputs": [
    {
     "name": "stdout",
     "output_type": "stream",
     "text": [
      "correct: 99.0%\n",
      "correct: 100.0%\n",
      "correct: 100.0%\n",
      "correct: 100.0%\n",
      "correct: 100.0%\n",
      "correct: 100.0%\n",
      "correct: 100.0%\n",
      "correct: 100.0%\n",
      "correct: 100.0%\n",
      "correct: 100.0%\n",
      "correct: 100.0%\n",
      "correct: 100.0%\n",
      "correct: 100.0%\n",
      "correct: 100.0%\n",
      "correct: 100.0%\n",
      "correct: 100.0%\n",
      "correct: 100.0%\n",
      "correct: 100.0%\n",
      "correct: 100.0%\n",
      "correct: 100.0%\n"
     ]
    }
   ],
   "source": [
    "for i in range(20000):\n",
    "    a, b, p = data(TIME_STEPS)\n",
    "    \n",
    "    #fd = {x1: pair(2, a, b), x2: pair(1, a, b), x3: pair(0, a, b), \n",
    "          #t1: [[p[2]]],      t2: [[p[1]]],      t3: [[p[0]]],\n",
    "          #h_p: initial_h}\n",
    "    initial_h = np.random.random_sample([1, H])\n",
    "    \n",
    "    fd = {h_p: initial_h}\n",
    "    \n",
    "    for j in range(TIME_STEPS):\n",
    "        jr = TIME_STEPS - j - 1\n",
    "        fd[xs[j]] = pair(jr, a, b)\n",
    "        fd[ts[j]] = [[p[jr]]]\n",
    "            \n",
    "    session.run(train, fd)\n",
    "    \n",
    "    if i % 1000 == 0:\n",
    "        test_batch(500)"
   ]
  },
  {
   "cell_type": "code",
   "execution_count": 13,
   "metadata": {
    "collapsed": false
   },
   "outputs": [
    {
     "name": "stdout",
     "output_type": "stream",
     "text": [
      "[0 1 0 1 0]\n",
      "[0 1 0 0 0]\n",
      " \n",
      "model: [1 0 0 1 0]\n",
      "true:  [1 0 0 1 0]\n"
     ]
    }
   ],
   "source": [
    "# test\n",
    "def test_add():\n",
    "    a, b, p = data(TIME_STEPS)\n",
    "    \n",
    "    #fd = {x1: pair(2, a, b), x2: pair(1, a, b), x3: pair(0, a, b), \n",
    "                        #t1: [[p[2]]],         t2: [[p[1]]],         t3: [[p[0]]],\n",
    "                        #h_p: np.zeros([1, H])}\n",
    "    \n",
    "    fd = {h_p: initial_h}\n",
    "    \n",
    "    for j in range(TIME_STEPS):\n",
    "        jr = TIME_STEPS - j - 1\n",
    "        fd[xs[j]] = pair(jr, a, b)\n",
    "        fd[ts[j]] = [[p[jr]]]\n",
    "    \n",
    "    #d1 = y1.eval(fd)[0, 0]\n",
    "    #d2 = y2.eval(fd)[0, 0]\n",
    "    #d3 = y3.eval(fd)[0, 0]\n",
    "    \n",
    "    digits = [ys[i].eval(fd)[0, 0] for i in range(TIME_STEPS)]\n",
    "    digits.reverse()\n",
    "    \n",
    "    r = np.round(digits)\n",
    "    r = r.astype(np.int32)\n",
    "    \n",
    "    print(a)\n",
    "    print(b)\n",
    "    \n",
    "    print(' ')\n",
    "    \n",
    "    print('model: {}'.format(r))\n",
    "    print('true:  {}'.format(p))\n",
    "    \n",
    "test_add()"
   ]
  },
  {
   "cell_type": "code",
   "execution_count": 14,
   "metadata": {
    "collapsed": false
   },
   "outputs": [
    {
     "data": {
      "text/plain": [
       "<matplotlib.image.AxesImage at 0x7ff504d08050>"
      ]
     },
     "execution_count": 14,
     "metadata": {},
     "output_type": "execute_result"
    },
    {
     "data": {
      "image/png": "[encoded data removed]",
      "text/plain": [
       "<matplotlib.figure.Figure at 0x7ff504953f10>"
      ]
     },
     "metadata": {},
     "output_type": "display_data"
    }
   ],
   "source": [
    "#Wstate.eval()\n",
    "\n",
    "plt.imshow(Wstate.eval(), cmap=plt.cm.gray, interpolation='nearest')"
   ]
  },
  {
   "cell_type": "code",
   "execution_count": 15,
   "metadata": {
    "collapsed": false
   },
   "outputs": [
    {
     "name": "stdout",
     "output_type": "stream",
     "text": [
      "[1 1 1 1 1 1 0 0 1 0 0 1 1 0 1 1 0 1 0 0 0 1 0 1 0 1 0 0 1 1 1 0 0 0 1 1 1\n",
      " 1 1 0 1 1 1 1 1 0 1 1 1 0 1 1 1 1 0 1 1 0 0 1 0 1 0 0 1 0 0 0 0 1 0 1 0 0\n",
      " 1 1 0 1 0 1 1 1 0 1 1 0 1 1 0 1 1 0 1 0 1 0 1 1 0 0 0 1 1 1 0 0 1 1 0 1 0\n",
      " 1 0 0 1 0 1 0 0 0 1 0 1 0 1 0 0 0 1 1 1 0 1 0 0 1 1 0 1 1 1 1 1 1 0 1 0 1\n",
      " 1 0 1 1 1 0 0 0 0 1 0 0 0 1 1 0 0 0 0 1 1 0 0 1 1 0 0 1 1 0 0 0 0 0 1 1 1\n",
      " 0 1 1 1 1 0 1 1 0 0 1 0 1 1 1 0 0 0 0 0 1 0 1 1 1 0 1 1 0 1 1 1 1 1 0 0 0\n",
      " 0 0 1 1 0 1 1 0 0 1 0 0 1 0 1 1 1 0 1 1 0 1 0 0 0 1 1 1 1 0 0 1 1 0 0 1 1\n",
      " 1 1 0 1 0 0 1 1 1 0 0 1 1 0 1 1 1 0 1 1 1 0 0 1 0 1 0 0 0 1 0 1 1 1 0 0 0\n",
      " 0 0 0 0 1 1 0 0 0 1 1 1 0 1 1 1 0 1 1 0 1 1 1 0 0 0 1 0 0 1 1 0 0 0 1 0 0\n",
      " 1 1 1 1 1 0 0 1 0 0 0 1 1 1 0 0 0 0 0 1 0 1 0 0 0 1 0 1 0 0 1 0 1 1 0 1 0\n",
      " 1 1 0 0 0 1 0 1 0 1 0 1 0 1 1 1 1 1 1 0 0 1 1 0 0 1 1 1 1 0 0 1 0 0 1 0 0\n",
      " 1 0 1 1 0 0 1 1 0 1 1 0 0 1 0 0 0 1 0 0 1 1 1 0 0 1 1 1 1 1 0 1 1 0 0 0 0\n",
      " 0 1 1 1 1 1 0 1 1 1 0 1 0 1 0 1 1 1 1 0 1 0 0 1 0 0 0 1 1 1 0 0 0 1 0 0 1\n",
      " 1 0 0 1 0 0 0 1 0 0 0 0 1 1 0 0 1 0 0 0 0 1 1 1 1 1 0 0 1 1 0 0 1 1 1 0 1\n",
      " 1 0 0 1 0 1 1 0 1 1 1 1 1 0 0 0 0 0 1 0 1 1 0 0 0 1 0 0 0 1 1 1 0 1 0 1 0\n",
      " 1 1 1 0 1 1 1 0 0 0 0 1 1 0 0 1 0 0 0 0 0 0 1 0 0 1 0 0 0 1 1 1 0 0 0 0 1\n",
      " 0 1 1 1 1 0 0 1 0 0 0 1 1 1 1 1 1 0 1 1 0 1 1 0 0 1 1 1 1 1 1 1 1 0 0 1 0\n",
      " 1 0 1 0 1 1 0 1 1 0 1 1 0 1 0 1 0 0 1 0 1 1 1 1 0 0 0 0 1 1 0 1 1 1 1 0 0\n",
      " 1 0 1 1 1 0 0 0 1 1 1 1 0 0 1 1 1 0 1 1 0 1 0 0 0 1 0 1 1 1 0 0 0 0 1 0 0\n",
      " 1 1 1 0 0 1 0 1 1 1 0 0 1 0 1 0 0 1 1 0 1 1 1 0 1 0 1 1 0 1 1 1 1 0 1 0 1\n",
      " 0 0 0 1 0 0 0 0 0 0 0 1 0 1 0 0 0 0 1 0 1 0 0 0 0 0 1 0 1 1 0 1 0 0 1 0 0\n",
      " 0 0 1 0 1 0 0 1 0 0 1 1 1 1 0 0 1 0 1 0 1 1 0 0 0 1 1 1 0 1 0 0 1 1 1 0 1\n",
      " 1 1 1 0 0 0 1 1 1 0 0 1 0 1 0 1 0 0 1 1 0 0 1 0 0 1 0 1 0 1 0 0 0 0 1 0 0\n",
      " 0 1 1 1 0 0 0 0 0 1 0 0 1 0 1 0 0 1 1 0 1 1 1 1 0 1 0 0 1 1 1 0 1 1 0 1 1\n",
      " 0 1 0 0 0 1 0 0 1 0 1 1 1 0 1 0 1 0 0 0 1 1 0 1 1 1 1 0 0 1 0 1 0 0 1 1 0\n",
      " 0 0 0 0 0 1 1 1 0 1 0 0 1 0 0 0 0 1 0 0 0 1 1 0 0 1 1 0 0 0 1 1 0 1 1 1 1\n",
      " 0 1 1 0 1 1 0 0 1 0 1 1 1 0 0 1 0 1 1 0 0 1 1 1 0 1 0 0 1 1 0 0 0 1 0 0 0\n",
      " 1]\n",
      "[1 1 1 1 1 1 0 0 1 0 0 1 1 0 1 1 0 1 0 0 0 1 0 1 0 1 0 0 1 1 1 0 0 0 1 1 1\n",
      " 1 1 0 1 1 1 1 1 0 1 1 1 0 1 1 1 1 0 1 1 0 0 1 0 1 0 0 1 0 0 0 0 1 0 1 0 0\n",
      " 1 1 0 1 0 1 1 1 0 1 1 0 1 1 0 1 1 0 1 0 1 0 1 1 0 0 0 1 1 1 0 0 1 1 0 1 0\n",
      " 1 0 0 1 0 1 0 0 0 1 0 1 0 1 0 0 0 1 1 1 0 1 0 0 1 1 0 1 1 1 1 1 1 0 1 0 1\n",
      " 1 0 1 1 1 0 0 0 0 1 0 0 0 1 1 0 0 0 0 1 1 0 0 1 1 0 0 1 1 0 0 0 0 0 1 1 1\n",
      " 0 1 1 1 1 0 1 1 0 0 1 0 1 1 1 0 0 0 0 0 1 0 1 1 1 0 1 1 0 1 1 1 1 1 0 0 0\n",
      " 0 0 1 1 0 1 1 0 0 1 0 0 1 0 1 1 1 0 1 1 0 1 0 0 0 1 1 1 1 0 0 1 1 0 0 1 1\n",
      " 1 1 0 1 0 0 1 1 1 0 0 1 1 0 1 1 1 0 1 1 1 0 0 1 0 1 0 0 0 1 0 1 1 1 0 0 0\n",
      " 0 0 0 0 1 1 0 0 0 1 1 1 0 1 1 1 0 1 1 0 1 1 1 0 0 0 1 0 0 1 1 0 0 0 1 0 0\n",
      " 1 1 1 1 1 0 0 1 0 0 0 1 1 1 0 0 0 0 0 1 0 1 0 0 0 1 0 1 0 0 1 0 1 1 0 1 0\n",
      " 1 1 0 0 0 1 0 1 0 1 0 1 0 1 1 1 1 1 1 0 0 1 1 0 0 1 1 1 1 0 0 1 0 0 1 0 0\n",
      " 1 0 1 1 0 0 1 1 0 1 1 0 0 1 0 0 0 1 0 0 1 1 1 0 0 1 1 1 1 1 0 1 1 0 0 0 0\n",
      " 0 1 1 1 1 1 0 1 1 1 0 1 0 1 0 1 1 1 1 0 1 0 0 1 0 0 0 1 1 1 0 0 0 1 0 0 1\n",
      " 1 0 0 1 0 0 0 1 0 0 0 0 1 1 0 0 1 0 0 0 0 1 1 1 1 1 0 0 1 1 0 0 1 1 1 0 1\n",
      " 1 0 0 1 0 1 1 0 1 1 1 1 1 0 0 0 0 0 1 0 1 1 0 0 0 1 0 0 0 1 1 1 0 1 0 1 0\n",
      " 1 1 1 0 1 1 1 0 0 0 0 1 1 0 0 1 0 0 0 0 0 0 1 0 0 1 0 0 0 1 1 1 0 0 0 0 1\n",
      " 0 1 1 1 1 0 0 1 0 0 0 1 1 1 1 1 1 0 1 1 0 1 1 0 0 1 1 1 1 1 1 1 1 0 0 1 0\n",
      " 1 0 1 0 1 1 0 1 1 0 1 1 0 1 0 1 0 0 1 0 1 1 1 1 0 0 0 0 1 1 0 1 1 1 1 0 0\n",
      " 1 0 1 1 1 0 0 0 1 1 1 1 0 0 1 1 1 0 1 1 0 1 0 0 0 1 0 1 1 1 0 0 0 0 1 0 0\n",
      " 1 1 1 0 0 1 0 1 1 1 0 0 1 0 1 0 0 1 1 0 1 1 1 0 1 0 1 1 0 1 1 1 1 0 1 0 1\n",
      " 0 0 0 1 0 0 0 0 0 0 0 1 0 1 0 0 0 0 1 0 1 0 0 0 0 0 1 0 1 1 0 1 0 0 1 0 0\n",
      " 0 0 1 0 1 0 0 1 0 0 1 1 1 1 0 0 1 0 1 0 1 1 0 0 0 1 1 1 0 1 0 0 1 1 1 0 1\n",
      " 1 1 1 0 0 0 1 1 1 0 0 1 0 1 0 1 0 0 1 1 0 0 1 0 0 1 0 1 0 1 0 0 0 0 1 0 0\n",
      " 0 1 1 1 0 0 0 0 0 1 0 0 1 0 1 0 0 1 1 0 1 1 1 1 0 1 0 0 1 1 1 0 1 1 0 1 1\n",
      " 0 1 0 0 0 1 0 0 1 0 1 1 1 0 1 0 1 0 0 0 1 1 0 1 1 1 1 0 0 1 0 1 0 0 1 1 0\n",
      " 0 0 0 0 0 1 1 1 0 1 0 0 1 0 0 0 0 1 0 0 0 1 1 0 0 1 1 0 0 0 1 1 0 1 1 1 1\n",
      " 0 1 1 0 1 1 0 0 1 0 1 1 1 0 0 1 0 1 1 0 0 1 1 1 0 1 0 0 1 1 0 0 0 1 0 0 0\n",
      " 1]\n",
      "wrong: 0\n"
     ]
    }
   ],
   "source": [
    "# add up longer numbers by transitioning state\n",
    "\n",
    "def test_add_long(s):\n",
    "    a, b, p = data(s)\n",
    "    model = np.zeros([s])\n",
    "    \n",
    "    h_state = np.zeros([1, H])\n",
    "    for i in reversed(range(len(a))):\n",
    "        fd = {xs[0]: pair(i, a, b),\n",
    "              h_p: h_state}\n",
    "        h_state = hs[0].eval(fd)\n",
    "        model_p = ys[0].eval(fd)\n",
    "        model[i] = model_p\n",
    "    \n",
    "    model = np.round(model)\n",
    "    model = model.astype(np.int32)\n",
    "    \n",
    "    wrong = np.sum(np.logical_xor(model, p))\n",
    "    percentage = (s-wrong) / float(s)\n",
    "    \n",
    "    return model, p, wrong\n",
    "        \n",
    "model, true, wrong = test_add_long(1000)\n",
    "\n",
    "print(true)\n",
    "print(model)\n",
    "print('wrong: {}'.format(wrong))"
   ]
  },
  {
   "cell_type": "code",
   "execution_count": 320,
   "metadata": {
    "collapsed": false
   },
   "outputs": [
    {
     "name": "stdout",
     "output_type": "stream",
     "text": [
      "correct: 100.0%\n"
     ]
    }
   ],
   "source": [
    "def test_batch(b):\n",
    "    s = 20 # add up 10 digit numbers\n",
    "    w = 0.0\n",
    "    for i in range(b):\n",
    "        model, true, wrong = test_add_long(s)\n",
    "        if wrong > 0:\n",
    "            w += 1.0\n",
    "    print('correct: {}%'.format(100.0 * float((b - w)) / float(b)))\n",
    "    \n",
    "test_batch(100)"
   ]
  },
  {
   "cell_type": "code",
   "execution_count": 322,
   "metadata": {
    "collapsed": false
   },
   "outputs": [
    {
     "name": "stdout",
     "output_type": "stream",
     "text": [
      "saved\n"
     ]
    }
   ],
   "source": [
    "# save model parameters\n",
    "saver = tf.train.Saver()\n",
    "\n",
    "saver.save(session, './model.ckpt')\n",
    "print('saved')"
   ]
  },
  {
   "cell_type": "code",
   "execution_count": 7,
   "metadata": {
    "collapsed": false
   },
   "outputs": [
    {
     "name": "stdout",
     "output_type": "stream",
     "text": [
      "restored\n"
     ]
    }
   ],
   "source": [
    "# load model parameters\n",
    "saver = tf.train.Saver()\n",
    "\n",
    "saver.restore(session, './model.ckpt')\n",
    "print('restored')"
   ]
  },
  {
   "cell_type": "code",
   "execution_count": null,
   "metadata": {
    "collapsed": true
   },
   "outputs": [],
   "source": []
  },
  {
   "cell_type": "code",
   "execution_count": null,
   "metadata": {
    "collapsed": true
   },
   "outputs": [],
   "source": []
  }
 ],
 "metadata": {
  "kernelspec": {
   "display_name": "Python 2",
   "language": "python",
   "name": "python2"
  },
  "language_info": {
   "codemirror_mode": {
    "name": "ipython",
    "version": 2
   },
   "file_extension": ".py",
   "mimetype": "text/x-python",
   "name": "python",
   "nbconvert_exporter": "python",
   "pygments_lexer": "ipython2",
   "version": "2.7.11"
  }
 },
 "nbformat": 4,
 "nbformat_minor": 0
}
