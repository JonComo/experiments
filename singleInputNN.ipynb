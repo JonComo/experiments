{
 "cells": [
  {
   "cell_type": "markdown",
   "metadata": {},
   "source": [
    "<h2>NN Model, 1 input, 1 output, model complex function?</h2>"
   ]
  },
  {
   "cell_type": "code",
   "execution_count": 1,
   "metadata": {
    "collapsed": true
   },
   "outputs": [],
   "source": [
    "%matplotlib inline"
   ]
  },
  {
   "cell_type": "code",
   "execution_count": 2,
   "metadata": {
    "collapsed": true
   },
   "outputs": [],
   "source": [
    "import tensorflow as tf\n",
    "from matplotlib import pyplot as plt\n",
    "import numpy as np\n",
    "from scipy.stats import logistic\n",
    "from matplotlib import gridspec"
   ]
  },
  {
   "cell_type": "code",
   "execution_count": 127,
   "metadata": {
    "collapsed": false
   },
   "outputs": [],
   "source": [
    "# The true function\n",
    "def true_function(x):\n",
    "    return [1, 3, 1, 3, 1, 3][x]\n",
    "\n",
    "def act(x):\n",
    "    #return logistic.cdf(x)\n",
    "    return x * (x>0)\n",
    "\n",
    "def actp(x):\n",
    "    #return logistic._pdf(x)\n",
    "    return S"
   ]
  },
  {
   "cell_type": "code",
   "execution_count": 128,
   "metadata": {
    "collapsed": false
   },
   "outputs": [],
   "source": [
    "# NN model\n",
    "IN = 1\n",
    "HIDDEN = 6\n",
    "OUT = 1\n",
    "\n",
    "W1 = np.random.random_sample((HIDDEN, 1))\n",
    "b1 = np.random.random_sample((HIDDEN, 1))\n",
    "\n",
    "W2 = np.random.random_sample((1, HIDDEN))\n",
    "\n",
    "def run(x, t=None, alpha=0.01):\n",
    "    global W1, b1, W2\n",
    "    \n",
    "    z1 = W1.dot(x) + b1 # HIDDEN x 1\n",
    "    h1 = act(z1)\n",
    "    \n",
    "    y = W2.dot(h1)\n",
    "    \n",
    "    if t is not None:\n",
    "        # Train\n",
    "        delta_y = y - t # OUT x OUT\n",
    "        gW2 = np.multiply(delta_y, h1.T)\n",
    "        \n",
    "        delta_h1 = delta_y.dot(W2).T\n",
    "        delta_z1 = np.multiply(delta_h1, actp(z1))\n",
    "        \n",
    "        gW1 = np.multiply(delta_z1, x)\n",
    "        gb1 = delta_z1\n",
    "        \n",
    "        W1 -= alpha * gW1\n",
    "        W2 -= alpha * gW2\n",
    "        b1 -= alpha * gb1\n",
    "    \n",
    "    return y"
   ]
  },
  {
   "cell_type": "code",
   "execution_count": 142,
   "metadata": {
    "collapsed": false
   },
   "outputs": [
    {
     "data": {
      "text/plain": [
       "[<matplotlib.lines.Line2D at 0x7f2b13034e90>]"
      ]
     },
     "execution_count": 142,
     "metadata": {},
     "output_type": "execute_result"
    },
    {
     "data": {
      "image/png": "[encoded data removed]",
      "text/plain": [
       "<matplotlib.figure.Figure at 0x7f2b14073410>"
      ]
     },
     "metadata": {},
     "output_type": "display_data"
    }
   ],
   "source": [
    "for i in xrange(10000):\n",
    "    # Get a random pair\n",
    "    data_x = np.random.randint(6)\n",
    "    data_t = true_function(data_x)\n",
    "    \n",
    "    y = run([[data_x]], t=[[data_t]], alpha=0.05)\n",
    "    #y = run(x=[[1]], t=[[4]], alpha=0.1)\n",
    "    \n",
    "# Evaluate the model\n",
    "tys = []\n",
    "mys = []\n",
    "for data_x in range(6):\n",
    "    true_y = true_function(data_x)\n",
    "    model_y = run(x=[[data_x]])[0][0]\n",
    "    tys.append(true_y)\n",
    "    mys.append(model_y)\n",
    "\n",
    "    \n",
    "gs = gridspec.GridSpec(1, 2)\n",
    "\n",
    "plt.figure(figsize=(16,4))\n",
    "\n",
    "plt.subplot(gs[0])\n",
    "plt.axis([0, 5, 0, 10])\n",
    "f = plt.plot(range(6), tys, c='b')\n",
    "plt.plot(range(6), mys, c='r')\n",
    "\n",
    "plt.subplot(gs[1])\n",
    "plt.plot(W1, c='r')\n",
    "plt.plot(b1, c='g')\n",
    "plt.plot(W2.T, c='b')"
   ]
  },
  {
   "cell_type": "code",
   "execution_count": null,
   "metadata": {
    "collapsed": true
   },
   "outputs": [],
   "source": []
  },
  {
   "cell_type": "code",
   "execution_count": null,
   "metadata": {
    "collapsed": true
   },
   "outputs": [],
   "source": []
  },
  {
   "cell_type": "code",
   "execution_count": null,
   "metadata": {
    "collapsed": true
   },
   "outputs": [],
   "source": []
  },
  {
   "cell_type": "code",
   "execution_count": null,
   "metadata": {
    "collapsed": true
   },
   "outputs": [],
   "source": []
  },
  {
   "cell_type": "code",
   "execution_count": null,
   "metadata": {
    "collapsed": true
   },
   "outputs": [],
   "source": []
  },
  {
   "cell_type": "code",
   "execution_count": null,
   "metadata": {
    "collapsed": true
   },
   "outputs": [],
   "source": []
  },
  {
   "cell_type": "code",
   "execution_count": null,
   "metadata": {
    "collapsed": true
   },
   "outputs": [],
   "source": []
  },
  {
   "cell_type": "code",
   "execution_count": null,
   "metadata": {
    "collapsed": true
   },
   "outputs": [],
   "source": []
  },
  {
   "cell_type": "code",
   "execution_count": null,
   "metadata": {
    "collapsed": true
   },
   "outputs": [],
   "source": []
  },
  {
   "cell_type": "code",
   "execution_count": null,
   "metadata": {
    "collapsed": true
   },
   "outputs": [],
   "source": []
  },
  {
   "cell_type": "code",
   "execution_count": null,
   "metadata": {
    "collapsed": true
   },
   "outputs": [],
   "source": []
  },
  {
   "cell_type": "code",
   "execution_count": null,
   "metadata": {
    "collapsed": true
   },
   "outputs": [],
   "source": []
  },
  {
   "cell_type": "code",
   "execution_count": null,
   "metadata": {
    "collapsed": true
   },
   "outputs": [],
   "source": []
  },
  {
   "cell_type": "code",
   "execution_count": null,
   "metadata": {
    "collapsed": true
   },
   "outputs": [],
   "source": []
  }
 ],
 "metadata": {
  "kernelspec": {
   "display_name": "Python 2",
   "language": "python",
   "name": "python2"
  },
  "language_info": {
   "codemirror_mode": {
    "name": "ipython",
    "version": 2
   },
   "file_extension": ".py",
   "mimetype": "text/x-python",
   "name": "python",
   "nbconvert_exporter": "python",
   "pygments_lexer": "ipython2",
   "version": "2.7.11"
  }
 },
 "nbformat": 4,
 "nbformat_minor": 0
}
