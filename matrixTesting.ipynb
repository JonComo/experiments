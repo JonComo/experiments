{
 "cells": [
  {
   "cell_type": "code",
   "execution_count": 1,
   "metadata": {
    "collapsed": true
   },
   "outputs": [],
   "source": [
    "import numpy as np"
   ]
  },
  {
   "cell_type": "code",
   "execution_count": 51,
   "metadata": {
    "collapsed": false
   },
   "outputs": [
    {
     "name": "stdout",
     "output_type": "stream",
     "text": [
      "x [[ 0.561  0.828  0.8    0.979  0.725  0.759  0.494  0.148  0.51   0.936]\n",
      " [ 0.867  0.808  0.434  0.287  0.028  0.236  0.527  0.108  0.568  0.252]\n",
      " [ 0.934  0.291  0.885  0.854  0.271  0.649  0.613  0.972  0.234  0.713]\n",
      " [ 0.531  0.693  0.358  0.298  0.806  0.286  0.238  0.346  0.788  0.824]\n",
      " [ 0.118  0.984  0.21   0.159  0.809  0.32   0.773  0.168  0.943  0.995]\n",
      " [ 0.595  0.068  0.484  0.553  0.884  0.01   0.435  0.55   0.238  0.387]\n",
      " [ 0.626  0.987  0.646  0.085  0.437  0.049  0.775  0.718  0.334  0.94 ]\n",
      " [ 0.264  0.678  0.025  0.049  0.549  0.754  0.064  0.212  0.438  0.948]\n",
      " [ 0.577  0.484  0.078  0.477  0.889  0.505  0.957  0.609  0.164  0.749]\n",
      " [ 0.086  0.098  0.993  0.012  0.     0.365  0.152  0.569  0.332  0.664]]\n",
      "t [[ 0.561  0.828  0.8    0.979  0.725  0.759  0.494  0.148  0.51   0.936]\n",
      " [ 0.867  0.808  0.434  0.287  0.028  0.236  0.527  0.108  0.568  0.252]\n",
      " [ 0.934  0.291  0.885  0.854  0.271  0.649  0.613  0.972  0.234  0.713]\n",
      " [ 0.531  0.693  0.358  0.298  0.806  0.286  0.238  0.346  0.788  0.824]\n",
      " [ 0.118  0.984  0.21   0.159  0.809  0.32   0.773  0.168  0.943  0.995]\n",
      " [ 0.595  0.068  0.484  0.553  0.884  0.01   0.435  0.55   0.238  0.387]\n",
      " [ 0.626  0.987  0.646  0.085  0.437  0.049  0.775  0.718  0.334  0.94 ]\n",
      " [ 0.264  0.678  0.025  0.049  0.549  0.754  0.064  0.212  0.438  0.948]\n",
      " [ 0.577  0.484  0.078  0.477  0.889  0.505  0.957  0.609  0.164  0.749]\n",
      " [ 0.086  0.098  0.993  0.012  0.     0.365  0.152  0.569  0.332  0.664]]\n"
     ]
    }
   ],
   "source": [
    "x = np.random.random_sample((10,10))\n",
    "W = np.random.random_sample((10,10))\n",
    "t = np.random.random_sample((10,10))\n",
    "\n",
    "# Original exuation x.dot(W)==t\n",
    "# Solve for W, x.dot(xi).dot(W)==t.dot(xi), W==t.dot(xi)\n",
    "xi = np.linalg.inv(x)\n",
    "\n",
    "Ws = xi.dot(t)\n",
    "\n",
    "print 'x', np.round(x.dot(Ws), 3)\n",
    "print 't', np.round(t, 3)"
   ]
  },
  {
   "cell_type": "code",
   "execution_count": 52,
   "metadata": {
    "collapsed": false
   },
   "outputs": [
    {
     "name": "stdout",
     "output_type": "stream",
     "text": [
      "[0, 1, 2, 3, 4, 5, 6, 7, 8, 9]\n"
     ]
    }
   ],
   "source": [
    "print range(10)"
   ]
  },
  {
   "cell_type": "code",
   "execution_count": null,
   "metadata": {
    "collapsed": true
   },
   "outputs": [],
   "source": []
  }
 ],
 "metadata": {
  "kernelspec": {
   "display_name": "Python 2",
   "language": "python",
   "name": "python2"
  },
  "language_info": {
   "codemirror_mode": {
    "name": "ipython",
    "version": 2
   },
   "file_extension": ".py",
   "mimetype": "text/x-python",
   "name": "python",
   "nbconvert_exporter": "python",
   "pygments_lexer": "ipython2",
   "version": "2.7.10"
  }
 },
 "nbformat": 4,
 "nbformat_minor": 0
}
