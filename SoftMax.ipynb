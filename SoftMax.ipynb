{
 "cells": [
  {
   "cell_type": "code",
   "execution_count": 1,
   "metadata": {
    "collapsed": false
   },
   "outputs": [
    {
     "name": "stdout",
     "output_type": "stream",
     "text": [
      "[ 0.31002552  0.68997448]\n",
      "[ 0.42555748  0.57444252]\n",
      "[  9.99981542e-01   1.84578933e-05]\n"
     ]
    }
   ],
   "source": [
    "import numpy as np\n",
    "npa = np.array\n",
    " \n",
    "def softmax(w, t = 1.0):\n",
    "    e = np.exp(npa(w) / t)\n",
    "    dist = e / np.sum(e)\n",
    "    return dist\n",
    " \n",
    " \n",
    "w = np.array([0.1,0.9])\n",
    "print softmax(w)\n",
    "\n",
    "w = np.array([-0.1,0.2])\n",
    "print softmax(w)\n",
    "\n",
    "w = np.array([0.9,-10])\n",
    "print softmax(w)"
   ]
  }
 ],
 "metadata": {
  "kernelspec": {
   "display_name": "Python 2",
   "language": "python",
   "name": "python2"
  },
  "language_info": {
   "codemirror_mode": {
    "name": "ipython",
    "version": 2
   },
   "file_extension": ".py",
   "mimetype": "text/x-python",
   "name": "python",
   "nbconvert_exporter": "python",
   "pygments_lexer": "ipython2",
   "version": "2.7.10"
  }
 },
 "nbformat": 4,
 "nbformat_minor": 0
}
