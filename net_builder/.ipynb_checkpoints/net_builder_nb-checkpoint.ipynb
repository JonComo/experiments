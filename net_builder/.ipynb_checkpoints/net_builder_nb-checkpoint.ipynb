{
 "cells": [
  {
   "cell_type": "code",
   "execution_count": 1,
   "metadata": {
    "collapsed": false
   },
   "outputs": [
    {
     "data": {
      "text/plain": [
       "(6, 0)"
      ]
     },
     "execution_count": 1,
     "metadata": {},
     "output_type": "execute_result"
    }
   ],
   "source": [
    "import numpy as np\n",
    "import pygame\n",
    "pygame.init()"
   ]
  },
  {
   "cell_type": "code",
   "execution_count": 2,
   "metadata": {
    "collapsed": true
   },
   "outputs": [],
   "source": [
    "class Neuron(object):\n",
    "    def __init__(self, p=(0,0), inputs=[], outputs=[]):\n",
    "        self.p = p\n",
    "        self.inputs = inputs\n",
    "        self.outputs = outputs\n",
    "        self.z = 0.0\n",
    "        \n",
    "    def update(self):\n",
    "        self.z = np.random.random_sample()\n",
    "        \n",
    "    def render(self, window, layer):\n",
    "        if layer == 0:\n",
    "            for n in self.outputs:\n",
    "                pygame.draw.line(window.screen, (255,255,255), self.p, n.p, 1)\n",
    "        elif layer == 1:\n",
    "            pygame.draw.circle(window.screen, (0,0,0), self.p, 20)\n",
    "            pygame.draw.circle(window.screen, (255,255,255), self.p, 20, 1)\n",
    "            text = window.font.render(str(round(self.z, 2)), 1, (255,255,255))\n",
    "            rect = text.get_rect()\n",
    "            rect.centerx = self.p[0]\n",
    "            rect.centery = self.p[1]\n",
    "            window.screen.blit(text, rect)"
   ]
  },
  {
   "cell_type": "code",
   "execution_count": 3,
   "metadata": {
    "collapsed": false
   },
   "outputs": [],
   "source": [
    "class Window(object):\n",
    "    def __init__(self, size=(600, 600), name=\"NN Builder\", update_func=None):\n",
    "        self.screen = pygame.display.set_mode(size)\n",
    "        pygame.display.set_caption(name)\n",
    "        self.mouseDown = False\n",
    "        self.mousePos = (0, 0)\n",
    "        \n",
    "        self.font = pygame.font.Font(None, 16)\n",
    "        \n",
    "        self.running = True\n",
    "        \n",
    "        while self.running:\n",
    "            for event in pygame.event.get():\n",
    "                if event.type == pygame.QUIT:\n",
    "                    self.running = False\n",
    "                elif event.type == pygame.MOUSEBUTTONDOWN:\n",
    "                    self.mouseDown = True\n",
    "                elif event.type == pygame.MOUSEBUTTONUP:\n",
    "                    self.mouseDown = False\n",
    "                    \n",
    "            self.mousePos = pygame.mouse.get_pos()\n",
    "            \n",
    "            self.screen.fill((0,0,0))\n",
    "            update_func(self)\n",
    "            pygame.display.flip()\n",
    "                    \n",
    "        pygame.display.quit()"
   ]
  },
  {
   "cell_type": "code",
   "execution_count": 4,
   "metadata": {
    "collapsed": false
   },
   "outputs": [],
   "source": [
    "layer0 = [Neuron(), Neuron(), Neuron()]\n",
    "layer1 = [Neuron(), Neuron(), Neuron()]\n",
    "layer2 = [Neuron()]\n",
    "\n",
    "for n in layer0:\n",
    "    n.outputs = layer1\n",
    "for n in layer1:\n",
    "    n.outputs = layer2\n",
    "    \n",
    "objs = layer0 + layer1 + layer2\n",
    "\n",
    "dragging = None\n",
    "\n",
    "def closest(objs, pos):\n",
    "    c = None\n",
    "    cd = float('+inf')\n",
    "    for o in objs:\n",
    "        d = np.square(o.p[0] - pos[0]) + np.square(o.p[1] - pos[1])\n",
    "        if d < cd:\n",
    "            cd = d\n",
    "            c = o\n",
    "    return c\n",
    "\n",
    "def update(window):\n",
    "    global dragging\n",
    "    \n",
    "    if window.mouseDown:\n",
    "        if dragging is None:\n",
    "            dragging = closest(objs, window.mousePos)\n",
    "    else:\n",
    "        dragging = None\n",
    "            \n",
    "    if dragging:\n",
    "        dragging.p = window.mousePos\n",
    "    \n",
    "    for o in objs:\n",
    "        o.update()\n",
    "    \n",
    "    for o in objs:\n",
    "        o.render(window, layer=0)\n",
    "        \n",
    "    for o in objs:\n",
    "        o.render(window, layer=1)\n",
    "\n",
    "window = Window((600,600), update_func=update)"
   ]
  },
  {
   "cell_type": "code",
   "execution_count": null,
   "metadata": {
    "collapsed": true
   },
   "outputs": [],
   "source": []
  }
 ],
 "metadata": {
  "kernelspec": {
   "display_name": "Python 2",
   "language": "python",
   "name": "python2"
  },
  "language_info": {
   "codemirror_mode": {
    "name": "ipython",
    "version": 2
   },
   "file_extension": ".py",
   "mimetype": "text/x-python",
   "name": "python",
   "nbconvert_exporter": "python",
   "pygments_lexer": "ipython2",
   "version": "2.7.11"
  }
 },
 "nbformat": 4,
 "nbformat_minor": 0
}
