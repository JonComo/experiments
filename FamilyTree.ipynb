{
 "metadata": {
  "name": "",
  "signature": "sha256:7c070ac4275a4a6bcf56fa3144c06590037357b9feb3765f1bf0b159beafcab9"
 },
 "nbformat": 3,
 "nbformat_minor": 0,
 "worksheets": [
  {
   "cells": [
    {
     "cell_type": "code",
     "collapsed": false,
     "input": [
      "import sys\n",
      "import random\n",
      "\n",
      "class P(object):\n",
      "    #keys\n",
      "    son = 'son'\n",
      "    daughter = 'daughter'\n",
      "    nephew = 'nephew'\n",
      "    niece = 'niece'\n",
      "    father = 'father'\n",
      "    mother = 'mother'\n",
      "    uncle = 'uncle'\n",
      "    aunt = 'aunt'\n",
      "    brother = 'brother'\n",
      "    sister = 'sister'\n",
      "    husband = 'husband'\n",
      "    wife = 'wife'\n",
      "        \n",
      "    def __init__(self, name, relationships={}):\n",
      "        self.name = name\n",
      "        self.relationships = relationships\n",
      "        \n",
      "    def relation(self, key):\n",
      "        if key in self.relationships:\n",
      "            return self.relationships[key]\n",
      "        return None\n",
      "            \n",
      "    def description(self):\n",
      "        sys.stdout.write(self.name+': ')\n",
      "        if self.relationships is None:\n",
      "            return\n",
      "        for key in self.relationships:\n",
      "            sys.stdout.write(key+' '+self.relationships[key]+' ')\n",
      "        sys.stdout.write('\\n')\n",
      "\n",
      "#English\n",
      "Christopher = P(name='Christopher', relationships={P.wife:'Penelope',P.son:'Arthur',P.daughter:'Victoria'})\n",
      "Penelope = P(name='Penelope', relationships={P.husband:'Christopher',P.son:'Arthur',P.daughter:'Victoria'})\n",
      "\n",
      "Andrew = P(name='Andrew', relationships={P.wife:'Christine',P.son:'James',P.daughter:'Jennifer'})\n",
      "Christine = P(name='Christine', relationships={P.husband:'Andrew',P.son:'James',P.daughter:'Jennifer'})\n",
      "\n",
      "Margaret = P(name='Margaret', relationships={P.husband:'Arthur'})\n",
      "Arthur = P(name='Arthur', relationships={P.wife:'Margaret'})\n",
      "\n",
      "Victoria = P(name='Victoria', relationships={P.husband:'James',P.son:'Colin',P.daughter:'Charlotte'})\n",
      "James = P(name='James', relationships={P.wife:'Victoria',P.son:'Colin',P.daughter:'Charlotte'})\n",
      "\n",
      "Jennifer = P(name='Jennifer', relationships={P.husband:'Charles'})\n",
      "Charles = P(name='Charles', relationships={P.wife:'Jennifer'})\n",
      "\n",
      "Colin = P(name='Colin')\n",
      "Charlotte = P(name='Charlotte')\n",
      "\n",
      "people = [Christopher, Penelope, Andrew, Christine, Margaret, Arthur, Victoria, James, Jennifer, Charles, Colin, Charlotte]"
     ],
     "language": "python",
     "metadata": {},
     "outputs": [],
     "prompt_number": 134
    },
    {
     "cell_type": "code",
     "collapsed": false,
     "input": [
      "#Choose random person and random relationship\n",
      "person = random.choice(people)\n",
      "while len(person.relationships.keys()) == 0:\n",
      "    person = random.choice(people)\n",
      "    \n",
      "key = random.choice(person.relationships.keys())\n",
      "print person.name, key, person.relation(key)"
     ],
     "language": "python",
     "metadata": {},
     "outputs": [
      {
       "output_type": "stream",
       "stream": "stdout",
       "text": [
        "Charles wife Jennifer\n"
       ]
      }
     ],
     "prompt_number": 466
    },
    {
     "cell_type": "code",
     "collapsed": false,
     "input": [],
     "language": "python",
     "metadata": {},
     "outputs": []
    }
   ],
   "metadata": {}
  }
 ]
}