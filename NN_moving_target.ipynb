{
 "cells": [
  {
   "cell_type": "code",
   "execution_count": 6,
   "metadata": {
    "collapsed": true
   },
   "outputs": [],
   "source": [
    "%matplotlib inline"
   ]
  },
  {
   "cell_type": "code",
   "execution_count": 7,
   "metadata": {
    "collapsed": true
   },
   "outputs": [],
   "source": [
    "import tensorflow as tf\n",
    "from matplotlib import pyplot as plt\n",
    "import numpy as np"
   ]
  },
  {
   "cell_type": "code",
   "execution_count": 46,
   "metadata": {
    "collapsed": false
   },
   "outputs": [],
   "source": [
    "STATES = 5\n",
    "GAMMA = 0.8\n",
    "ALPHA = 0.1\n",
    "\n",
    "T = np.zeros((STATES, STATES))\n",
    "for i in range(STATES):\n",
    "    rand = np.random.random_sample((1, STATES))\n",
    "    T[i] = rand / np.sum(rand)\n",
    "    \n",
    "T[4,:] = [0, 0, 0, 0, 1]\n",
    "    \n",
    "r = np.zeros((STATES))\n",
    "r[2] = 1"
   ]
  },
  {
   "cell_type": "code",
   "execution_count": 47,
   "metadata": {
    "collapsed": false
   },
   "outputs": [
    {
     "data": {
      "image/png": "[encoded data removed]",
      "text/plain": [
       "<matplotlib.figure.Figure at 0x112280908>"
      ]
     },
     "metadata": {},
     "output_type": "display_data"
    }
   ],
   "source": [
    "# Iteratively solve for state values\n",
    "v = [0] * STATES\n",
    "\n",
    "for s in range(STATES-1):\n",
    "    for i in range(100):\n",
    "        si = s\n",
    "        while si != STATES - 1:\n",
    "            si_prev = si\n",
    "            si = np.random.choice(range(STATES), p=T[si,:])\n",
    "            v[si_prev] += ALPHA * (r[si_prev] + GAMMA * v[si] - v[si_prev])\n",
    "            \n",
    "fig = plt.plot(v)"
   ]
  },
  {
   "cell_type": "code",
   "execution_count": 48,
   "metadata": {
    "collapsed": false
   },
   "outputs": [
    {
     "data": {
      "image/png": "[encoded data removed]",
      "text/plain": [
       "<matplotlib.figure.Figure at 0x112ce2710>"
      ]
     },
     "metadata": {},
     "output_type": "display_data"
    }
   ],
   "source": [
    "v_solve = np.linalg.inv(np.identity(STATES) - GAMMA * T).dot(r)\n",
    "\n",
    "fig = plt.plot(v)"
   ]
  },
  {
   "cell_type": "code",
   "execution_count": 76,
   "metadata": {
    "collapsed": false
   },
   "outputs": [],
   "source": [
    "# Define network to predict value function\n",
    "IN = 1\n",
    "HIDDEN = 3\n",
    "OUT = 1\n",
    "\n",
    "x = tf.placeholder(tf.float32)\n",
    "t = tf.placeholder(tf.float32)\n",
    "\n",
    "W1 = tf.Variable(tf.random_normal((HIDDEN, IN)))\n",
    "b1 = tf.Variable(tf.random_normal((HIDDEN, 1)))\n",
    "\n",
    "W2 = tf.Variable(tf.random_normal((HIDDEN, HIDDEN)))\n",
    "b2 = tf.Variable(tf.random_normal((HIDDEN, 1)))\n",
    "\n",
    "W3 = tf.Variable(tf.random_normal((OUT, HIDDEN)))\n",
    "\n",
    "h1 = tf.nn.sigmoid(tf.matmul(W1, x) + b1)\n",
    "h2 = tf.nn.sigmoid(tf.matmul(W2, h1) + b2)\n",
    "\n",
    "y = tf.matmul(W3, h2)\n",
    "\n",
    "cost = tf.reduce_mean(tf.square(y - t))"
   ]
  },
  {
   "cell_type": "code",
   "execution_count": 77,
   "metadata": {
    "collapsed": true
   },
   "outputs": [],
   "source": [
    "train = tf.train.GradientDescentOptimizer(0.01).minimize(cost)"
   ]
  },
  {
   "cell_type": "code",
   "execution_count": 78,
   "metadata": {
    "collapsed": true
   },
   "outputs": [],
   "source": [
    "if 'session' in globals():\n",
    "    session.close()\n",
    "    \n",
    "session = tf.InteractiveSession()\n",
    "session.run(tf.initialize_all_variables())"
   ]
  },
  {
   "cell_type": "code",
   "execution_count": 90,
   "metadata": {
    "collapsed": false
   },
   "outputs": [],
   "source": [
    "for i in range(20000):\n",
    "    s_prev = np.random.randint(STATES)\n",
    "    features_1 = [[s_prev]]\n",
    "\n",
    "    # features_1 = [[si]]\n",
    "    # v1 = y.eval(feed_dict={x: features_1})\n",
    "\n",
    "    s = np.random.choice(range(STATES), p=T[s_prev,:])\n",
    "    \n",
    "    features_2 = [[s]]\n",
    "    v2 = y.eval(feed_dict={x: features_2})\n",
    "    \n",
    "    target = r[s_prev] + GAMMA * v2\n",
    "    \n",
    "    session.run(train, feed_dict={x:features_1, t:target})"
   ]
  },
  {
   "cell_type": "code",
   "execution_count": 91,
   "metadata": {
    "collapsed": false
   },
   "outputs": [
    {
     "data": {
      "text/plain": [
       "[<matplotlib.lines.Line2D at 0x113a064a8>]"
      ]
     },
     "execution_count": 91,
     "metadata": {},
     "output_type": "execute_result"
    },
    {
     "data": {
      "image/png": "[encoded data removed]",
      "text/plain": [
       "<matplotlib.figure.Figure at 0x113b37b70>"
      ]
     },
     "metadata": {},
     "output_type": "display_data"
    }
   ],
   "source": [
    "fig = plt.plot([y.eval(feed_dict={x: [[si]]})[0] for si in range(STATES)], c='b')\n",
    "plt.plot(v, c='r')"
   ]
  },
  {
   "cell_type": "code",
   "execution_count": null,
   "metadata": {
    "collapsed": true
   },
   "outputs": [],
   "source": []
  }
 ],
 "metadata": {
  "kernelspec": {
   "display_name": "Python 3",
   "language": "python",
   "name": "python3"
  },
  "language_info": {
   "codemirror_mode": {
    "name": "ipython",
    "version": 3
   },
   "file_extension": ".py",
   "mimetype": "text/x-python",
   "name": "python",
   "nbconvert_exporter": "python",
   "pygments_lexer": "ipython3",
   "version": "3.4.4"
  }
 },
 "nbformat": 4,
 "nbformat_minor": 0
}
