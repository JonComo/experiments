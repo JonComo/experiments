{
 "cells": [
  {
   "cell_type": "code",
   "execution_count": 2,
   "metadata": {
    "collapsed": true
   },
   "outputs": [],
   "source": [
    "%matplotlib inline"
   ]
  },
  {
   "cell_type": "code",
   "execution_count": 6,
   "metadata": {
    "collapsed": false
   },
   "outputs": [
    {
     "data": {
      "image/png": "[encoded data removed]",
      "text/plain": [
       "<matplotlib.figure.Figure at 0x7f75e0852050>"
      ]
     },
     "metadata": {},
     "output_type": "display_data"
    }
   ],
   "source": [
    "import tensorflow as tf\n",
    "import numpy as np\n",
    "from matplotlib import pyplot as plt\n",
    "from IPython.display import clear_output\n",
    "\n",
    "NUM_STATES = 10\n",
    "NUM_ACTIONS = 2\n",
    "GAMMA = 0.5\n",
    "\n",
    "\n",
    "def hot_one_state(index):\n",
    "    array = np.zeros(NUM_STATES)\n",
    "    array[index] = 1.\n",
    "    return array\n",
    "\n",
    "# we will create a set of states, the agent get a reward for getting to the 5th one(4 in zero based array).\n",
    "# the agent can go forward or backward by one state with wrapping(so if you go back from the 1st state you go to the end).\n",
    "states = [(x == 1) for x in range(NUM_STATES)]\n",
    "# [0.0, 0.0, 0.0, 0.0, 1.0, 0.0, 0.0, 0.0, 0.0, 0.0]\n",
    "\n",
    "session = tf.Session()\n",
    "state = tf.placeholder(\"float\", [None, NUM_STATES])\n",
    "targets = tf.placeholder(\"float\", [None, NUM_ACTIONS])\n",
    "\n",
    "hidden_weights = tf.Variable(tf.constant(0., shape=[NUM_STATES, NUM_ACTIONS]))\n",
    "\n",
    "output = tf.matmul(state, hidden_weights)\n",
    "\n",
    "loss = tf.reduce_mean(tf.square(output - targets))\n",
    "train_operation = tf.train.AdamOptimizer(0.1).minimize(loss)\n",
    "\n",
    "session.run(tf.initialize_all_variables())\n",
    "\n",
    "for i in range(50):\n",
    "    state_batch = []\n",
    "    rewards_batch = []\n",
    "\n",
    "    # create a batch of states\n",
    "    for state_index in range(NUM_STATES):\n",
    "        state_batch.append(hot_one_state(state_index))\n",
    "\n",
    "        minus_action_index = (state_index - 1) % NUM_STATES\n",
    "        plus_action_index = (state_index + 1) % NUM_STATES\n",
    "\n",
    "        minus_action_state_reward = session.run(output, feed_dict={state: [hot_one_state(minus_action_index)]})[0]\n",
    "        plus_action_state_reward = session.run(output, feed_dict={state: [hot_one_state(plus_action_index)]})[0]\n",
    "\n",
    "        # these action rewards are the results of the Q function for this state and the actions minus or plus\n",
    "        action_rewards = [states[minus_action_index] + GAMMA * np.max(minus_action_state_reward),\n",
    "                          states[plus_action_index] + GAMMA * np.max(plus_action_state_reward)]\n",
    "        rewards_batch.append(action_rewards)\n",
    "\n",
    "    session.run(train_operation, feed_dict={\n",
    "        state: state_batch,\n",
    "        targets: rewards_batch})\n",
    "\n",
    "    check = [states[x] + np.max(session.run(output, feed_dict={state: [hot_one_state(x)]}))\n",
    "           for x in range(NUM_STATES)]\n",
    "    clear_output(wait=True)\n",
    "    plt.plot(check)\n",
    "    plt.show()\n",
    "    \n",
    "\n",
    "# The final output will look something like this, the values converage about the reward state.\n",
    "# [0.16162321, 0.31524473, 0.62262321, 1.2479111, 1.6226232, 1.2479111, 0.62262321, 0.31524473, 0.16162321, 0.031517841]"
   ]
  },
  {
   "cell_type": "code",
   "execution_count": null,
   "metadata": {
    "collapsed": true
   },
   "outputs": [],
   "source": []
  },
  {
   "cell_type": "code",
   "execution_count": null,
   "metadata": {
    "collapsed": true
   },
   "outputs": [],
   "source": []
  }
 ],
 "metadata": {
  "kernelspec": {
   "display_name": "Python 2",
   "language": "python",
   "name": "python2"
  },
  "language_info": {
   "codemirror_mode": {
    "name": "ipython",
    "version": 2
   },
   "file_extension": ".py",
   "mimetype": "text/x-python",
   "name": "python",
   "nbconvert_exporter": "python",
   "pygments_lexer": "ipython2",
   "version": "2.7.11"
  }
 },
 "nbformat": 4,
 "nbformat_minor": 0
}
